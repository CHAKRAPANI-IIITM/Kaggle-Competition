{
 "cells": [
  {
   "cell_type": "code",
   "execution_count": 1,
   "metadata": {
    "execution": {
     "iopub.execute_input": "2020-08-21T17:20:09.189237Z",
     "iopub.status.busy": "2020-08-21T17:20:09.188399Z",
     "iopub.status.idle": "2020-08-21T17:20:10.405614Z",
     "shell.execute_reply": "2020-08-21T17:20:10.404568Z"
    },
    "papermill": {
     "duration": 1.240136,
     "end_time": "2020-08-21T17:20:10.405796",
     "exception": false,
     "start_time": "2020-08-21T17:20:09.165660",
     "status": "completed"
    },
    "tags": []
   },
   "outputs": [],
   "source": [
    "import os\n",
    "import sys\n",
    "import pickle\n",
    "import numpy as np\n",
    "import pandas as pd\n",
    "from PIL import Image, ImageFilter\n",
    "from tqdm import tqdm\n",
    "from sklearn.preprocessing import StandardScaler,MinMaxScaler\n",
    "from sklearn.metrics import accuracy_score, mean_squared_error, log_loss, confusion_matrix\n",
    "import matplotlib.pyplot as plt\n",
    "import operator\n",
    "import json\n",
    "np.random.seed(100)\n",
    "LEVEL = 'level_4a'"
   ]
  },
  {
   "cell_type": "code",
   "execution_count": 2,
   "metadata": {
    "execution": {
     "iopub.execute_input": "2020-08-21T17:20:10.443744Z",
     "iopub.status.busy": "2020-08-21T17:20:10.442833Z",
     "iopub.status.idle": "2020-08-21T17:20:10.446201Z",
     "shell.execute_reply": "2020-08-21T17:20:10.446763Z"
    },
    "papermill": {
     "duration": 0.028165,
     "end_time": "2020-08-21T17:20:10.446950",
     "exception": false,
     "start_time": "2020-08-21T17:20:10.418785",
     "status": "completed"
    },
    "tags": []
   },
   "outputs": [],
   "source": [
    "def read_all(folder_path, key_prefix=\"\"):\n",
    "    '''\n",
    "    It returns a dictionary with 'file names' as keys and 'flattened image arrays' as values.\n",
    "    '''\n",
    "    print(\"Reading:\")\n",
    "    images = {}\n",
    "    img_thesh = lambda x : 0 if x >10  else 255\n",
    "    files = os.listdir(folder_path)\n",
    "    for i, file_name in tqdm(enumerate(files), total=len(files)):\n",
    "        file_path = os.path.join(folder_path, file_name)\n",
    "        image_index = key_prefix + file_name[:-4]\n",
    "        image = Image.open(file_path)\n",
    "        image = image.convert(\"L\").point(img_thesh)\n",
    "        image = image.filter(ImageFilter.MedianFilter)\n",
    "        images[image_index] = np.array(image.copy()).flatten()\n",
    "        image.close()\n",
    "    return images"
   ]
  },
  {
   "cell_type": "code",
   "execution_count": 3,
   "metadata": {
    "execution": {
     "iopub.execute_input": "2020-08-21T17:20:10.479512Z",
     "iopub.status.busy": "2020-08-21T17:20:10.478649Z",
     "iopub.status.idle": "2020-08-21T17:21:14.349240Z",
     "shell.execute_reply": "2020-08-21T17:21:14.348002Z"
    },
    "papermill": {
     "duration": 63.89065,
     "end_time": "2020-08-21T17:21:14.349482",
     "exception": false,
     "start_time": "2020-08-21T17:20:10.458832",
     "status": "completed"
    },
    "tags": []
   },
   "outputs": [
    {
     "name": "stdout",
     "output_type": "stream",
     "text": [
      "Reading:\n"
     ]
    },
    {
     "name": "stderr",
     "output_type": "stream",
     "text": [
      "100%|██████████| 4500/4500 [00:23<00:00, 190.21it/s]\n",
      "  1%|▏         | 19/1500 [00:00<00:08, 176.40it/s]"
     ]
    },
    {
     "name": "stdout",
     "output_type": "stream",
     "text": [
      "Reading:\n"
     ]
    },
    {
     "name": "stderr",
     "output_type": "stream",
     "text": [
      "100%|██████████| 1500/1500 [00:07<00:00, 195.10it/s]\n",
      "  2%|▏         | 27/1500 [00:00<00:05, 269.27it/s]"
     ]
    },
    {
     "name": "stdout",
     "output_type": "stream",
     "text": [
      "Reading:\n"
     ]
    },
    {
     "name": "stderr",
     "output_type": "stream",
     "text": [
      "100%|██████████| 1500/1500 [00:07<00:00, 189.92it/s]\n",
      "  0%|          | 0/1500 [00:00<?, ?it/s]"
     ]
    },
    {
     "name": "stdout",
     "output_type": "stream",
     "text": [
      "Reading:\n"
     ]
    },
    {
     "name": "stderr",
     "output_type": "stream",
     "text": [
      "100%|██████████| 1500/1500 [00:08<00:00, 185.42it/s]\n",
      "  0%|          | 0/3000 [00:00<?, ?it/s]"
     ]
    },
    {
     "name": "stdout",
     "output_type": "stream",
     "text": [
      "9000\n",
      "Reading:\n"
     ]
    },
    {
     "name": "stderr",
     "output_type": "stream",
     "text": [
      "100%|██████████| 3000/3000 [00:15<00:00, 188.56it/s]"
     ]
    },
    {
     "name": "stdout",
     "output_type": "stream",
     "text": [
      "3000\n"
     ]
    },
    {
     "name": "stderr",
     "output_type": "stream",
     "text": [
      "\n"
     ]
    }
   ],
   "source": [
    "languages = ['ta', 'hi', 'en']\n",
    "#trainPath = \"../input/padhai-text-non-text-classification-level-1/\"+LEVEL+\"_train/\"+LEVEL+\"/\"\n",
    "#testPath = \"../input/padhai-text-non-text-classification-level-1/\"+LEVEL+\"_test/kaggle_\"+LEVEL\n",
    "images_train = read_all(\"../input/text-non-text-classification-level-4a/level_4a_train/level_4a/\"+\"background\", key_prefix='bgr_') # change the path\n",
    "for language in languages:\n",
    "    images_train.update(read_all(\"../input/text-non-text-classification-level-4a/level_4a_train/level_4a/\"+language, key_prefix=language+\"_\" ))\n",
    "print(len(images_train))\n",
    "\n",
    "images_test = read_all(\"../input/text-non-text-classification-level-4a/level_4a_test/kaggle_level_4a\", key_prefix='') # change the path\n",
    "print(len(images_test))"
   ]
  },
  {
   "cell_type": "code",
   "execution_count": 4,
   "metadata": {
    "execution": {
     "iopub.execute_input": "2020-08-21T17:21:15.023144Z",
     "iopub.status.busy": "2020-08-21T17:21:15.021542Z",
     "iopub.status.idle": "2020-08-21T17:21:15.835367Z",
     "shell.execute_reply": "2020-08-21T17:21:15.834460Z"
    },
    "papermill": {
     "duration": 1.146507,
     "end_time": "2020-08-21T17:21:15.835521",
     "exception": false,
     "start_time": "2020-08-21T17:21:14.689014",
     "status": "completed"
    },
    "tags": []
   },
   "outputs": [],
   "source": [
    "! cd ../input"
   ]
  },
  {
   "cell_type": "code",
   "execution_count": 5,
   "metadata": {
    "execution": {
     "iopub.execute_input": "2020-08-21T17:21:16.440513Z",
     "iopub.status.busy": "2020-08-21T17:21:16.438763Z",
     "iopub.status.idle": "2020-08-21T17:21:16.447481Z",
     "shell.execute_reply": "2020-08-21T17:21:16.446451Z"
    },
    "papermill": {
     "duration": 0.364941,
     "end_time": "2020-08-21T17:21:16.447722",
     "exception": false,
     "start_time": "2020-08-21T17:21:16.082781",
     "status": "completed"
    },
    "tags": []
   },
   "outputs": [
    {
     "data": {
      "text/plain": [
       "['2345', '170', '1879', '438', '2257']"
      ]
     },
     "execution_count": 5,
     "metadata": {},
     "output_type": "execute_result"
    }
   ],
   "source": [
    "list(images_test.keys())[:5]"
   ]
  },
  {
   "cell_type": "code",
   "execution_count": 6,
   "metadata": {
    "execution": {
     "iopub.execute_input": "2020-08-21T17:21:16.955002Z",
     "iopub.status.busy": "2020-08-21T17:21:16.949934Z",
     "iopub.status.idle": "2020-08-21T17:21:17.029884Z",
     "shell.execute_reply": "2020-08-21T17:21:17.029227Z"
    },
    "papermill": {
     "duration": 0.328936,
     "end_time": "2020-08-21T17:21:17.030034",
     "exception": false,
     "start_time": "2020-08-21T17:21:16.701098",
     "status": "completed"
    },
    "tags": []
   },
   "outputs": [
    {
     "name": "stdout",
     "output_type": "stream",
     "text": [
      "(9000, 4096) (9000,)\n",
      "(3000, 4096)\n"
     ]
    }
   ],
   "source": [
    "X_train = []\n",
    "Y_train = []\n",
    "\n",
    "for key, value in images_train.items():\n",
    "    X_train.append(value)\n",
    "    if key[:4] == \"bgr_\":\n",
    "        Y_train.append(0)\n",
    "    else:\n",
    "        Y_train.append(1)\n",
    "\n",
    "ID_test = []\n",
    "X_test = []\n",
    "for key, value in images_test.items():\n",
    "    ID_test.append(int(key))\n",
    "    X_test.append(value)\n",
    "\n",
    "X_train = np.array(X_train)\n",
    "Y_train = np.array(Y_train)\n",
    "X_test = np.array(X_test)\n",
    "\n",
    "print(X_train.shape, Y_train.shape)\n",
    "print(X_test.shape)"
   ]
  },
  {
   "cell_type": "code",
   "execution_count": 7,
   "metadata": {
    "execution": {
     "iopub.execute_input": "2020-08-21T17:21:17.534399Z",
     "iopub.status.busy": "2020-08-21T17:21:17.533363Z",
     "iopub.status.idle": "2020-08-21T17:21:18.301603Z",
     "shell.execute_reply": "2020-08-21T17:21:18.300911Z"
    },
    "papermill": {
     "duration": 1.027183,
     "end_time": "2020-08-21T17:21:18.301750",
     "exception": false,
     "start_time": "2020-08-21T17:21:17.274567",
     "status": "completed"
    },
    "tags": []
   },
   "outputs": [],
   "source": [
    "scaler = MinMaxScaler()\n",
    "X_scaled_train = scaler.fit_transform(X_train)\n",
    "X_scaled_test = scaler.transform(X_test)"
   ]
  },
  {
   "cell_type": "code",
   "execution_count": 8,
   "metadata": {
    "execution": {
     "iopub.execute_input": "2020-08-21T17:21:18.852075Z",
     "iopub.status.busy": "2020-08-21T17:21:18.846835Z",
     "iopub.status.idle": "2020-08-21T17:21:18.863900Z",
     "shell.execute_reply": "2020-08-21T17:21:18.864542Z"
    },
    "papermill": {
     "duration": 0.277857,
     "end_time": "2020-08-21T17:21:18.864727",
     "exception": false,
     "start_time": "2020-08-21T17:21:18.586870",
     "status": "completed"
    },
    "tags": []
   },
   "outputs": [],
   "source": [
    "class SigmoidNeuron:\n",
    "    def __init__(self):\n",
    "        self.w = None\n",
    "        self.b = None\n",
    "    \n",
    "    def perceptron(self, x):\n",
    "        return np.dot(x, self.w.T) + self.b\n",
    "  \n",
    "    def sigmoid(self, x):\n",
    "        return 1.0/(1.0 + np.exp(-x))\n",
    "  \n",
    "    def grad_w_mse(self, x, y):\n",
    "        y_pred = self.sigmoid(self.perceptron(x))\n",
    "        return (y_pred - y) * y_pred * (1 - y_pred) * x\n",
    "  \n",
    "    def grad_b_mse(self, x, y):\n",
    "        y_pred = self.sigmoid(self.perceptron(x))\n",
    "        return (y_pred - y) * y_pred * (1 - y_pred)\n",
    "  \n",
    "    def grad_w_ce(self, x, y):\n",
    "        y_pred = self.sigmoid(self.perceptron(x))\n",
    "        if y == 0:\n",
    "            return y_pred * x\n",
    "        elif y == 1:\n",
    "            return -1 * (1 - y_pred) * x\n",
    "        else:\n",
    "            raise ValueError(\"y should be 0 or 1\")\n",
    "    \n",
    "    def grad_b_ce(self, x, y):\n",
    "        y_pred = self.sigmoid(self.perceptron(x))\n",
    "        if y == 0:\n",
    "            return y_pred \n",
    "        elif y == 1:\n",
    "            return -1 * (1 - y_pred)\n",
    "        else:\n",
    "            raise ValueError(\"y should be 0 or 1\")\n",
    "  \n",
    "    def fit(self, X, Y, epochs=1, learning_rate=1, initialise=True, loss_fn=\"mse\", display_loss=False):\n",
    "       # initialise w, b\n",
    "        if initialise:\n",
    "            self.w = np.random.randn(1, X.shape[1])\n",
    "            self.b = 0\n",
    "      \n",
    "        if display_loss:\n",
    "            loss = {}\n",
    "    \n",
    "        for i in tqdm(range(epochs), total=epochs, unit=\"epoch\"):\n",
    "            dw = 0\n",
    "            db = 0\n",
    "            for x, y in zip(X, Y):\n",
    "                if loss_fn == \"mse\":\n",
    "                    dw += self.grad_w_mse(x, y)\n",
    "                    db += self.grad_b_mse(x, y) \n",
    "                elif loss_fn == \"ce\":\n",
    "                    dw += self.grad_w_ce(x, y)\n",
    "                    db += self.grad_b_ce(x, y)\n",
    "            self.w -= learning_rate * dw\n",
    "            self.b -= learning_rate * db\n",
    "      \n",
    "            if display_loss:\n",
    "                Y_pred = self.sigmoid(self.perceptron(X))\n",
    "                if loss_fn == \"mse\":\n",
    "                    loss[i] = mean_squared_error(Y, Y_pred)\n",
    "                elif loss_fn == \"ce\":\n",
    "                    loss[i] = log_loss(Y, Y_pred)\n",
    "    \n",
    "        if display_loss:\n",
    "            plt.plot(np.array(list(loss.values())).astype(float))\n",
    "            plt.xlabel('Epochs')\n",
    "            if loss_fn == \"mse\":\n",
    "                plt.ylabel('Mean Squared Error')\n",
    "            elif loss_fn == \"ce\":\n",
    "                plt.ylabel('Log Loss')\n",
    "            plt.show()\n",
    "      \n",
    "    def predict(self, X):\n",
    "        Y_pred = []\n",
    "        for x in X:\n",
    "            y_pred = self.sigmoid(self.perceptron(x))\n",
    "            Y_pred.append(y_pred)\n",
    "        return np.array(Y_pred)"
   ]
  },
  {
   "cell_type": "code",
   "execution_count": 9,
   "metadata": {
    "execution": {
     "iopub.execute_input": "2020-08-21T17:21:19.363468Z",
     "iopub.status.busy": "2020-08-21T17:21:19.362504Z",
     "iopub.status.idle": "2020-08-21T17:22:08.241984Z",
     "shell.execute_reply": "2020-08-21T17:22:08.242556Z"
    },
    "papermill": {
     "duration": 49.128347,
     "end_time": "2020-08-21T17:22:08.242747",
     "exception": false,
     "start_time": "2020-08-21T17:21:19.114400",
     "status": "completed"
    },
    "tags": []
   },
   "outputs": [
    {
     "name": "stderr",
     "output_type": "stream",
     "text": [
      "  1%|          | 1/100 [00:00<00:56,  1.77epoch/s]/opt/conda/lib/python3.7/site-packages/ipykernel_launcher.py:10: RuntimeWarning: overflow encountered in exp\n",
      "  # Remove the CWD from sys.path while we load stuff.\n",
      "  2%|▏         | 2/100 [00:01<00:53,  1.82epoch/s]/opt/conda/lib/python3.7/site-packages/ipykernel_launcher.py:10: RuntimeWarning: overflow encountered in exp\n",
      "  # Remove the CWD from sys.path while we load stuff.\n",
      "  5%|▌         | 5/100 [00:02<00:47,  1.99epoch/s]/opt/conda/lib/python3.7/site-packages/ipykernel_launcher.py:10: RuntimeWarning: overflow encountered in exp\n",
      "  # Remove the CWD from sys.path while we load stuff.\n",
      "  6%|▌         | 6/100 [00:02<00:46,  2.01epoch/s]/opt/conda/lib/python3.7/site-packages/ipykernel_launcher.py:10: RuntimeWarning: overflow encountered in exp\n",
      "  # Remove the CWD from sys.path while we load stuff.\n",
      "  7%|▋         | 7/100 [00:03<00:45,  2.03epoch/s]/opt/conda/lib/python3.7/site-packages/ipykernel_launcher.py:10: RuntimeWarning: overflow encountered in exp\n",
      "  # Remove the CWD from sys.path while we load stuff.\n",
      "  8%|▊         | 8/100 [00:03<00:44,  2.05epoch/s]/opt/conda/lib/python3.7/site-packages/ipykernel_launcher.py:10: RuntimeWarning: overflow encountered in exp\n",
      "  # Remove the CWD from sys.path while we load stuff.\n",
      "  9%|▉         | 9/100 [00:04<00:44,  2.05epoch/s]/opt/conda/lib/python3.7/site-packages/ipykernel_launcher.py:10: RuntimeWarning: overflow encountered in exp\n",
      "  # Remove the CWD from sys.path while we load stuff.\n",
      " 10%|█         | 10/100 [00:04<00:43,  2.06epoch/s]/opt/conda/lib/python3.7/site-packages/ipykernel_launcher.py:10: RuntimeWarning: overflow encountered in exp\n",
      "  # Remove the CWD from sys.path while we load stuff.\n",
      " 11%|█         | 11/100 [00:05<00:43,  2.07epoch/s]/opt/conda/lib/python3.7/site-packages/ipykernel_launcher.py:10: RuntimeWarning: overflow encountered in exp\n",
      "  # Remove the CWD from sys.path while we load stuff.\n",
      " 12%|█▏        | 12/100 [00:05<00:42,  2.07epoch/s]/opt/conda/lib/python3.7/site-packages/ipykernel_launcher.py:10: RuntimeWarning: overflow encountered in exp\n",
      "  # Remove the CWD from sys.path while we load stuff.\n",
      " 13%|█▎        | 13/100 [00:06<00:41,  2.07epoch/s]/opt/conda/lib/python3.7/site-packages/ipykernel_launcher.py:10: RuntimeWarning: overflow encountered in exp\n",
      "  # Remove the CWD from sys.path while we load stuff.\n",
      " 14%|█▍        | 14/100 [00:06<00:41,  2.08epoch/s]/opt/conda/lib/python3.7/site-packages/ipykernel_launcher.py:10: RuntimeWarning: overflow encountered in exp\n",
      "  # Remove the CWD from sys.path while we load stuff.\n",
      " 15%|█▌        | 15/100 [00:07<00:40,  2.08epoch/s]/opt/conda/lib/python3.7/site-packages/ipykernel_launcher.py:10: RuntimeWarning: overflow encountered in exp\n",
      "  # Remove the CWD from sys.path while we load stuff.\n",
      " 16%|█▌        | 16/100 [00:07<00:40,  2.09epoch/s]/opt/conda/lib/python3.7/site-packages/ipykernel_launcher.py:10: RuntimeWarning: overflow encountered in exp\n",
      "  # Remove the CWD from sys.path while we load stuff.\n",
      " 17%|█▋        | 17/100 [00:08<00:39,  2.09epoch/s]/opt/conda/lib/python3.7/site-packages/ipykernel_launcher.py:10: RuntimeWarning: overflow encountered in exp\n",
      "  # Remove the CWD from sys.path while we load stuff.\n",
      " 18%|█▊        | 18/100 [00:08<00:39,  2.09epoch/s]/opt/conda/lib/python3.7/site-packages/ipykernel_launcher.py:10: RuntimeWarning: overflow encountered in exp\n",
      "  # Remove the CWD from sys.path while we load stuff.\n",
      " 19%|█▉        | 19/100 [00:09<00:38,  2.08epoch/s]/opt/conda/lib/python3.7/site-packages/ipykernel_launcher.py:10: RuntimeWarning: overflow encountered in exp\n",
      "  # Remove the CWD from sys.path while we load stuff.\n",
      " 20%|██        | 20/100 [00:09<00:38,  2.09epoch/s]/opt/conda/lib/python3.7/site-packages/ipykernel_launcher.py:10: RuntimeWarning: overflow encountered in exp\n",
      "  # Remove the CWD from sys.path while we load stuff.\n",
      "100%|██████████| 100/100 [00:48<00:00,  2.05epoch/s]\n"
     ]
    },
    {
     "data": {
      "image/png": "[encoded data removed]",
      "text/plain": [
       "<Figure size 432x288 with 1 Axes>"
      ]
     },
     "metadata": {
      "needs_background": "light"
     },
     "output_type": "display_data"
    }
   ],
   "source": [
    "sn_ce = SigmoidNeuron()\n",
    "sn_ce.fit(X_scaled_train, Y_train, epochs=100, learning_rate=0.015, loss_fn=\"ce\", display_loss=True)"
   ]
  },
  {
   "cell_type": "code",
   "execution_count": 10,
   "metadata": {
    "execution": {
     "iopub.execute_input": "2020-08-21T17:22:08.821415Z",
     "iopub.status.busy": "2020-08-21T17:22:08.820591Z",
     "iopub.status.idle": "2020-08-21T17:22:08.824525Z",
     "shell.execute_reply": "2020-08-21T17:22:08.823732Z"
    },
    "papermill": {
     "duration": 0.296187,
     "end_time": "2020-08-21T17:22:08.824662",
     "exception": false,
     "start_time": "2020-08-21T17:22:08.528475",
     "status": "completed"
    },
    "tags": []
   },
   "outputs": [],
   "source": [
    "def print_accuracy(sn):\n",
    "    Y_pred_train = sn.predict(X_scaled_train)\n",
    "    Y_pred_binarised_train = (Y_pred_train >= 0.5).astype(\"int\").ravel()\n",
    "    accuracy_train = accuracy_score(Y_pred_binarised_train, Y_train)\n",
    "    print(\"Train Accuracy : \", accuracy_train)\n",
    "    print(\"-\"*50)"
   ]
  },
  {
   "cell_type": "code",
   "execution_count": 11,
   "metadata": {
    "execution": {
     "iopub.execute_input": "2020-08-21T17:22:09.408927Z",
     "iopub.status.busy": "2020-08-21T17:22:09.407704Z",
     "iopub.status.idle": "2020-08-21T17:22:09.565243Z",
     "shell.execute_reply": "2020-08-21T17:22:09.564557Z"
    },
    "papermill": {
     "duration": 0.454522,
     "end_time": "2020-08-21T17:22:09.565388",
     "exception": false,
     "start_time": "2020-08-21T17:22:09.110866",
     "status": "completed"
    },
    "tags": []
   },
   "outputs": [
    {
     "name": "stdout",
     "output_type": "stream",
     "text": [
      "Train Accuracy :  0.9985555555555555\n",
      "--------------------------------------------------\n"
     ]
    }
   ],
   "source": [
    "print_accuracy(sn_ce)"
   ]
  },
  {
   "cell_type": "code",
   "execution_count": 12,
   "metadata": {
    "execution": {
     "iopub.execute_input": "2020-08-21T17:22:10.151914Z",
     "iopub.status.busy": "2020-08-21T17:22:10.151090Z",
     "iopub.status.idle": "2020-08-21T17:22:10.351821Z",
     "shell.execute_reply": "2020-08-21T17:22:10.350991Z"
    },
    "papermill": {
     "duration": 0.499221,
     "end_time": "2020-08-21T17:22:10.351991",
     "exception": false,
     "start_time": "2020-08-21T17:22:09.852770",
     "status": "completed"
    },
    "tags": []
   },
   "outputs": [],
   "source": [
    "Y_pred_test = sn_ce.predict(X_scaled_test)\n",
    "Y_pred_binarised_test = (Y_pred_test >= 0.5).astype(\"int\").ravel()\n",
    "submission = {}\n",
    "submission['ImageId'] = ID_test\n",
    "submission['Class'] = Y_pred_binarised_test\n",
    "\n",
    "submission = pd.DataFrame(submission)\n",
    "submission = submission[['ImageId', 'Class']]\n",
    "submission = submission.sort_values(['ImageId'])\n",
    "submission.to_csv(\"submission.csv\", index=False)"
   ]
  },
  {
   "cell_type": "code",
   "execution_count": null,
   "metadata": {
    "papermill": {
     "duration": 0.309907,
     "end_time": "2020-08-21T17:22:10.949061",
     "exception": false,
     "start_time": "2020-08-21T17:22:10.639154",
     "status": "completed"
    },
    "tags": []
   },
   "outputs": [],
   "source": []
  }
 ],
 "metadata": {
  "kernelspec": {
   "display_name": "Python 3",
   "language": "python",
   "name": "python3"
  },
  "language_info": {
   "codemirror_mode": {
    "name": "ipython",
    "version": 3
   },
   "file_extension": ".py",
   "mimetype": "text/x-python",
   "name": "python",
   "nbconvert_exporter": "python",
   "pygments_lexer": "ipython3",
   "version": "3.7.6"
  },
  "papermill": {
   "duration": 127.341893,
   "end_time": "2020-08-21T17:22:11.357927",
   "environment_variables": {},
   "exception": null,
   "input_path": "__notebook__.ipynb",
   "output_path": "__notebook__.ipynb",
   "parameters": {},
   "start_time": "2020-08-21T17:20:04.016034",
   "version": "2.1.0"
  }
 },
 "nbformat": 4,
 "nbformat_minor": 4
}
