{
 "cells": [
  {
   "cell_type": "code",
   "execution_count": 1,
   "metadata": {
    "_cell_guid": "b1076dfc-b9ad-4769-8c92-a6c4dae69d19",
    "_uuid": "8f2839f25d086af736a60e9eeb907d3b93b6e0e5",
    "execution": {
     "iopub.execute_input": "2020-08-21T18:25:03.735007Z",
     "iopub.status.busy": "2020-08-21T18:25:03.733794Z",
     "iopub.status.idle": "2020-08-21T18:25:03.741183Z",
     "shell.execute_reply": "2020-08-21T18:25:03.740482Z"
    },
    "papermill": {
     "duration": 0.043675,
     "end_time": "2020-08-21T18:25:03.741363",
     "exception": false,
     "start_time": "2020-08-21T18:25:03.697688",
     "status": "completed"
    },
    "tags": []
   },
   "outputs": [
    {
     "name": "stdout",
     "output_type": "stream",
     "text": [
      "/kaggle/input/padhai-perceptron-like-unlike-classification/test.csv\n",
      "/kaggle/input/padhai-perceptron-like-unlike-classification/sample_submission.csv\n",
      "/kaggle/input/padhai-perceptron-like-unlike-classification/train.csv\n"
     ]
    }
   ],
   "source": [
    "# This Python 3 environment comes with many helpful analytics libraries installed\n",
    "# It is defined by the kaggle/python Docker image: https://github.com/kaggle/docker-python\n",
    "# For example, here's several helpful packages to load\n",
    "\n",
    "import numpy as np # linear algebra\n",
    "import pandas as pd # data processing, CSV file I/O (e.g. pd.read_csv)\n",
    "\n",
    "# Input data files are available in the read-only \"../input/\" directory\n",
    "# For example, running this (by clicking run or pressing Shift+Enter) will list all files under the input directory\n",
    "\n",
    "import os\n",
    "for dirname, _, filenames in os.walk('/kaggle/input'):\n",
    "    for filename in filenames:\n",
    "        print(os.path.join(dirname, filename))\n",
    "\n",
    "# You can write up to 5GB to the current directory (/kaggle/working/) that gets preserved as output when you create a version using \"Save & Run All\" \n",
    "# You can also write temporary files to /kaggle/temp/, but they won't be saved outside of the current session"
   ]
  },
  {
   "cell_type": "code",
   "execution_count": 2,
   "metadata": {
    "_cell_guid": "79c7e3d0-c299-4dcb-8224-4455121ee9b0",
    "_uuid": "d629ff2d2480ee46fbb7e2d37f6b5fab8052498a",
    "execution": {
     "iopub.execute_input": "2020-08-21T18:25:03.805986Z",
     "iopub.status.busy": "2020-08-21T18:25:03.804883Z",
     "iopub.status.idle": "2020-08-21T18:25:05.121128Z",
     "shell.execute_reply": "2020-08-21T18:25:05.119748Z"
    },
    "papermill": {
     "duration": 1.352333,
     "end_time": "2020-08-21T18:25:05.121379",
     "exception": false,
     "start_time": "2020-08-21T18:25:03.769046",
     "status": "completed"
    },
    "tags": []
   },
   "outputs": [],
   "source": [
    "import numpy as np\n",
    "import pandas as pd\n",
    "import matplotlib.pyplot as plt\n",
    "from sklearn.preprocessing import LabelEncoder,MinMaxScaler, StandardScaler\n",
    "from sklearn.model_selection import train_test_split, ParameterGrid\n",
    "from sklearn.metrics import accuracy_score, confusion_matrix, mean_squared_error, log_loss\n",
    "import operator\n",
    "import json\n",
    "from IPython import display\n",
    "import os\n",
    "import warnings\n",
    "\n",
    "np.random.seed(0)\n",
    "warnings.filterwarnings(\"ignore\")\n",
    "THRESHOLD = 4"
   ]
  },
  {
   "cell_type": "code",
   "execution_count": 3,
   "metadata": {
    "execution": {
     "iopub.execute_input": "2020-08-21T18:25:05.212712Z",
     "iopub.status.busy": "2020-08-21T18:25:05.211526Z",
     "iopub.status.idle": "2020-08-21T18:25:05.364515Z",
     "shell.execute_reply": "2020-08-21T18:25:05.363856Z"
    },
    "papermill": {
     "duration": 0.203834,
     "end_time": "2020-08-21T18:25:05.364727",
     "exception": false,
     "start_time": "2020-08-21T18:25:05.160893",
     "status": "completed"
    },
    "tags": []
   },
   "outputs": [
    {
     "name": "stdout",
     "output_type": "stream",
     "text": [
      "Number of data points in train: 355\n",
      "Number of features in train: 99\n",
      "Number of data points in test: 119\n",
      "Number of features in test: 98\n"
     ]
    }
   ],
   "source": [
    "train = pd.read_csv(\"../input/padhai-perceptron-like-unlike-classification/train.csv\")\n",
    "test = pd.read_csv(\"../input/padhai-perceptron-like-unlike-classification/test.csv\")\n",
    "\n",
    "# check the number of features and data points in train\n",
    "print(\"Number of data points in train: %d\" % train.shape[0])\n",
    "print(\"Number of features in train: %d\" % train.shape[1])\n",
    "\n",
    "# check the number of features and data points in test\n",
    "print(\"Number of data points in test: %d\" % test.shape[0])\n",
    "print(\"Number of features in test: %d\" % test.shape[1])"
   ]
  },
  {
   "cell_type": "code",
   "execution_count": 4,
   "metadata": {
    "execution": {
     "iopub.execute_input": "2020-08-21T18:25:05.437907Z",
     "iopub.status.busy": "2020-08-21T18:25:05.436156Z",
     "iopub.status.idle": "2020-08-21T18:25:05.442315Z",
     "shell.execute_reply": "2020-08-21T18:25:05.441567Z"
    },
    "papermill": {
     "duration": 0.049429,
     "end_time": "2020-08-21T18:25:05.442478",
     "exception": false,
     "start_time": "2020-08-21T18:25:05.393049",
     "status": "completed"
    },
    "tags": []
   },
   "outputs": [],
   "source": [
    "def data_clean(data):\n",
    "    \n",
    "    # Let's first remove all missing value features\n",
    "    columns_to_remove = ['Also Known As','Applications','Audio Features','Bezel-less display'\n",
    "                         'Browser','Build Material','Co-Processor','Browser'\n",
    "                         'Display Colour','Mobile High-Definition Link(MHL)',\n",
    "                         'Music', 'Email','Fingerprint Sensor Position',\n",
    "                         'Games','HDMI','Heart Rate Monitor','IRIS Scanner', \n",
    "                         'Optical Image Stabilisation','Other Facilities',\n",
    "                         'Phone Book','Physical Aperture','Quick Charging',\n",
    "                         'Ring Tone','Ruggedness','SAR Value','SIM 3','SMS',\n",
    "                         'Screen Protection','Screen to Body Ratio (claimed by the brand)',\n",
    "                         'Sensor','Software Based Aperture', 'Special Features',\n",
    "                         'Standby time','Stylus','TalkTime', 'USB Type-C',\n",
    "                         'Video Player', 'Video Recording Features','Waterproof',\n",
    "                         'Wireless Charging','USB OTG Support', 'Video Recording','Java']\n",
    "\n",
    "    columns_to_retain = list(set(data.columns)-set(columns_to_remove))\n",
    "    data = data[columns_to_retain]\n",
    "\n",
    "    #Features having very low variance \n",
    "    columns_to_remove = ['Architecture','Audio Jack','GPS','Loudspeaker','Network','Network Support','VoLTE']\n",
    "    columns_to_retain = list(set(data.columns)-set(columns_to_remove))\n",
    "    data = data[columns_to_retain]\n",
    "\n",
    "    # Multivalued:\n",
    "    columns_to_remove = ['Architecture','Launch Date','Audio Jack','GPS','Loudspeaker','Network','Network Support','VoLTE', 'Custom UI']\n",
    "    columns_to_retain = list(set(data.columns)-set(columns_to_remove))\n",
    "    data = data[columns_to_retain]\n",
    "\n",
    "    # Not much important\n",
    "    columns_to_remove = ['Bluetooth', 'Settings','Wi-Fi','Wi-Fi Features']\n",
    "    columns_to_retain = list(set(data.columns)-set(columns_to_remove))\n",
    "    data = data[columns_to_retain]\n",
    "    \n",
    "    return data"
   ]
  },
  {
   "cell_type": "code",
   "execution_count": 5,
   "metadata": {
    "execution": {
     "iopub.execute_input": "2020-08-21T18:25:05.520301Z",
     "iopub.status.busy": "2020-08-21T18:25:05.518483Z",
     "iopub.status.idle": "2020-08-21T18:25:05.535602Z",
     "shell.execute_reply": "2020-08-21T18:25:05.534773Z"
    },
    "papermill": {
     "duration": 0.064862,
     "end_time": "2020-08-21T18:25:05.535750",
     "exception": false,
     "start_time": "2020-08-21T18:25:05.470888",
     "status": "completed"
    },
    "tags": []
   },
   "outputs": [],
   "source": [
    "train = data_clean(train)\n",
    "test = data_clean(test)"
   ]
  },
  {
   "cell_type": "code",
   "execution_count": 6,
   "metadata": {
    "execution": {
     "iopub.execute_input": "2020-08-21T18:25:05.606250Z",
     "iopub.status.busy": "2020-08-21T18:25:05.603484Z",
     "iopub.status.idle": "2020-08-21T18:25:05.609786Z",
     "shell.execute_reply": "2020-08-21T18:25:05.610484Z"
    },
    "papermill": {
     "duration": 0.046069,
     "end_time": "2020-08-21T18:25:05.610728",
     "exception": false,
     "start_time": "2020-08-21T18:25:05.564659",
     "status": "completed"
    },
    "tags": []
   },
   "outputs": [],
   "source": [
    "train = train[(train.isnull().sum(axis=1) <= 15)]\n",
    "# You shouldn't remove data points from test set\n",
    "#test = test[(test.isnull().sum(axis=1) <= 15)]"
   ]
  },
  {
   "cell_type": "code",
   "execution_count": 7,
   "metadata": {
    "execution": {
     "iopub.execute_input": "2020-08-21T18:25:05.676989Z",
     "iopub.status.busy": "2020-08-21T18:25:05.676059Z",
     "iopub.status.idle": "2020-08-21T18:25:05.680051Z",
     "shell.execute_reply": "2020-08-21T18:25:05.679308Z"
    },
    "papermill": {
     "duration": 0.039937,
     "end_time": "2020-08-21T18:25:05.680189",
     "exception": false,
     "start_time": "2020-08-21T18:25:05.640252",
     "status": "completed"
    },
    "tags": []
   },
   "outputs": [
    {
     "name": "stdout",
     "output_type": "stream",
     "text": [
      "Number of data points in train: 341\n",
      "Number of features in train: 47\n",
      "Number of data points in test: 119\n",
      "Number of features in test: 46\n"
     ]
    }
   ],
   "source": [
    "# check the number of features and data points in train\n",
    "print(\"Number of data points in train: %d\" % train.shape[0])\n",
    "print(\"Number of features in train: %d\" % train.shape[1])\n",
    "\n",
    "# check the number of features and data points in test\n",
    "print(\"Number of data points in test: %d\" % test.shape[0])\n",
    "print(\"Number of features in test: %d\" % test.shape[1])"
   ]
  },
  {
   "cell_type": "code",
   "execution_count": 8,
   "metadata": {
    "execution": {
     "iopub.execute_input": "2020-08-21T18:25:05.762253Z",
     "iopub.status.busy": "2020-08-21T18:25:05.753054Z",
     "iopub.status.idle": "2020-08-21T18:25:05.766188Z",
     "shell.execute_reply": "2020-08-21T18:25:05.765464Z"
    },
    "papermill": {
     "duration": 0.057064,
     "end_time": "2020-08-21T18:25:05.766334",
     "exception": false,
     "start_time": "2020-08-21T18:25:05.709270",
     "status": "completed"
    },
    "tags": []
   },
   "outputs": [],
   "source": [
    "def for_integer(test):\n",
    "    try:\n",
    "        test = test.strip()\n",
    "        return int(test.split(' ')[0])\n",
    "    except IOError:\n",
    "           pass\n",
    "    except ValueError:\n",
    "        pass\n",
    "    except:\n",
    "        pass\n",
    "\n",
    "def for_string(test):\n",
    "    try:\n",
    "        test = test.strip()\n",
    "        return (test.split(' ')[0])\n",
    "    except IOError:\n",
    "        pass\n",
    "    except ValueError:\n",
    "        pass\n",
    "    except:\n",
    "        pass\n",
    "\n",
    "def for_float(test):\n",
    "    try:\n",
    "        test = test.strip()\n",
    "        return float(test.split(' ')[0])\n",
    "    except IOError:\n",
    "        pass\n",
    "    except ValueError:\n",
    "        pass\n",
    "    except:\n",
    "        pass\n",
    "def find_freq(test):\n",
    "    try:\n",
    "        test = test.strip()\n",
    "        test = test.split(' ')\n",
    "        if test[2][0] == '(':\n",
    "            return float(test[2][1:])\n",
    "        return float(test[2])\n",
    "    except IOError:\n",
    "        pass\n",
    "    except ValueError:\n",
    "        pass\n",
    "    except:\n",
    "        pass\n",
    "\n",
    "    \n",
    "def for_Internal_Memory(test):\n",
    "    try:\n",
    "        test = test.strip()\n",
    "        test = test.split(' ')\n",
    "        if test[1] == 'GB':\n",
    "            return int(test[0])\n",
    "        if test[1] == 'MB':\n",
    "#             print(\"here\")\n",
    "            return (int(test[0]) * 0.001)\n",
    "    except IOError:\n",
    "           pass\n",
    "    except ValueError:\n",
    "        pass\n",
    "    except:\n",
    "        pass\n",
    "    \n",
    "def find_freq(test):\n",
    "    try:\n",
    "        test = test.strip()\n",
    "        test = test.split(' ')\n",
    "        if test[2][0] == '(':\n",
    "            return float(test[2][1:])\n",
    "        return float(test[2])\n",
    "    except IOError:\n",
    "        pass\n",
    "    except ValueError:\n",
    "        pass\n",
    "    except:\n",
    "        pass"
   ]
  },
  {
   "cell_type": "code",
   "execution_count": 9,
   "metadata": {
    "execution": {
     "iopub.execute_input": "2020-08-21T18:25:05.845228Z",
     "iopub.status.busy": "2020-08-21T18:25:05.834729Z",
     "iopub.status.idle": "2020-08-21T18:25:05.870305Z",
     "shell.execute_reply": "2020-08-21T18:25:05.869578Z"
    },
    "papermill": {
     "duration": 0.074207,
     "end_time": "2020-08-21T18:25:05.870446",
     "exception": false,
     "start_time": "2020-08-21T18:25:05.796239",
     "status": "completed"
    },
    "tags": []
   },
   "outputs": [],
   "source": [
    "def data_clean_2(x):\n",
    "    data = x.copy()\n",
    "    \n",
    "    data['Capacity'] = data['Capacity'].apply(for_integer)\n",
    "\n",
    "    data['Height'] = data['Height'].apply(for_float)\n",
    "    data['Height'] = data['Height'].fillna(data['Height'].mean())\n",
    "\n",
    "    data['Internal Memory'] = data['Internal Memory'].apply(for_Internal_Memory)\n",
    "\n",
    "    data['Pixel Density'] = data['Pixel Density'].apply(for_integer)\n",
    "\n",
    "    data['Internal Memory'] = data['Internal Memory'].fillna(data['Internal Memory'].median())\n",
    "    data['Internal Memory'] = data['Internal Memory'].astype(int)\n",
    "\n",
    "    data['RAM'] = data['RAM'].apply(for_integer)\n",
    "    data['RAM'] = data['RAM'].fillna(data['RAM'].median())\n",
    "    data['RAM'] = data['RAM'].astype(int)\n",
    "\n",
    "    data['Resolution'] = data['Resolution'].apply(for_integer)\n",
    "    data['Resolution'] = data['Resolution'].fillna(data['Resolution'].median())\n",
    "    data['Resolution'] = data['Resolution'].astype(int)\n",
    "\n",
    "    data['Screen Size'] = data['Screen Size'].apply(for_float)\n",
    "\n",
    "    data['Thickness'] = data['Thickness'].apply(for_float)\n",
    "    data['Thickness'] = data['Thickness'].fillna(data['Thickness'].mean())\n",
    "    data['Thickness'] = data['Thickness'].round(2)\n",
    "\n",
    "    data['Type'] = data['Type'].fillna('Li-Polymer')\n",
    "\n",
    "    data['Screen to Body Ratio (calculated)'] = data['Screen to Body Ratio (calculated)'].apply(for_float)\n",
    "    data['Screen to Body Ratio (calculated)'] = data['Screen to Body Ratio (calculated)'].fillna(data['Screen to Body Ratio (calculated)'].mean())\n",
    "    data['Screen to Body Ratio (calculated)'] = data['Screen to Body Ratio (calculated)'].round(2)\n",
    "\n",
    "    data['Width'] = data['Width'].apply(for_float)\n",
    "    data['Width'] = data['Width'].fillna(data['Width'].mean())\n",
    "    data['Width'] = data['Width'].round(2)\n",
    "\n",
    "    data['Flash'][data['Flash'].isna() == True] = \"Other\"\n",
    "\n",
    "    data['User Replaceable'][data['User Replaceable'].isna() == True] = \"Other\"\n",
    "\n",
    "    data['Num_cores'] = data['Processor'].apply(for_string)\n",
    "    data['Num_cores'][data['Num_cores'].isna() == True] = \"Other\"\n",
    "\n",
    "\n",
    "    data['Processor_frequency'] = data['Processor'].apply(find_freq)\n",
    "    #because there is one entry with 208MHz values, to convert it to GHz\n",
    "    data['Processor_frequency'][data['Processor_frequency'] > 200] = 0.208\n",
    "    data['Processor_frequency'] = data['Processor_frequency'].fillna(data['Processor_frequency'].mean())\n",
    "    data['Processor_frequency'] = data['Processor_frequency'].round(2)\n",
    "\n",
    "    data['Camera Features'][data['Camera Features'].isna() == True] = \"Other\"\n",
    "\n",
    "    #simplifyig Operating System to os_name for simplicity\n",
    "    data['os_name'] = data['Operating System'].apply(for_string)\n",
    "    data['os_name'][data['os_name'].isna() == True] = \"Other\"\n",
    "\n",
    "    data['Sim1'] = data['SIM 1'].apply(for_string)\n",
    "\n",
    "    data['SIM Size'][data['SIM Size'].isna() == True] = \"Other\"\n",
    "\n",
    "    data['Image Resolution'][data['Image Resolution'].isna() == True] = \"Other\"\n",
    "\n",
    "    data['Fingerprint Sensor'][data['Fingerprint Sensor'].isna() == True] = \"Other\"\n",
    "\n",
    "    data['Expandable Memory'][data['Expandable Memory'].isna() == True] = \"No\"\n",
    "\n",
    "    data['Weight'] = data['Weight'].apply(for_integer)\n",
    "    data['Weight'] = data['Weight'].fillna(data['Weight'].mean())\n",
    "    data['Weight'] = data['Weight'].astype(int)\n",
    "\n",
    "    data['SIM 2'] = data['SIM 2'].apply(for_string)\n",
    "    data['SIM 2'][data['SIM 2'].isna() == True] = \"Other\"\n",
    "    \n",
    "    return data"
   ]
  },
  {
   "cell_type": "code",
   "execution_count": 10,
   "metadata": {
    "execution": {
     "iopub.execute_input": "2020-08-21T18:25:05.968363Z",
     "iopub.status.busy": "2020-08-21T18:25:05.964009Z",
     "iopub.status.idle": "2020-08-21T18:25:06.079627Z",
     "shell.execute_reply": "2020-08-21T18:25:06.078787Z"
    },
    "papermill": {
     "duration": 0.179522,
     "end_time": "2020-08-21T18:25:06.079770",
     "exception": false,
     "start_time": "2020-08-21T18:25:05.900248",
     "status": "completed"
    },
    "tags": []
   },
   "outputs": [
    {
     "name": "stdout",
     "output_type": "stream",
     "text": [
      "Number of data points in train: 341\n",
      "Number of features in train: 51\n",
      "Number of data points in test: 119\n",
      "Number of features in test: 50\n"
     ]
    }
   ],
   "source": [
    "train = data_clean_2(train)\n",
    "test = data_clean_2(test)\n",
    "\n",
    "# check the number of features and data points in train\n",
    "print(\"Number of data points in train: %d\" % train.shape[0])\n",
    "print(\"Number of features in train: %d\" % train.shape[1])\n",
    "\n",
    "# check the number of features and data points in test\n",
    "print(\"Number of data points in test: %d\" % test.shape[0])\n",
    "print(\"Number of features in test: %d\" % test.shape[1])"
   ]
  },
  {
   "cell_type": "code",
   "execution_count": 11,
   "metadata": {
    "execution": {
     "iopub.execute_input": "2020-08-21T18:25:06.157350Z",
     "iopub.status.busy": "2020-08-21T18:25:06.156422Z",
     "iopub.status.idle": "2020-08-21T18:25:06.160513Z",
     "shell.execute_reply": "2020-08-21T18:25:06.159720Z"
    },
    "papermill": {
     "duration": 0.048298,
     "end_time": "2020-08-21T18:25:06.160683",
     "exception": false,
     "start_time": "2020-08-21T18:25:06.112385",
     "status": "completed"
    },
    "tags": []
   },
   "outputs": [],
   "source": [
    "def data_clean_3(x):\n",
    "    \n",
    "    data = x.copy()\n",
    "\n",
    "    columns_to_remove = ['User Available Storage','SIM Size','Chipset','Processor','Autofocus','Aspect Ratio','Touch Screen',\n",
    "                        'Bezel-less display','Operating System','SIM 1','USB Connectivity','Other Sensors','Graphics','FM Radio',\n",
    "                        'NFC','Shooting Modes','Browser','Display Colour' ]\n",
    "\n",
    "    columns_to_retain = list(set(data.columns)-set(columns_to_remove))\n",
    "    data = data[columns_to_retain]\n",
    "\n",
    "\n",
    "    columns_to_remove = [ 'Screen Resolution','User Replaceable','Camera Features',\n",
    "                        'Thickness', 'Display Type']\n",
    "\n",
    "    columns_to_retain = list(set(data.columns)-set(columns_to_remove))\n",
    "    data = data[columns_to_retain]\n",
    "\n",
    "\n",
    "    columns_to_remove = ['Fingerprint Sensor', 'Flash', 'Rating Count', 'Review Count','Image Resolution','Type','Expandable Memory',\\\n",
    "                        'Colours','Width','Model']\n",
    "    columns_to_retain = list(set(data.columns)-set(columns_to_remove))\n",
    "    data = data[columns_to_retain]\n",
    "\n",
    "    return data"
   ]
  },
  {
   "cell_type": "code",
   "execution_count": 12,
   "metadata": {
    "execution": {
     "iopub.execute_input": "2020-08-21T18:25:06.240875Z",
     "iopub.status.busy": "2020-08-21T18:25:06.238367Z",
     "iopub.status.idle": "2020-08-21T18:25:06.245990Z",
     "shell.execute_reply": "2020-08-21T18:25:06.245159Z"
    },
    "papermill": {
     "duration": 0.054822,
     "end_time": "2020-08-21T18:25:06.246135",
     "exception": false,
     "start_time": "2020-08-21T18:25:06.191313",
     "status": "completed"
    },
    "tags": []
   },
   "outputs": [
    {
     "name": "stdout",
     "output_type": "stream",
     "text": [
      "Number of data points in train: 341\n",
      "Number of features in train: 18\n",
      "Number of data points in test: 119\n",
      "Number of features in test: 17\n"
     ]
    }
   ],
   "source": [
    "train = data_clean_3(train)\n",
    "test = data_clean_3(test)\n",
    "\n",
    "# check the number of features and data points in train\n",
    "print(\"Number of data points in train: %d\" % train.shape[0])\n",
    "print(\"Number of features in train: %d\" % train.shape[1])\n",
    "\n",
    "# check the number of features and data points in test\n",
    "print(\"Number of data points in test: %d\" % test.shape[0])\n",
    "print(\"Number of features in test: %d\" % test.shape[1])"
   ]
  },
  {
   "cell_type": "code",
   "execution_count": 13,
   "metadata": {
    "execution": {
     "iopub.execute_input": "2020-08-21T18:25:06.331632Z",
     "iopub.status.busy": "2020-08-21T18:25:06.316376Z",
     "iopub.status.idle": "2020-08-21T18:25:06.361577Z",
     "shell.execute_reply": "2020-08-21T18:25:06.362484Z"
    },
    "papermill": {
     "duration": 0.085503,
     "end_time": "2020-08-21T18:25:06.362730",
     "exception": false,
     "start_time": "2020-08-21T18:25:06.277227",
     "status": "completed"
    },
    "tags": []
   },
   "outputs": [
    {
     "name": "stdout",
     "output_type": "stream",
     "text": [
      "(460, 17)\n",
      "Index(['PhoneId', 'Internal Memory', 'Screen Size', 'Brand', 'Pixel Density',\n",
      "       'Capacity', 'os_name', 'Resolution', 'Height', 'SIM 2',\n",
      "       'Processor_frequency', 'Weight', 'SIM Slot(s)', 'RAM', 'Num_cores',\n",
      "       'Screen to Body Ratio (calculated)', 'Sim1'],\n",
      "      dtype='object')\n",
      "(460, 87)\n",
      "Index(['PhoneId', 'Internal Memory', 'Screen Size', 'Pixel Density',\n",
      "       'Capacity', 'Resolution', 'Height', 'Processor_frequency', 'Weight',\n",
      "       'RAM', 'Screen to Body Ratio (calculated)', 'Brand_10.or',\n",
      "       'Brand_Apple', 'Brand_Asus', 'Brand_Billion', 'Brand_Blackberry',\n",
      "       'Brand_Comio', 'Brand_Coolpad', 'Brand_Do', 'Brand_Gionee',\n",
      "       'Brand_Google', 'Brand_HTC', 'Brand_Honor', 'Brand_Huawei',\n",
      "       'Brand_InFocus', 'Brand_Infinix', 'Brand_Intex', 'Brand_Itel',\n",
      "       'Brand_Jivi', 'Brand_Karbonn', 'Brand_LG', 'Brand_Lava', 'Brand_LeEco',\n",
      "       'Brand_Lenovo', 'Brand_Lephone', 'Brand_Lyf', 'Brand_Meizu',\n",
      "       'Brand_Micromax', 'Brand_Mobiistar', 'Brand_Moto', 'Brand_Motorola',\n",
      "       'Brand_Nokia', 'Brand_Nubia', 'Brand_OPPO', 'Brand_OnePlus',\n",
      "       'Brand_Oppo', 'Brand_Panasonic', 'Brand_Razer', 'Brand_Realme',\n",
      "       'Brand_Reliance', 'Brand_Samsung', 'Brand_Sony', 'Brand_Spice',\n",
      "       'Brand_Tecno', 'Brand_Ulefone', 'Brand_VOTO', 'Brand_Vivo',\n",
      "       'Brand_Xiaomi', 'Brand_Xiaomi Poco', 'Brand_Yu', 'Brand_iVooMi',\n",
      "       'os_name_Android', 'os_name_Blackberry', 'os_name_KAI', 'os_name_Nokia',\n",
      "       'os_name_Other', 'os_name_Tizen', 'os_name_iOS', 'SIM 2_2G', 'SIM 2_3G',\n",
      "       'SIM 2_4G', 'SIM 2_Other', 'SIM Slot(s)_Dual SIM, GSM+CDMA',\n",
      "       'SIM Slot(s)_Dual SIM, GSM+GSM',\n",
      "       'SIM Slot(s)_Dual SIM, GSM+GSM, Dual VoLTE',\n",
      "       'SIM Slot(s)_Single SIM, GSM', 'Num_cores_312', 'Num_cores_Deca',\n",
      "       'Num_cores_Dual', 'Num_cores_Hexa', 'Num_cores_Octa', 'Num_cores_Other',\n",
      "       'Num_cores_Quad', 'Num_cores_Tru-Octa', 'Sim1_2G', 'Sim1_3G',\n",
      "       'Sim1_4G'],\n",
      "      dtype='object')\n"
     ]
    }
   ],
   "source": [
    "# one hot encoding\n",
    "\n",
    "train_ids = train['PhoneId']\n",
    "test_ids = test['PhoneId']\n",
    "\n",
    "cols = list(test.columns)\n",
    "cols.remove('PhoneId')\n",
    "cols.insert(0, 'PhoneId')\n",
    "\n",
    "combined = pd.concat([train.drop('Rating', axis=1)[cols], test[cols]])\n",
    "print(combined.shape)\n",
    "print(combined.columns)\n",
    "\n",
    "combined = pd.get_dummies(combined)\n",
    "print(combined.shape)\n",
    "print(combined.columns)\n",
    "\n",
    "train_new = combined[combined['PhoneId'].isin(train_ids)]\n",
    "test_new = combined[combined['PhoneId'].isin(test_ids)]"
   ]
  },
  {
   "cell_type": "code",
   "execution_count": 14,
   "metadata": {
    "execution": {
     "iopub.execute_input": "2020-08-21T18:25:06.449741Z",
     "iopub.status.busy": "2020-08-21T18:25:06.442543Z",
     "iopub.status.idle": "2020-08-21T18:25:06.454527Z",
     "shell.execute_reply": "2020-08-21T18:25:06.453679Z"
    },
    "papermill": {
     "duration": 0.058961,
     "end_time": "2020-08-21T18:25:06.454718",
     "exception": false,
     "start_time": "2020-08-21T18:25:06.395757",
     "status": "completed"
    },
    "tags": []
   },
   "outputs": [],
   "source": [
    "train_new = train_new.merge(train[['PhoneId', 'Rating']], on='PhoneId')"
   ]
  },
  {
   "cell_type": "code",
   "execution_count": 15,
   "metadata": {
    "execution": {
     "iopub.execute_input": "2020-08-21T18:25:06.528128Z",
     "iopub.status.busy": "2020-08-21T18:25:06.526817Z",
     "iopub.status.idle": "2020-08-21T18:25:06.532169Z",
     "shell.execute_reply": "2020-08-21T18:25:06.531132Z"
    },
    "papermill": {
     "duration": 0.045415,
     "end_time": "2020-08-21T18:25:06.532350",
     "exception": false,
     "start_time": "2020-08-21T18:25:06.486935",
     "status": "completed"
    },
    "tags": []
   },
   "outputs": [
    {
     "name": "stdout",
     "output_type": "stream",
     "text": [
      "Number of data points in train: 341\n",
      "Number of features in train: 88\n",
      "Number of data points in test: 119\n",
      "Number of features in test: 87\n"
     ]
    }
   ],
   "source": [
    "# check the number of features and data points in train\n",
    "print(\"Number of data points in train: %d\" % train_new.shape[0])\n",
    "print(\"Number of features in train: %d\" % train_new.shape[1])\n",
    "\n",
    "# check the number of features and data points in test\n",
    "print(\"Number of data points in test: %d\" % test_new.shape[0])\n",
    "print(\"Number of features in test: %d\" % test_new.shape[1])"
   ]
  },
  {
   "cell_type": "code",
   "execution_count": 16,
   "metadata": {
    "execution": {
     "iopub.execute_input": "2020-08-21T18:25:06.604919Z",
     "iopub.status.busy": "2020-08-21T18:25:06.603942Z",
     "iopub.status.idle": "2020-08-21T18:25:06.727362Z",
     "shell.execute_reply": "2020-08-21T18:25:06.726408Z"
    },
    "papermill": {
     "duration": 0.162087,
     "end_time": "2020-08-21T18:25:06.727535",
     "exception": false,
     "start_time": "2020-08-21T18:25:06.565448",
     "status": "completed"
    },
    "tags": []
   },
   "outputs": [],
   "source": [
    "# save the cleaned csv \n",
    "train_new.to_csv(\"train_cleaned.csv\", index=False)\n",
    "test_new.to_csv(\"test_cleaned.csv\", index=False)"
   ]
  },
  {
   "cell_type": "code",
   "execution_count": 17,
   "metadata": {
    "execution": {
     "iopub.execute_input": "2020-08-21T18:25:06.801821Z",
     "iopub.status.busy": "2020-08-21T18:25:06.800793Z",
     "iopub.status.idle": "2020-08-21T18:25:06.804916Z",
     "shell.execute_reply": "2020-08-21T18:25:06.805676Z"
    },
    "papermill": {
     "duration": 0.044664,
     "end_time": "2020-08-21T18:25:06.805929",
     "exception": false,
     "start_time": "2020-08-21T18:25:06.761265",
     "status": "completed"
    },
    "tags": []
   },
   "outputs": [
    {
     "name": "stdout",
     "output_type": "stream",
     "text": [
      "(341, 88) (119, 87)\n"
     ]
    }
   ],
   "source": [
    "print(train_new.shape,test_new.shape)"
   ]
  },
  {
   "cell_type": "code",
   "execution_count": 18,
   "metadata": {
    "execution": {
     "iopub.execute_input": "2020-08-21T18:25:06.884218Z",
     "iopub.status.busy": "2020-08-21T18:25:06.883144Z",
     "iopub.status.idle": "2020-08-21T18:25:06.885779Z",
     "shell.execute_reply": "2020-08-21T18:25:06.886404Z"
    },
    "papermill": {
     "duration": 0.045962,
     "end_time": "2020-08-21T18:25:06.886678",
     "exception": false,
     "start_time": "2020-08-21T18:25:06.840716",
     "status": "completed"
    },
    "tags": []
   },
   "outputs": [],
   "source": [
    "Y_train = train_new[\"Rating\"].map(lambda x: 1 if x>=4 else 0)"
   ]
  },
  {
   "cell_type": "code",
   "execution_count": 19,
   "metadata": {
    "execution": {
     "iopub.execute_input": "2020-08-21T18:25:06.965445Z",
     "iopub.status.busy": "2020-08-21T18:25:06.964399Z",
     "iopub.status.idle": "2020-08-21T18:25:06.969746Z",
     "shell.execute_reply": "2020-08-21T18:25:06.969105Z"
    },
    "papermill": {
     "duration": 0.049647,
     "end_time": "2020-08-21T18:25:06.969918",
     "exception": false,
     "start_time": "2020-08-21T18:25:06.920271",
     "status": "completed"
    },
    "tags": []
   },
   "outputs": [
    {
     "data": {
      "text/plain": [
       "0    1\n",
       "1    1\n",
       "2    1\n",
       "3    1\n",
       "4    1\n",
       "Name: Rating, dtype: int64"
      ]
     },
     "execution_count": 19,
     "metadata": {},
     "output_type": "execute_result"
    }
   ],
   "source": [
    "Y_train.head()"
   ]
  },
  {
   "cell_type": "code",
   "execution_count": 20,
   "metadata": {
    "execution": {
     "iopub.execute_input": "2020-08-21T18:25:07.049676Z",
     "iopub.status.busy": "2020-08-21T18:25:07.047180Z",
     "iopub.status.idle": "2020-08-21T18:25:07.053894Z",
     "shell.execute_reply": "2020-08-21T18:25:07.053135Z"
    },
    "papermill": {
     "duration": 0.048717,
     "end_time": "2020-08-21T18:25:07.054042",
     "exception": false,
     "start_time": "2020-08-21T18:25:07.005325",
     "status": "completed"
    },
    "tags": []
   },
   "outputs": [],
   "source": [
    "X = train_new.drop('Rating',axis=1)"
   ]
  },
  {
   "cell_type": "code",
   "execution_count": 21,
   "metadata": {
    "execution": {
     "iopub.execute_input": "2020-08-21T18:25:07.136471Z",
     "iopub.status.busy": "2020-08-21T18:25:07.135311Z",
     "iopub.status.idle": "2020-08-21T18:25:07.144534Z",
     "shell.execute_reply": "2020-08-21T18:25:07.143790Z"
    },
    "papermill": {
     "duration": 0.053744,
     "end_time": "2020-08-21T18:25:07.144695",
     "exception": false,
     "start_time": "2020-08-21T18:25:07.090951",
     "status": "completed"
    },
    "tags": []
   },
   "outputs": [],
   "source": [
    "scaler = MinMaxScaler()  \n",
    "X_train = scaler.fit_transform(X)  "
   ]
  },
  {
   "cell_type": "code",
   "execution_count": 22,
   "metadata": {
    "execution": {
     "iopub.execute_input": "2020-08-21T18:25:07.221276Z",
     "iopub.status.busy": "2020-08-21T18:25:07.220166Z",
     "iopub.status.idle": "2020-08-21T18:25:07.223048Z",
     "shell.execute_reply": "2020-08-21T18:25:07.223653Z"
    },
    "papermill": {
     "duration": 0.044422,
     "end_time": "2020-08-21T18:25:07.223857",
     "exception": false,
     "start_time": "2020-08-21T18:25:07.179435",
     "status": "completed"
    },
    "tags": []
   },
   "outputs": [],
   "source": [
    "X_train = X.values\n",
    "Y_train = Y_train.values"
   ]
  },
  {
   "cell_type": "code",
   "execution_count": 23,
   "metadata": {
    "execution": {
     "iopub.execute_input": "2020-08-21T18:25:07.319880Z",
     "iopub.status.busy": "2020-08-21T18:25:07.318977Z",
     "iopub.status.idle": "2020-08-21T18:25:07.323128Z",
     "shell.execute_reply": "2020-08-21T18:25:07.322186Z"
    },
    "papermill": {
     "duration": 0.063734,
     "end_time": "2020-08-21T18:25:07.323283",
     "exception": false,
     "start_time": "2020-08-21T18:25:07.259549",
     "status": "completed"
    },
    "tags": []
   },
   "outputs": [],
   "source": [
    "class Perceptron:\n",
    "    def __init__(self):\n",
    "        self.w = None\n",
    "        self.b = None\n",
    "    \n",
    "    def model(self,x):\n",
    "        return 1 if (np.dot(self.w,x) >= self.b) else 0\n",
    "  \n",
    "    def predict(self,X):\n",
    "        Y=[]\n",
    "        for x in X:\n",
    "            result = self.model(x)\n",
    "            Y.append(result)\n",
    "        return np.array(Y)\n",
    "  \n",
    "    def fit(self,X,Y,epochs,lr):\n",
    "        self.w = np.ones(X.shape[1])\n",
    "        self.b = 0\n",
    "        accuracy = {}\n",
    "        max_accuracy = 0\n",
    "        w_matrix = []\n",
    "        for i in range(epochs):\n",
    "            for x,y in zip(X,Y):\n",
    "                y_pred = self.model(x)\n",
    "                if y==1 and y_pred==0:\n",
    "                    self.w = self.w + lr*x\n",
    "                    self.b = self.b + lr*1\n",
    "                elif y==0 and y_pred==1:\n",
    "                    self.w = self.w - lr*x\n",
    "                    self.b = self.b - lr*1\n",
    "            w_matrix.append(self.w)\n",
    "            Y_pred = self.predict(X)\n",
    "            accuracy[i] = accuracy_score(Y_pred,Y)\n",
    "            if (accuracy[i]>max_accuracy):\n",
    "                max_accuracy = accuracy[i]\n",
    "                chkptw = self.w\n",
    "                chkptb = self.b\n",
    "        self.w = chkptw\n",
    "        self.b = chkptb\n",
    "        print(max_accuracy)\n",
    "        plt.plot(*zip(*sorted(accuracy.items())))\n",
    "        plt.ylim([0,1])\n",
    "        plt.show()\n",
    "\n",
    "        return np.array(w_matrix)"
   ]
  },
  {
   "cell_type": "code",
   "execution_count": 24,
   "metadata": {
    "execution": {
     "iopub.execute_input": "2020-08-21T18:25:07.400022Z",
     "iopub.status.busy": "2020-08-21T18:25:07.398908Z",
     "iopub.status.idle": "2020-08-21T18:25:07.402565Z",
     "shell.execute_reply": "2020-08-21T18:25:07.401754Z"
    },
    "papermill": {
     "duration": 0.04446,
     "end_time": "2020-08-21T18:25:07.402747",
     "exception": false,
     "start_time": "2020-08-21T18:25:07.358287",
     "status": "completed"
    },
    "tags": []
   },
   "outputs": [],
   "source": [
    "perceptron = Perceptron()"
   ]
  },
  {
   "cell_type": "code",
   "execution_count": 25,
   "metadata": {
    "execution": {
     "iopub.execute_input": "2020-08-21T18:25:07.479455Z",
     "iopub.status.busy": "2020-08-21T18:25:07.478506Z",
     "iopub.status.idle": "2020-08-21T18:25:11.633164Z",
     "shell.execute_reply": "2020-08-21T18:25:11.632267Z"
    },
    "papermill": {
     "duration": 4.19535,
     "end_time": "2020-08-21T18:25:11.633325",
     "exception": false,
     "start_time": "2020-08-21T18:25:07.437975",
     "status": "completed"
    },
    "tags": []
   },
   "outputs": [
    {
     "name": "stdout",
     "output_type": "stream",
     "text": [
      "0.7565982404692082\n"
     ]
    },
    {
     "data": {
      "image/png": "[encoded data removed]",
      "text/plain": [
       "<Figure size 432x288 with 1 Axes>"
      ]
     },
     "metadata": {
      "needs_background": "light"
     },
     "output_type": "display_data"
    }
   ],
   "source": [
    "w_matrix = perceptron.fit(X_train,Y_train,1000,0.9)"
   ]
  },
  {
   "cell_type": "code",
   "execution_count": 26,
   "metadata": {
    "execution": {
     "iopub.execute_input": "2020-08-21T18:25:11.721340Z",
     "iopub.status.busy": "2020-08-21T18:25:11.720429Z",
     "iopub.status.idle": "2020-08-21T18:25:11.724910Z",
     "shell.execute_reply": "2020-08-21T18:25:11.724208Z"
    },
    "papermill": {
     "duration": 0.054478,
     "end_time": "2020-08-21T18:25:11.725067",
     "exception": false,
     "start_time": "2020-08-21T18:25:11.670589",
     "status": "completed"
    },
    "tags": []
   },
   "outputs": [],
   "source": [
    "X_test = scaler.fit_transform(test_new)"
   ]
  },
  {
   "cell_type": "code",
   "execution_count": 27,
   "metadata": {
    "execution": {
     "iopub.execute_input": "2020-08-21T18:25:11.804193Z",
     "iopub.status.busy": "2020-08-21T18:25:11.803065Z",
     "iopub.status.idle": "2020-08-21T18:25:11.893887Z",
     "shell.execute_reply": "2020-08-21T18:25:11.893163Z"
    },
    "papermill": {
     "duration": 0.132298,
     "end_time": "2020-08-21T18:25:11.894102",
     "exception": false,
     "start_time": "2020-08-21T18:25:11.761804",
     "status": "completed"
    },
    "tags": []
   },
   "outputs": [
    {
     "ename": "AttributeError",
     "evalue": "'numpy.ndarray' object has no attribute 'values'",
     "output_type": "error",
     "traceback": [
      "\u001b[0;31m---------------------------------------------------------------------------\u001b[0m",
      "\u001b[0;31mAttributeError\u001b[0m                            Traceback (most recent call last)",
      "\u001b[0;32m<ipython-input-27-03ec7f820b22>\u001b[0m in \u001b[0;36m<module>\u001b[0;34m\u001b[0m\n\u001b[0;32m----> 1\u001b[0;31m \u001b[0mX_test\u001b[0m \u001b[0;34m=\u001b[0m \u001b[0mX_test\u001b[0m\u001b[0;34m.\u001b[0m\u001b[0mvalues\u001b[0m\u001b[0;34m\u001b[0m\u001b[0;34m\u001b[0m\u001b[0m\n\u001b[0m",
      "\u001b[0;31mAttributeError\u001b[0m: 'numpy.ndarray' object has no attribute 'values'"
     ]
    }
   ],
   "source": [
    "X_test = X_test.values"
   ]
  },
  {
   "cell_type": "code",
   "execution_count": 28,
   "metadata": {
    "execution": {
     "iopub.execute_input": "2020-08-21T18:25:11.975497Z",
     "iopub.status.busy": "2020-08-21T18:25:11.974625Z",
     "iopub.status.idle": "2020-08-21T18:25:11.982118Z",
     "shell.execute_reply": "2020-08-21T18:25:11.981074Z"
    },
    "papermill": {
     "duration": 0.050011,
     "end_time": "2020-08-21T18:25:11.982318",
     "exception": false,
     "start_time": "2020-08-21T18:25:11.932307",
     "status": "completed"
    },
    "tags": []
   },
   "outputs": [
    {
     "name": "stdout",
     "output_type": "stream",
     "text": [
      "[1 1 1 1 1 1 1 1 1 1 1 1 1 1 1 1 1 1 1 0 1 1 1 1 1 1 1 1 1 1 1 1 0 1 1 1 0\n",
      " 1 0 1 1 1 1 1 1 0 1 0 0 1 1 0 1 1 1 1 1 1 1 1 1 0 1 0 0 1 1 1 1 1 0 1 1 0\n",
      " 1 0 1 0 1 1 1 1 1 1 1 0 1 1 1 0 1 1 1 1 1 0 1 1 1 0 0 1 1 1 1 0 1 1 1 1 0\n",
      " 1 0 0 1 1 0 1 1]\n"
     ]
    }
   ],
   "source": [
    "Y_pred = perceptron.predict(X_test)\n",
    "print(Y_pred)"
   ]
  },
  {
   "cell_type": "code",
   "execution_count": 29,
   "metadata": {
    "execution": {
     "iopub.execute_input": "2020-08-21T18:25:12.072767Z",
     "iopub.status.busy": "2020-08-21T18:25:12.071981Z",
     "iopub.status.idle": "2020-08-21T18:25:12.075991Z",
     "shell.execute_reply": "2020-08-21T18:25:12.075166Z"
    },
    "papermill": {
     "duration": 0.054395,
     "end_time": "2020-08-21T18:25:12.076136",
     "exception": false,
     "start_time": "2020-08-21T18:25:12.021741",
     "status": "completed"
    },
    "tags": []
   },
   "outputs": [],
   "source": [
    "submission = pd.DataFrame({'PhoneId':test_new['PhoneId'], 'Class':Y_pred}) \n",
    "submission = submission[['PhoneId', 'Class']] "
   ]
  },
  {
   "cell_type": "code",
   "execution_count": 30,
   "metadata": {
    "execution": {
     "iopub.execute_input": "2020-08-21T18:25:12.173658Z",
     "iopub.status.busy": "2020-08-21T18:25:12.172477Z",
     "iopub.status.idle": "2020-08-21T18:25:12.183866Z",
     "shell.execute_reply": "2020-08-21T18:25:12.183007Z"
    },
    "papermill": {
     "duration": 0.061008,
     "end_time": "2020-08-21T18:25:12.184028",
     "exception": false,
     "start_time": "2020-08-21T18:25:12.123020",
     "status": "completed"
    },
    "tags": []
   },
   "outputs": [
    {
     "data": {
      "text/html": [
       "<div>\n",
       "<style scoped>\n",
       "    .dataframe tbody tr th:only-of-type {\n",
       "        vertical-align: middle;\n",
       "    }\n",
       "\n",
       "    .dataframe tbody tr th {\n",
       "        vertical-align: top;\n",
       "    }\n",
       "\n",
       "    .dataframe thead th {\n",
       "        text-align: right;\n",
       "    }\n",
       "</style>\n",
       "<table border=\"1\" class=\"dataframe\">\n",
       "  <thead>\n",
       "    <tr style=\"text-align: right;\">\n",
       "      <th></th>\n",
       "      <th>PhoneId</th>\n",
       "      <th>Class</th>\n",
       "    </tr>\n",
       "  </thead>\n",
       "  <tbody>\n",
       "    <tr>\n",
       "      <th>0</th>\n",
       "      <td>3</td>\n",
       "      <td>1</td>\n",
       "    </tr>\n",
       "    <tr>\n",
       "      <th>1</th>\n",
       "      <td>11</td>\n",
       "      <td>1</td>\n",
       "    </tr>\n",
       "    <tr>\n",
       "      <th>2</th>\n",
       "      <td>13</td>\n",
       "      <td>1</td>\n",
       "    </tr>\n",
       "    <tr>\n",
       "      <th>3</th>\n",
       "      <td>16</td>\n",
       "      <td>1</td>\n",
       "    </tr>\n",
       "    <tr>\n",
       "      <th>4</th>\n",
       "      <td>19</td>\n",
       "      <td>1</td>\n",
       "    </tr>\n",
       "  </tbody>\n",
       "</table>\n",
       "</div>"
      ],
      "text/plain": [
       "   PhoneId  Class\n",
       "0        3      1\n",
       "1       11      1\n",
       "2       13      1\n",
       "3       16      1\n",
       "4       19      1"
      ]
     },
     "execution_count": 30,
     "metadata": {},
     "output_type": "execute_result"
    }
   ],
   "source": [
    "submission.head()"
   ]
  },
  {
   "cell_type": "code",
   "execution_count": 31,
   "metadata": {
    "execution": {
     "iopub.execute_input": "2020-08-21T18:25:12.277582Z",
     "iopub.status.busy": "2020-08-21T18:25:12.276680Z",
     "iopub.status.idle": "2020-08-21T18:25:12.282272Z",
     "shell.execute_reply": "2020-08-21T18:25:12.281007Z"
    },
    "papermill": {
     "duration": 0.056941,
     "end_time": "2020-08-21T18:25:12.282499",
     "exception": false,
     "start_time": "2020-08-21T18:25:12.225558",
     "status": "completed"
    },
    "tags": []
   },
   "outputs": [
    {
     "name": "stdout",
     "output_type": "stream",
     "text": [
      "     PhoneId  Class\n",
      "0          3      1\n",
      "1         11      1\n",
      "2         13      1\n",
      "3         16      1\n",
      "4         19      1\n",
      "..       ...    ...\n",
      "114      464      1\n",
      "115      467      1\n",
      "116      469      0\n",
      "117      471      1\n",
      "118      473      1\n",
      "\n",
      "[119 rows x 2 columns]\n"
     ]
    }
   ],
   "source": [
    "print(submission)"
   ]
  },
  {
   "cell_type": "code",
   "execution_count": 32,
   "metadata": {
    "execution": {
     "iopub.execute_input": "2020-08-21T18:25:12.368346Z",
     "iopub.status.busy": "2020-08-21T18:25:12.366463Z",
     "iopub.status.idle": "2020-08-21T18:25:12.372756Z",
     "shell.execute_reply": "2020-08-21T18:25:12.371545Z"
    },
    "papermill": {
     "duration": 0.05099,
     "end_time": "2020-08-21T18:25:12.372945",
     "exception": false,
     "start_time": "2020-08-21T18:25:12.321955",
     "status": "completed"
    },
    "tags": []
   },
   "outputs": [],
   "source": [
    "submission.to_csv(\"submission.csv\", index=False)"
   ]
  },
  {
   "cell_type": "code",
   "execution_count": null,
   "metadata": {
    "papermill": {
     "duration": 0.038573,
     "end_time": "2020-08-21T18:25:12.450733",
     "exception": false,
     "start_time": "2020-08-21T18:25:12.412160",
     "status": "completed"
    },
    "tags": []
   },
   "outputs": [],
   "source": []
  }
 ],
 "metadata": {
  "kernelspec": {
   "display_name": "Python 3",
   "language": "python",
   "name": "python3"
  },
  "language_info": {
   "codemirror_mode": {
    "name": "ipython",
    "version": 3
   },
   "file_extension": ".py",
   "mimetype": "text/x-python",
   "name": "python",
   "nbconvert_exporter": "python",
   "pygments_lexer": "ipython3",
   "version": "3.7.6"
  },
  "papermill": {
   "duration": 14.643011,
   "end_time": "2020-08-21T18:25:12.599493",
   "environment_variables": {},
   "exception": null,
   "input_path": "__notebook__.ipynb",
   "output_path": "__notebook__.ipynb",
   "parameters": {},
   "start_time": "2020-08-21T18:24:57.956482",
   "version": "2.1.0"
  }
 },
 "nbformat": 4,
 "nbformat_minor": 4
}
