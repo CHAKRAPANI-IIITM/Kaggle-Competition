{
 "cells": [
  {
   "cell_type": "code",
   "execution_count": 1,
   "metadata": {
    "execution": {
     "iopub.execute_input": "2020-08-20T03:44:04.454678Z",
     "iopub.status.busy": "2020-08-20T03:44:04.453887Z",
     "iopub.status.idle": "2020-08-20T03:44:05.495538Z",
     "shell.execute_reply": "2020-08-20T03:44:05.494663Z"
    },
    "id": "a192xmwKijHs",
    "papermill": {
     "duration": 1.065036,
     "end_time": "2020-08-20T03:44:05.495681",
     "exception": false,
     "start_time": "2020-08-20T03:44:04.430645",
     "status": "completed"
    },
    "tags": []
   },
   "outputs": [],
   "source": [
    "import os\n",
    "import sys\n",
    "import pickle\n",
    "import numpy as np\n",
    "import pandas as pd\n",
    "from PIL import Image, ImageFilter\n",
    "from tqdm import tqdm\n",
    "from sklearn.preprocessing import StandardScaler\n",
    "from sklearn.metrics import accuracy_score, mean_squared_error, log_loss, confusion_matrix\n",
    "import matplotlib.pyplot as plt\n",
    "\n",
    "np.random.seed(100)\n",
    "LEVEL = 'level_1'"
   ]
  },
  {
   "cell_type": "code",
   "execution_count": 2,
   "metadata": {
    "execution": {
     "iopub.execute_input": "2020-08-20T03:44:05.555244Z",
     "iopub.status.busy": "2020-08-20T03:44:05.554127Z",
     "iopub.status.idle": "2020-08-20T03:44:05.557565Z",
     "shell.execute_reply": "2020-08-20T03:44:05.556821Z"
    },
    "id": "fIuRdSezijHx",
    "papermill": {
     "duration": 0.048732,
     "end_time": "2020-08-20T03:44:05.557695",
     "exception": false,
     "start_time": "2020-08-20T03:44:05.508963",
     "status": "completed"
    },
    "tags": []
   },
   "outputs": [],
   "source": [
    "class SigmoidNeuron:\n",
    "    def __init__(self):\n",
    "        self.w = None\n",
    "        self.b = None\n",
    "    \n",
    "    def perceptron(self, x):\n",
    "        return np.dot(x, self.w.T) + self.b\n",
    "  \n",
    "    def sigmoid(self, x):\n",
    "        return 1.0/(1.0 + np.exp(-x))\n",
    "  \n",
    "    def grad_w_mse(self, x, y):\n",
    "        y_pred = self.sigmoid(self.perceptron(x))\n",
    "        return (y_pred - y) * y_pred * (1 - y_pred) * x\n",
    "  \n",
    "    def grad_b_mse(self, x, y):\n",
    "        y_pred = self.sigmoid(self.perceptron(x))\n",
    "        return (y_pred - y) * y_pred * (1 - y_pred)\n",
    "  \n",
    "    def grad_w_ce(self, x, y):\n",
    "        y_pred = self.sigmoid(self.perceptron(x))\n",
    "        if y == 0:\n",
    "            return y_pred * x\n",
    "        elif y == 1:\n",
    "            return -1 * (1 - y_pred) * x\n",
    "        else:\n",
    "            raise ValueError(\"y should be 0 or 1\")\n",
    "    \n",
    "    def grad_b_ce(self, x, y):\n",
    "        y_pred = self.sigmoid(self.perceptron(x))\n",
    "        if y == 0:\n",
    "            return y_pred \n",
    "        elif y == 1:\n",
    "            return -1 * (1 - y_pred)\n",
    "        else:\n",
    "            raise ValueError(\"y should be 0 or 1\")\n",
    "  \n",
    "    def fit(self, X, Y, epochs=1, learning_rate=1, initialise=True, loss_fn=\"mse\", display_loss=False):\n",
    "       # initialise w, b\n",
    "        if initialise:\n",
    "            self.w = np.random.randn(1, X.shape[1])\n",
    "            self.b = 0\n",
    "      \n",
    "        if display_loss:\n",
    "            loss = {}\n",
    "    \n",
    "        for i in tqdm(range(epochs), total=epochs, unit=\"epoch\"):\n",
    "            dw = 0\n",
    "            db = 0\n",
    "            for x, y in zip(X, Y):\n",
    "                if loss_fn == \"mse\":\n",
    "                    dw += self.grad_w_mse(x, y)\n",
    "                    db += self.grad_b_mse(x, y) \n",
    "                elif loss_fn == \"ce\":\n",
    "                    dw += self.grad_w_ce(x, y)\n",
    "                    db += self.grad_b_ce(x, y)\n",
    "            self.w -= learning_rate * dw\n",
    "            self.b -= learning_rate * db\n",
    "      \n",
    "            if display_loss:\n",
    "                Y_pred = self.sigmoid(self.perceptron(X))\n",
    "                if loss_fn == \"mse\":\n",
    "                    loss[i] = mean_squared_error(Y, Y_pred)\n",
    "                elif loss_fn == \"ce\":\n",
    "                    loss[i] = log_loss(Y, Y_pred)\n",
    "    \n",
    "        if display_loss:\n",
    "            plt.plot(np.array(list(loss.values())).astype(float))\n",
    "            plt.xlabel('Epochs')\n",
    "            if loss_fn == \"mse\":\n",
    "                plt.ylabel('Mean Squared Error')\n",
    "            elif loss_fn == \"ce\":\n",
    "                plt.ylabel('Log Loss')\n",
    "            plt.show()\n",
    "      \n",
    "    def predict(self, X):\n",
    "        Y_pred = []\n",
    "        for x in X:\n",
    "            y_pred = self.sigmoid(self.perceptron(x))\n",
    "            Y_pred.append(y_pred)\n",
    "        return np.array(Y_pred)"
   ]
  },
  {
   "cell_type": "code",
   "execution_count": 3,
   "metadata": {
    "execution": {
     "iopub.execute_input": "2020-08-20T03:44:05.593405Z",
     "iopub.status.busy": "2020-08-20T03:44:05.592265Z",
     "iopub.status.idle": "2020-08-20T03:44:05.595868Z",
     "shell.execute_reply": "2020-08-20T03:44:05.595263Z"
    },
    "id": "VDe2wjl_ijH0",
    "papermill": {
     "duration": 0.026051,
     "end_time": "2020-08-20T03:44:05.596004",
     "exception": false,
     "start_time": "2020-08-20T03:44:05.569953",
     "status": "completed"
    },
    "tags": []
   },
   "outputs": [],
   "source": [
    "def read_all(folder_path, key_prefix=\"\"):\n",
    "    '''\n",
    "    It returns a dictionary with 'file names' as keys and 'flattened image arrays' as values.\n",
    "    '''\n",
    "    print(\"Reading:\")\n",
    "    images = {}\n",
    "    files = os.listdir(folder_path)\n",
    "    for i, file_name in tqdm(enumerate(files), total=len(files)):\n",
    "        file_path = os.path.join(folder_path, file_name)\n",
    "        image_index = key_prefix + file_name[:-4]\n",
    "        image = Image.open(file_path)\n",
    "        image = image.convert(\"L\")\n",
    "        images[image_index] = np.array(image.copy()).flatten()\n",
    "        image.close()\n",
    "    return images"
   ]
  },
  {
   "cell_type": "code",
   "execution_count": 4,
   "metadata": {
    "execution": {
     "iopub.execute_input": "2020-08-20T03:44:05.629332Z",
     "iopub.status.busy": "2020-08-20T03:44:05.628406Z",
     "iopub.status.idle": "2020-08-20T03:44:26.991432Z",
     "shell.execute_reply": "2020-08-20T03:44:26.990403Z"
    },
    "id": "mjuaN532ijH4",
    "outputId": "4124ae5e-4a9c-44dc-8c84-7919e6927fe5",
    "papermill": {
     "duration": 21.383005,
     "end_time": "2020-08-20T03:44:26.991567",
     "exception": false,
     "start_time": "2020-08-20T03:44:05.608562",
     "status": "completed"
    },
    "tags": []
   },
   "outputs": [
    {
     "name": "stderr",
     "output_type": "stream",
     "text": [
      "  1%|          | 49/4500 [00:00<00:09, 484.40it/s]"
     ]
    },
    {
     "name": "stdout",
     "output_type": "stream",
     "text": [
      "Reading:\n"
     ]
    },
    {
     "name": "stderr",
     "output_type": "stream",
     "text": [
      "100%|██████████| 4500/4500 [00:08<00:00, 553.33it/s]\n",
      "  4%|▎         | 55/1500 [00:00<00:02, 549.28it/s]"
     ]
    },
    {
     "name": "stdout",
     "output_type": "stream",
     "text": [
      "Reading:\n"
     ]
    },
    {
     "name": "stderr",
     "output_type": "stream",
     "text": [
      "100%|██████████| 1500/1500 [00:02<00:00, 538.04it/s]\n",
      "  4%|▍         | 61/1500 [00:00<00:02, 603.76it/s]"
     ]
    },
    {
     "name": "stdout",
     "output_type": "stream",
     "text": [
      "Reading:\n"
     ]
    },
    {
     "name": "stderr",
     "output_type": "stream",
     "text": [
      "100%|██████████| 1500/1500 [00:02<00:00, 506.07it/s]\n",
      "  4%|▍         | 66/1500 [00:00<00:02, 657.43it/s]"
     ]
    },
    {
     "name": "stdout",
     "output_type": "stream",
     "text": [
      "Reading:\n"
     ]
    },
    {
     "name": "stderr",
     "output_type": "stream",
     "text": [
      "100%|██████████| 1500/1500 [00:02<00:00, 545.32it/s]\n",
      "  2%|▏         | 55/3000 [00:00<00:05, 546.99it/s]"
     ]
    },
    {
     "name": "stdout",
     "output_type": "stream",
     "text": [
      "9000\n",
      "Reading:\n"
     ]
    },
    {
     "name": "stderr",
     "output_type": "stream",
     "text": [
      "100%|██████████| 3000/3000 [00:04<00:00, 659.57it/s]"
     ]
    },
    {
     "name": "stdout",
     "output_type": "stream",
     "text": [
      "3000\n"
     ]
    },
    {
     "name": "stderr",
     "output_type": "stream",
     "text": [
      "\n"
     ]
    }
   ],
   "source": [
    "languages = ['ta', 'hi', 'en']\n",
    "#trainPath = \"../input/padhai-text-non-text-classification-level-1/\"+LEVEL+\"_train/\"+LEVEL+\"/\"\n",
    "#testPath = \"../input/padhai-text-non-text-classification-level-1/\"+LEVEL+\"_test/kaggle_\"+LEVEL\n",
    "images_train = read_all(\"../input/text-non-text-classification/level_3_train/level_3/\"+\"background\", key_prefix='bgr_') # change the path\n",
    "for language in languages:\n",
    "    images_train.update(read_all(\"../input/text-non-text-classification/level_3_train/level_3/\"+language, key_prefix=language+\"_\" ))\n",
    "print(len(images_train))\n",
    "\n",
    "images_test = read_all(\"../input/text-non-text-classification/level_3_test/kaggle_level_3\", key_prefix='') # change the path\n",
    "print(len(images_test))"
   ]
  },
  {
   "cell_type": "code",
   "execution_count": 5,
   "metadata": {
    "execution": {
     "iopub.execute_input": "2020-08-20T03:44:27.194694Z",
     "iopub.status.busy": "2020-08-20T03:44:27.193935Z",
     "iopub.status.idle": "2020-08-20T03:44:27.933765Z",
     "shell.execute_reply": "2020-08-20T03:44:27.933079Z"
    },
    "papermill": {
     "duration": 0.842669,
     "end_time": "2020-08-20T03:44:27.933894",
     "exception": false,
     "start_time": "2020-08-20T03:44:27.091225",
     "status": "completed"
    },
    "tags": []
   },
   "outputs": [],
   "source": [
    "! cd ../input"
   ]
  },
  {
   "cell_type": "code",
   "execution_count": 6,
   "metadata": {
    "execution": {
     "iopub.execute_input": "2020-08-20T03:44:28.138317Z",
     "iopub.status.busy": "2020-08-20T03:44:28.137231Z",
     "iopub.status.idle": "2020-08-20T03:44:28.142405Z",
     "shell.execute_reply": "2020-08-20T03:44:28.141655Z"
    },
    "id": "xqcTJRmSijH-",
    "outputId": "3a26f608-868b-498d-b18d-bfae2b452d4e",
    "papermill": {
     "duration": 0.11176,
     "end_time": "2020-08-20T03:44:28.142543",
     "exception": false,
     "start_time": "2020-08-20T03:44:28.030783",
     "status": "completed"
    },
    "tags": []
   },
   "outputs": [
    {
     "data": {
      "text/plain": [
       "['2345', '170', '1879', '438', '2257']"
      ]
     },
     "execution_count": 6,
     "metadata": {},
     "output_type": "execute_result"
    }
   ],
   "source": [
    "list(images_test.keys())[:5]"
   ]
  },
  {
   "cell_type": "code",
   "execution_count": 7,
   "metadata": {
    "execution": {
     "iopub.execute_input": "2020-08-20T03:44:28.359479Z",
     "iopub.status.busy": "2020-08-20T03:44:28.353449Z",
     "iopub.status.idle": "2020-08-20T03:44:28.405194Z",
     "shell.execute_reply": "2020-08-20T03:44:28.404334Z"
    },
    "id": "yQUKxV_FijIC",
    "outputId": "e6f2538b-3285-49ea-d6fd-7fbadc2bb975",
    "papermill": {
     "duration": 0.163512,
     "end_time": "2020-08-20T03:44:28.405334",
     "exception": false,
     "start_time": "2020-08-20T03:44:28.241822",
     "status": "completed"
    },
    "tags": []
   },
   "outputs": [
    {
     "name": "stdout",
     "output_type": "stream",
     "text": [
      "(9000, 4096) (9000,)\n",
      "(3000, 4096)\n"
     ]
    }
   ],
   "source": [
    "X_train = []\n",
    "Y_train = []\n",
    "\n",
    "for key, value in images_train.items():\n",
    "    X_train.append(value)\n",
    "    if key[:4] == \"bgr_\":\n",
    "        Y_train.append(0)\n",
    "    else:\n",
    "        Y_train.append(1)\n",
    "\n",
    "ID_test = []\n",
    "X_test = []\n",
    "for key, value in images_test.items():\n",
    "    ID_test.append(int(key))\n",
    "    X_test.append(value)\n",
    "\n",
    "X_train = np.array(X_train)\n",
    "Y_train = np.array(Y_train)\n",
    "X_test = np.array(X_test)\n",
    "\n",
    "print(X_train.shape, Y_train.shape)\n",
    "print(X_test.shape)"
   ]
  },
  {
   "cell_type": "code",
   "execution_count": 8,
   "metadata": {
    "execution": {
     "iopub.execute_input": "2020-08-20T03:44:28.610213Z",
     "iopub.status.busy": "2020-08-20T03:44:28.609381Z",
     "iopub.status.idle": "2020-08-20T03:44:29.715415Z",
     "shell.execute_reply": "2020-08-20T03:44:29.714693Z"
    },
    "id": "wy3IKx26ijIG",
    "outputId": "f571f85d-1fe6-4a33-bcf1-ca1574aa3709",
    "papermill": {
     "duration": 1.210917,
     "end_time": "2020-08-20T03:44:29.715566",
     "exception": false,
     "start_time": "2020-08-20T03:44:28.504649",
     "status": "completed"
    },
    "tags": []
   },
   "outputs": [],
   "source": [
    "scaler = StandardScaler()\n",
    "X_scaled_train = scaler.fit_transform(X_train)\n",
    "X_scaled_test = scaler.transform(X_test)"
   ]
  },
  {
   "cell_type": "markdown",
   "execution_count": null,
   "metadata": {
    "papermill": {
     "duration": 0.097992,
     "end_time": "2020-08-20T03:44:29.912169",
     "exception": false,
     "start_time": "2020-08-20T03:44:29.814177",
     "status": "completed"
    },
    "tags": []
   },
   "source": [
    "# Perceptron"
   ]
  },
  {
   "cell_type": "code",
   "execution_count": 9,
   "metadata": {
    "execution": {
     "iopub.execute_input": "2020-08-20T03:44:30.132724Z",
     "iopub.status.busy": "2020-08-20T03:44:30.131593Z",
     "iopub.status.idle": "2020-08-20T03:44:30.134793Z",
     "shell.execute_reply": "2020-08-20T03:44:30.134146Z"
    },
    "papermill": {
     "duration": 0.124488,
     "end_time": "2020-08-20T03:44:30.134934",
     "exception": false,
     "start_time": "2020-08-20T03:44:30.010446",
     "status": "completed"
    },
    "tags": []
   },
   "outputs": [],
   "source": [
    "class Perceptron:\n",
    "    def __init__(self):\n",
    "        self.w = None\n",
    "        self.b = None \n",
    "    def model(self,x):\n",
    "        return 1 if (np.dot(self.w,x) >= self.b) else 0 \n",
    "    def predict(self,X):\n",
    "        Y=[]\n",
    "        for x in X:\n",
    "            result = self.model(x)\n",
    "            Y.append(result)\n",
    "        return np.array(Y) \n",
    "    def fit(self,X,Y,epochs,lr):\n",
    "        self.w = np.ones(X.shape[1])\n",
    "        self.b = 0\n",
    "        accuracy = {}\n",
    "        max_accuracy = 0\n",
    "        w_matrix = []\n",
    "        b_matrix = []\n",
    "        for i in range(epochs):\n",
    "            for x,y in zip(X,Y):\n",
    "                y_pred = self.model(x)\n",
    "                if y==1 and y_pred==0:\n",
    "                    self.w = self.w + lr*x\n",
    "                    self.b = self.b + lr*1\n",
    "                elif y==0 and y_pred==1:\n",
    "                    self.w = self.w - lr*x\n",
    "                    self.b = self.b - lr*1\n",
    "            w_matrix.append(self.w)\n",
    "            b_matrix.append(self.b)\n",
    "            accuracy[i] = accuracy_score(self.predict(X),Y)\n",
    "            if (accuracy[i]>max_accuracy):\n",
    "                max_accuracy = accuracy[i]\n",
    "                chkptw = self.w\n",
    "                chkptb = self.b\n",
    "        self.w = chkptw\n",
    "        self.b = chkptb\n",
    "        print(max_accuracy)\n",
    "        plt.plot(*zip(*sorted(accuracy.items())))\n",
    "        plt.ylim([0,1])\n",
    "        plt.show()\n",
    "        w_matrix = np.array(w_matrix)\n",
    "        b_matrix = np.array(b_matrix)\n",
    "        return w_matrix,b_matrix"
   ]
  },
  {
   "cell_type": "code",
   "execution_count": 10,
   "metadata": {
    "execution": {
     "iopub.execute_input": "2020-08-20T03:44:30.360740Z",
     "iopub.status.busy": "2020-08-20T03:44:30.359557Z",
     "iopub.status.idle": "2020-08-20T03:44:30.364823Z",
     "shell.execute_reply": "2020-08-20T03:44:30.363881Z"
    },
    "papermill": {
     "duration": 0.128691,
     "end_time": "2020-08-20T03:44:30.365010",
     "exception": false,
     "start_time": "2020-08-20T03:44:30.236319",
     "status": "completed"
    },
    "tags": []
   },
   "outputs": [],
   "source": [
    "perceptron = Perceptron()"
   ]
  },
  {
   "cell_type": "code",
   "execution_count": 11,
   "metadata": {
    "execution": {
     "iopub.execute_input": "2020-08-20T03:44:30.576269Z",
     "iopub.status.busy": "2020-08-20T03:44:30.575496Z",
     "iopub.status.idle": "2020-08-20T03:44:50.196653Z",
     "shell.execute_reply": "2020-08-20T03:44:50.195834Z"
    },
    "papermill": {
     "duration": 19.726636,
     "end_time": "2020-08-20T03:44:50.196830",
     "exception": false,
     "start_time": "2020-08-20T03:44:30.470194",
     "status": "completed"
    },
    "tags": []
   },
   "outputs": [
    {
     "name": "stdout",
     "output_type": "stream",
     "text": [
      "0.7888888888888889\n"
     ]
    },
    {
     "data": {
      "image/png": "[encoded data removed]",
      "text/plain": [
       "<Figure size 432x288 with 1 Axes>"
      ]
     },
     "metadata": {
      "needs_background": "light"
     },
     "output_type": "display_data"
    }
   ],
   "source": [
    "w_matrix,b_matrix = perceptron.fit(X_scaled_train,Y_train,100,0.000013)"
   ]
  },
  {
   "cell_type": "code",
   "execution_count": 12,
   "metadata": {
    "execution": {
     "iopub.execute_input": "2020-08-20T03:44:50.407570Z",
     "iopub.status.busy": "2020-08-20T03:44:50.406808Z",
     "iopub.status.idle": "2020-08-20T03:44:50.493596Z",
     "shell.execute_reply": "2020-08-20T03:44:50.494310Z"
    },
    "papermill": {
     "duration": 0.193869,
     "end_time": "2020-08-20T03:44:50.494540",
     "exception": false,
     "start_time": "2020-08-20T03:44:50.300671",
     "status": "completed"
    },
    "tags": []
   },
   "outputs": [
    {
     "name": "stdout",
     "output_type": "stream",
     "text": [
      "0.7888888888888889\n"
     ]
    }
   ],
   "source": [
    "Y_pred_train = perceptron.predict(X_scaled_train)\n",
    "print(accuracy_score(Y_pred_train,Y_train))"
   ]
  },
  {
   "cell_type": "code",
   "execution_count": 13,
   "metadata": {
    "execution": {
     "iopub.execute_input": "2020-08-20T03:44:50.704640Z",
     "iopub.status.busy": "2020-08-20T03:44:50.703368Z",
     "iopub.status.idle": "2020-08-20T03:44:50.732265Z",
     "shell.execute_reply": "2020-08-20T03:44:50.731611Z"
    },
    "papermill": {
     "duration": 0.13416,
     "end_time": "2020-08-20T03:44:50.732403",
     "exception": false,
     "start_time": "2020-08-20T03:44:50.598243",
     "status": "completed"
    },
    "tags": []
   },
   "outputs": [],
   "source": [
    "Y_pred_test = perceptron.predict(X_scaled_test)"
   ]
  },
  {
   "cell_type": "code",
   "execution_count": 14,
   "metadata": {
    "execution": {
     "iopub.execute_input": "2020-08-20T03:44:50.940258Z",
     "iopub.status.busy": "2020-08-20T03:44:50.939426Z",
     "iopub.status.idle": "2020-08-20T03:44:50.942560Z",
     "shell.execute_reply": "2020-08-20T03:44:50.943157Z"
    },
    "papermill": {
     "duration": 0.111643,
     "end_time": "2020-08-20T03:44:50.943327",
     "exception": false,
     "start_time": "2020-08-20T03:44:50.831684",
     "status": "completed"
    },
    "tags": []
   },
   "outputs": [
    {
     "name": "stdout",
     "output_type": "stream",
     "text": [
      "[1 0 0 ... 1 1 1]\n"
     ]
    }
   ],
   "source": [
    "print(Y_pred_test)"
   ]
  },
  {
   "cell_type": "markdown",
   "execution_count": null,
   "metadata": {
    "papermill": {
     "duration": 0.101348,
     "end_time": "2020-08-20T03:44:51.147314",
     "exception": false,
     "start_time": "2020-08-20T03:44:51.045966",
     "status": "completed"
    },
    "tags": []
   },
   "source": [
    "# \"\"\"\"\"\"\""
   ]
  },
  {
   "cell_type": "code",
   "execution_count": 15,
   "metadata": {
    "execution": {
     "iopub.execute_input": "2020-08-20T03:44:51.358795Z",
     "iopub.status.busy": "2020-08-20T03:44:51.357657Z",
     "iopub.status.idle": "2020-08-20T03:45:48.865591Z",
     "shell.execute_reply": "2020-08-20T03:45:48.864861Z"
    },
    "id": "eboQW2n1ijIK",
    "outputId": "fa8fbf5d-5d5c-4463-aa3c-909d6698b9b0",
    "papermill": {
     "duration": 57.617715,
     "end_time": "2020-08-20T03:45:48.865892",
     "exception": false,
     "start_time": "2020-08-20T03:44:51.248177",
     "status": "completed"
    },
    "tags": []
   },
   "outputs": [
    {
     "name": "stderr",
     "output_type": "stream",
     "text": [
      "100%|██████████| 100/100 [00:57<00:00,  1.74epoch/s]\n"
     ]
    },
    {
     "data": {
      "image/png": "[encoded data removed]",
      "text/plain": [
       "<Figure size 432x288 with 1 Axes>"
      ]
     },
     "metadata": {
      "needs_background": "light"
     },
     "output_type": "display_data"
    }
   ],
   "source": [
    "sn_mse = SigmoidNeuron()\n",
    "sn_mse.fit(X_scaled_train, Y_train, epochs=100, learning_rate=0.0000009, loss_fn=\"mse\", display_loss=True)"
   ]
  },
  {
   "cell_type": "code",
   "execution_count": 16,
   "metadata": {
    "execution": {
     "iopub.execute_input": "2020-08-20T03:45:49.096536Z",
     "iopub.status.busy": "2020-08-20T03:45:49.094832Z",
     "iopub.status.idle": "2020-08-20T03:46:38.404012Z",
     "shell.execute_reply": "2020-08-20T03:46:38.403229Z"
    },
    "id": "547SFsgsijIO",
    "outputId": "e6595d5e-a9e0-4b5f-f7b5-a56297bc69c0",
    "papermill": {
     "duration": 49.425878,
     "end_time": "2020-08-20T03:46:38.404147",
     "exception": false,
     "start_time": "2020-08-20T03:45:48.978269",
     "status": "completed"
    },
    "tags": []
   },
   "outputs": [
    {
     "name": "stderr",
     "output_type": "stream",
     "text": [
      "100%|██████████| 100/100 [00:49<00:00,  2.04epoch/s]\n"
     ]
    },
    {
     "data": {
      "image/png": "[encoded data removed]",
      "text/plain": [
       "<Figure size 432x288 with 1 Axes>"
      ]
     },
     "metadata": {
      "needs_background": "light"
     },
     "output_type": "display_data"
    }
   ],
   "source": [
    "sn_ce = SigmoidNeuron()\n",
    "sn_ce.fit(X_scaled_train, Y_train, epochs=100, learning_rate=0.000005, loss_fn=\"ce\", display_loss=True)"
   ]
  },
  {
   "cell_type": "code",
   "execution_count": 17,
   "metadata": {
    "execution": {
     "iopub.execute_input": "2020-08-20T03:46:38.641319Z",
     "iopub.status.busy": "2020-08-20T03:46:38.640293Z",
     "iopub.status.idle": "2020-08-20T03:46:38.642965Z",
     "shell.execute_reply": "2020-08-20T03:46:38.643497Z"
    },
    "id": "_a3_-9zYijIS",
    "papermill": {
     "duration": 0.125596,
     "end_time": "2020-08-20T03:46:38.643674",
     "exception": false,
     "start_time": "2020-08-20T03:46:38.518078",
     "status": "completed"
    },
    "tags": []
   },
   "outputs": [],
   "source": [
    "def print_accuracy(sn):\n",
    "    Y_pred_train = sn.predict(X_scaled_train)\n",
    "    Y_pred_binarised_train = (Y_pred_train >= 0.5).astype(\"int\").ravel()\n",
    "    accuracy_train = accuracy_score(Y_pred_binarised_train, Y_train)\n",
    "    print(\"Train Accuracy : \", accuracy_train)\n",
    "    print(\"-\"*50)"
   ]
  },
  {
   "cell_type": "code",
   "execution_count": 18,
   "metadata": {
    "execution": {
     "iopub.execute_input": "2020-08-20T03:46:38.877659Z",
     "iopub.status.busy": "2020-08-20T03:46:38.876878Z",
     "iopub.status.idle": "2020-08-20T03:46:39.041596Z",
     "shell.execute_reply": "2020-08-20T03:46:39.040365Z"
    },
    "id": "lqe2g9PLijIW",
    "outputId": "0ce4b45c-78f5-4323-829b-db3e12c3f268",
    "papermill": {
     "duration": 0.282949,
     "end_time": "2020-08-20T03:46:39.041791",
     "exception": false,
     "start_time": "2020-08-20T03:46:38.758842",
     "status": "completed"
    },
    "tags": []
   },
   "outputs": [
    {
     "name": "stdout",
     "output_type": "stream",
     "text": [
      "Train Accuracy :  0.48477777777777775\n",
      "--------------------------------------------------\n"
     ]
    }
   ],
   "source": [
    "print_accuracy(sn_mse)\n",
    "#print_accuracy(sn_ce)"
   ]
  },
  {
   "cell_type": "markdown",
   "execution_count": null,
   "metadata": {
    "id": "8IMv7SCUijIa",
    "papermill": {
     "duration": 0.115068,
     "end_time": "2020-08-20T03:46:39.273931",
     "exception": false,
     "start_time": "2020-08-20T03:46:39.158863",
     "status": "completed"
    },
    "tags": []
   },
   "source": [
    "## Sample Submission"
   ]
  },
  {
   "cell_type": "code",
   "execution_count": 19,
   "metadata": {
    "execution": {
     "iopub.execute_input": "2020-08-20T03:46:39.524209Z",
     "iopub.status.busy": "2020-08-20T03:46:39.523334Z",
     "iopub.status.idle": "2020-08-20T03:46:39.733588Z",
     "shell.execute_reply": "2020-08-20T03:46:39.732951Z"
    },
    "id": "4_pBsgYlijIb",
    "papermill": {
     "duration": 0.346467,
     "end_time": "2020-08-20T03:46:39.733748",
     "exception": false,
     "start_time": "2020-08-20T03:46:39.387281",
     "status": "completed"
    },
    "tags": []
   },
   "outputs": [],
   "source": [
    "#Y_pred_test = sn_ce.predict(X_scaled_test)\n",
    "#Y_pred_binarised_test = (Y_pred_test >= 0.5).astype(\"int\").ravel()\n",
    "submission = {}\n",
    "submission['ImageId'] = ID_test\n",
    "submission['Class'] = Y_pred_test\n",
    "\n",
    "submission = pd.DataFrame(submission)\n",
    "submission = submission[['ImageId', 'Class']]\n",
    "submission = submission.sort_values(['ImageId'])\n",
    "submission.to_csv(\"submission.csv\", index=False)"
   ]
  },
  {
   "cell_type": "code",
   "execution_count": 20,
   "metadata": {
    "execution": {
     "iopub.execute_input": "2020-08-20T03:46:39.969980Z",
     "iopub.status.busy": "2020-08-20T03:46:39.968905Z",
     "iopub.status.idle": "2020-08-20T03:46:39.974015Z",
     "shell.execute_reply": "2020-08-20T03:46:39.972965Z"
    },
    "papermill": {
     "duration": 0.127295,
     "end_time": "2020-08-20T03:46:39.974210",
     "exception": false,
     "start_time": "2020-08-20T03:46:39.846915",
     "status": "completed"
    },
    "tags": []
   },
   "outputs": [
    {
     "name": "stdout",
     "output_type": "stream",
     "text": [
      "      ImageId  Class\n",
      "2757        0      1\n",
      "1796        1      1\n",
      "741         2      0\n",
      "2261        3      1\n",
      "2583        4      0\n",
      "...       ...    ...\n",
      "134      2995      1\n",
      "1032     2996      0\n",
      "1102     2997      0\n",
      "302      2998      0\n",
      "2497     2999      1\n",
      "\n",
      "[3000 rows x 2 columns]\n"
     ]
    }
   ],
   "source": [
    "print(submission)"
   ]
  },
  {
   "cell_type": "code",
   "execution_count": null,
   "metadata": {
    "papermill": {
     "duration": 0.114407,
     "end_time": "2020-08-20T03:46:40.204304",
     "exception": false,
     "start_time": "2020-08-20T03:46:40.089897",
     "status": "completed"
    },
    "tags": []
   },
   "outputs": [],
   "source": []
  }
 ],
 "metadata": {
  "kernelspec": {
   "display_name": "Python 3",
   "language": "python",
   "name": "python3"
  },
  "language_info": {
   "codemirror_mode": {
    "name": "ipython",
    "version": 3
   },
   "file_extension": ".py",
   "mimetype": "text/x-python",
   "name": "python",
   "nbconvert_exporter": "python",
   "pygments_lexer": "ipython3",
   "version": "3.7.6"
  },
  "papermill": {
   "duration": 160.910187,
   "end_time": "2020-08-20T03:46:40.427979",
   "environment_variables": {},
   "exception": null,
   "input_path": "__notebook__.ipynb",
   "output_path": "__notebook__.ipynb",
   "parameters": {},
   "start_time": "2020-08-20T03:43:59.517792",
   "version": "2.1.0"
  }
 },
 "nbformat": 4,
 "nbformat_minor": 4
}
