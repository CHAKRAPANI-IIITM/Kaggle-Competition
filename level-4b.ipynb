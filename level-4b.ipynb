{
 "cells": [
  {
   "cell_type": "code",
   "execution_count": 1,
   "metadata": {
    "execution": {
     "iopub.execute_input": "2020-08-21T16:58:13.570161Z",
     "iopub.status.busy": "2020-08-21T16:58:13.569265Z",
     "iopub.status.idle": "2020-08-21T16:58:14.927188Z",
     "shell.execute_reply": "2020-08-21T16:58:14.926217Z"
    },
    "papermill": {
     "duration": 1.385168,
     "end_time": "2020-08-21T16:58:14.927352",
     "exception": false,
     "start_time": "2020-08-21T16:58:13.542184",
     "status": "completed"
    },
    "tags": []
   },
   "outputs": [],
   "source": [
    "import os\n",
    "import sys\n",
    "import pickle\n",
    "import numpy as np\n",
    "import pandas as pd\n",
    "from PIL import Image, ImageFilter\n",
    "from tqdm import tqdm\n",
    "from sklearn.preprocessing import StandardScaler,MinMaxScaler\n",
    "from sklearn.metrics import accuracy_score, mean_squared_error, log_loss, confusion_matrix\n",
    "import matplotlib.pyplot as plt\n",
    "import operator\n",
    "import json\n",
    "np.random.seed(100)\n",
    "LEVEL = 'level_4b'"
   ]
  },
  {
   "cell_type": "code",
   "execution_count": 2,
   "metadata": {
    "execution": {
     "iopub.execute_input": "2020-08-21T16:58:14.973384Z",
     "iopub.status.busy": "2020-08-21T16:58:14.969723Z",
     "iopub.status.idle": "2020-08-21T16:58:14.977585Z",
     "shell.execute_reply": "2020-08-21T16:58:14.976779Z"
    },
    "papermill": {
     "duration": 0.033779,
     "end_time": "2020-08-21T16:58:14.977761",
     "exception": false,
     "start_time": "2020-08-21T16:58:14.943982",
     "status": "completed"
    },
    "tags": []
   },
   "outputs": [],
   "source": [
    "def read_all(folder_path, key_prefix=\"\"):\n",
    "    '''\n",
    "    It returns a dictionary with 'file names' as keys and 'flattened image arrays' as values.\n",
    "    '''\n",
    "    print(\"Reading:\")\n",
    "    images = {}\n",
    "    img_thesh = lambda x : 0 if x >10  else 255\n",
    "    files = os.listdir(folder_path)\n",
    "    for i, file_name in tqdm(enumerate(files), total=len(files)):\n",
    "        file_path = os.path.join(folder_path, file_name)\n",
    "        image_index = key_prefix + file_name[:-4]\n",
    "        image = Image.open(file_path)\n",
    "        image = image.convert(\"L\").point(img_thesh)\n",
    "        image = image.filter(ImageFilter.MedianFilter)\n",
    "        images[image_index] = np.array(image.copy()).flatten()\n",
    "        image.close()\n",
    "    return images"
   ]
  },
  {
   "cell_type": "code",
   "execution_count": 3,
   "metadata": {
    "execution": {
     "iopub.execute_input": "2020-08-21T16:58:15.020449Z",
     "iopub.status.busy": "2020-08-21T16:58:15.019498Z",
     "iopub.status.idle": "2020-08-21T16:58:47.629046Z",
     "shell.execute_reply": "2020-08-21T16:58:47.630043Z"
    },
    "papermill": {
     "duration": 32.635752,
     "end_time": "2020-08-21T16:58:47.630254",
     "exception": false,
     "start_time": "2020-08-21T16:58:14.994502",
     "status": "completed"
    },
    "tags": []
   },
   "outputs": [
    {
     "name": "stderr",
     "output_type": "stream",
     "text": [
      "  0%|          | 0/4500 [00:00<?, ?it/s]"
     ]
    },
    {
     "name": "stdout",
     "output_type": "stream",
     "text": [
      "Reading:\n"
     ]
    },
    {
     "name": "stderr",
     "output_type": "stream",
     "text": [
      "100%|██████████| 4500/4500 [00:11<00:00, 398.05it/s]\n",
      "  3%|▎         | 39/1500 [00:00<00:03, 385.69it/s]"
     ]
    },
    {
     "name": "stdout",
     "output_type": "stream",
     "text": [
      "Reading:\n"
     ]
    },
    {
     "name": "stderr",
     "output_type": "stream",
     "text": [
      "100%|██████████| 1500/1500 [00:03<00:00, 379.26it/s]\n",
      "  3%|▎         | 38/1500 [00:00<00:03, 379.13it/s]"
     ]
    },
    {
     "name": "stdout",
     "output_type": "stream",
     "text": [
      "Reading:\n"
     ]
    },
    {
     "name": "stderr",
     "output_type": "stream",
     "text": [
      "100%|██████████| 1500/1500 [00:03<00:00, 384.60it/s]\n",
      "  2%|▏         | 34/1500 [00:00<00:04, 333.17it/s]"
     ]
    },
    {
     "name": "stdout",
     "output_type": "stream",
     "text": [
      "Reading:\n"
     ]
    },
    {
     "name": "stderr",
     "output_type": "stream",
     "text": [
      "100%|██████████| 1500/1500 [00:04<00:00, 348.64it/s]\n",
      "  1%|          | 35/3000 [00:00<00:08, 345.78it/s]"
     ]
    },
    {
     "name": "stdout",
     "output_type": "stream",
     "text": [
      "9000\n",
      "Reading:\n"
     ]
    },
    {
     "name": "stderr",
     "output_type": "stream",
     "text": [
      "100%|██████████| 3000/3000 [00:08<00:00, 340.43it/s]"
     ]
    },
    {
     "name": "stdout",
     "output_type": "stream",
     "text": [
      "3000\n"
     ]
    },
    {
     "name": "stderr",
     "output_type": "stream",
     "text": [
      "\n"
     ]
    }
   ],
   "source": [
    "languages = ['ta', 'hi', 'en']\n",
    "#trainPath = \"../input/padhai-text-non-text-classification-level-1/\"+LEVEL+\"_train/\"+LEVEL+\"/\"\n",
    "#testPath = \"../input/padhai-text-non-text-classification-level-1/\"+LEVEL+\"_test/kaggle_\"+LEVEL\n",
    "images_train = read_all(\"../input/text-non-text-classification-level-4b/level_4b_train/level_4b/\"+\"background\", key_prefix='bgr_') # change the path\n",
    "for language in languages:\n",
    "    images_train.update(read_all(\"../input/text-non-text-classification-level-4b/level_4b_train/level_4b/\"+language, key_prefix=language+\"_\" ))\n",
    "print(len(images_train))\n",
    "\n",
    "images_test = read_all(\"../input/text-non-text-classification-level-4b/level_4b_test/kaggle_level_4b\", key_prefix='') # change the path\n",
    "print(len(images_test))"
   ]
  },
  {
   "cell_type": "code",
   "execution_count": 4,
   "metadata": {
    "execution": {
     "iopub.execute_input": "2020-08-21T16:58:47.932135Z",
     "iopub.status.busy": "2020-08-21T16:58:47.931267Z",
     "iopub.status.idle": "2020-08-21T16:58:48.693866Z",
     "shell.execute_reply": "2020-08-21T16:58:48.693140Z"
    },
    "papermill": {
     "duration": 0.915681,
     "end_time": "2020-08-21T16:58:48.694024",
     "exception": false,
     "start_time": "2020-08-21T16:58:47.778343",
     "status": "completed"
    },
    "tags": []
   },
   "outputs": [],
   "source": [
    "! cd ../input"
   ]
  },
  {
   "cell_type": "code",
   "execution_count": 5,
   "metadata": {
    "execution": {
     "iopub.execute_input": "2020-08-21T16:58:48.997802Z",
     "iopub.status.busy": "2020-08-21T16:58:48.996888Z",
     "iopub.status.idle": "2020-08-21T16:58:49.002244Z",
     "shell.execute_reply": "2020-08-21T16:58:49.001384Z"
    },
    "papermill": {
     "duration": 0.160925,
     "end_time": "2020-08-21T16:58:49.002395",
     "exception": false,
     "start_time": "2020-08-21T16:58:48.841470",
     "status": "completed"
    },
    "tags": []
   },
   "outputs": [
    {
     "data": {
      "text/plain": [
       "['919', '1357', '795', '84', '2520']"
      ]
     },
     "execution_count": 5,
     "metadata": {},
     "output_type": "execute_result"
    }
   ],
   "source": [
    "list(images_test.keys())[:5]"
   ]
  },
  {
   "cell_type": "code",
   "execution_count": 6,
   "metadata": {
    "execution": {
     "iopub.execute_input": "2020-08-21T16:58:49.319287Z",
     "iopub.status.busy": "2020-08-21T16:58:49.317041Z",
     "iopub.status.idle": "2020-08-21T16:58:49.404250Z",
     "shell.execute_reply": "2020-08-21T16:58:49.403556Z"
    },
    "papermill": {
     "duration": 0.253829,
     "end_time": "2020-08-21T16:58:49.404429",
     "exception": false,
     "start_time": "2020-08-21T16:58:49.150600",
     "status": "completed"
    },
    "tags": []
   },
   "outputs": [
    {
     "name": "stdout",
     "output_type": "stream",
     "text": [
      "(9000, 4096) (9000,)\n",
      "(3000, 4096)\n"
     ]
    }
   ],
   "source": [
    "X_train = []\n",
    "Y_train = []\n",
    "\n",
    "for key, value in images_train.items():\n",
    "    X_train.append(value)\n",
    "    if key[:4] == \"bgr_\":\n",
    "        Y_train.append(0)\n",
    "    else:\n",
    "        Y_train.append(1)\n",
    "\n",
    "ID_test = []\n",
    "X_test = []\n",
    "for key, value in images_test.items():\n",
    "    ID_test.append(int(key))\n",
    "    X_test.append(value)\n",
    "\n",
    "X_train = np.array(X_train)\n",
    "Y_train = np.array(Y_train)\n",
    "X_test = np.array(X_test)\n",
    "\n",
    "print(X_train.shape, Y_train.shape)\n",
    "print(X_test.shape)"
   ]
  },
  {
   "cell_type": "code",
   "execution_count": 7,
   "metadata": {
    "execution": {
     "iopub.execute_input": "2020-08-21T16:58:49.708364Z",
     "iopub.status.busy": "2020-08-21T16:58:49.707088Z",
     "iopub.status.idle": "2020-08-21T16:58:50.564957Z",
     "shell.execute_reply": "2020-08-21T16:58:50.564264Z"
    },
    "papermill": {
     "duration": 1.013804,
     "end_time": "2020-08-21T16:58:50.565109",
     "exception": false,
     "start_time": "2020-08-21T16:58:49.551305",
     "status": "completed"
    },
    "tags": []
   },
   "outputs": [],
   "source": [
    "scaler = MinMaxScaler()\n",
    "X_scaled_train = scaler.fit_transform(X_train)\n",
    "X_scaled_test = scaler.transform(X_test)"
   ]
  },
  {
   "cell_type": "code",
   "execution_count": 8,
   "metadata": {
    "execution": {
     "iopub.execute_input": "2020-08-21T16:58:50.910457Z",
     "iopub.status.busy": "2020-08-21T16:58:50.909606Z",
     "iopub.status.idle": "2020-08-21T17:01:40.838180Z",
     "shell.execute_reply": "2020-08-21T17:01:40.836969Z"
    },
    "papermill": {
     "duration": 170.105148,
     "end_time": "2020-08-21T17:01:40.838378",
     "exception": false,
     "start_time": "2020-08-21T16:58:50.733230",
     "status": "completed"
    },
    "tags": []
   },
   "outputs": [],
   "source": [
    "X_train_binarized = []\n",
    "for i in X_train:\n",
    "    i = list(i)\n",
    "    x = [0 if y == 255 else 1 for y in i]\n",
    "    X_train_binarized.append(np.array(x))\n",
    "\n",
    "X_test_binarized = []\n",
    "for i in X_test:\n",
    "    i = list(i)\n",
    "    x = [0 if y == 255 else 1 for y in i]\n",
    "    X_test_binarized.append(np.array(x))\n",
    "\n",
    "X_train_binarized = np.array(X_train_binarized)\n",
    "X_test_binarized = np.array(X_test_binarized)"
   ]
  },
  {
   "cell_type": "code",
   "execution_count": 9,
   "metadata": {
    "_cell_guid": "9fa575d1-e4c9-4c37-a701-ac8f3c6f63b2",
    "_uuid": "eea2d248-93d4-4219-aadd-2ccf555767a6",
    "execution": {
     "iopub.execute_input": "2020-08-21T17:01:41.150877Z",
     "iopub.status.busy": "2020-08-21T17:01:41.145448Z",
     "iopub.status.idle": "2020-08-21T17:01:41.199249Z",
     "shell.execute_reply": "2020-08-21T17:01:41.199871Z"
    },
    "papermill": {
     "duration": 0.212864,
     "end_time": "2020-08-21T17:01:41.200070",
     "exception": false,
     "start_time": "2020-08-21T17:01:40.987206",
     "status": "completed"
    },
    "tags": []
   },
   "outputs": [],
   "source": [
    "class MPNeuron:\n",
    "    \n",
    "    def __init__(self):\n",
    "        self.theta = None\n",
    "        \n",
    "    def mp_neuron(self, x):\n",
    "        if sum(x) >= self.theta:\n",
    "            return 1\n",
    "        return 0\n",
    "    \n",
    "    def fit_brute_force(self, X, Y):\n",
    "        accuracy = {}\n",
    "        for theta in tqdm(range(0, X.shape[1]+1), total=X.shape[1]+1):\n",
    "            self.theta = theta\n",
    "            Y_pred = self.predict(X)\n",
    "            accuracy[theta] = accuracy_score(Y, Y_pred)  \n",
    "            \n",
    "        sorted_accuracy = sorted(accuracy.items(), key=operator.itemgetter(1), reverse=True)\n",
    "        best_theta, best_accuracy = sorted_accuracy[0]\n",
    "        self.theta = best_theta\n",
    "        \n",
    "    def fit(self, X, Y, epochs=10, log=False, display_plot=False):\n",
    "        self.theta = (X.shape[1]+1)//2\n",
    "        if log or display_plot:\n",
    "            accuracy = {}\n",
    "        for i in tqdm(range(epochs), total=epochs, unit=\"epoch\"):\n",
    "            Y_pred = self.predict(X)\n",
    "            tn, fp, fn, tp = confusion_matrix(Y, Y_pred).ravel()\n",
    "            if fp > fn and self.theta <= X.shape[1]:\n",
    "                self.theta += 1\n",
    "            elif fp < fn and self.theta >= 1:\n",
    "                self.theta -= 1\n",
    "            else:\n",
    "                continue\n",
    "                \n",
    "            if log or display_plot:\n",
    "                Y_pred = self.predict(X)\n",
    "                accuracy[i] = accuracy_score(Y, Y_pred)\n",
    "        if log:\n",
    "            with open('mp_neuron_accuracy.json', 'w') as fp:\n",
    "                json.dump(accuracy, fp)\n",
    "        if display_plot:\n",
    "            epochs_, accuracy_ = zip(*accuracy.items())\n",
    "            plt.plot(epochs_, accuracy_)\n",
    "            plt.xlabel(\"Epochs\")\n",
    "            plt.ylabel(\"Train Accuracy\")\n",
    "            plt.show()\n",
    "    \n",
    "    def predict(self, X):\n",
    "        Y = []\n",
    "        for x in X:\n",
    "            result = self.mp_neuron(x)\n",
    "            Y.append(result)\n",
    "        return np.array(Y)\n",
    "\n",
    "\n",
    "class Perceptron:\n",
    "    \n",
    "    def __init__(self):\n",
    "        self.w = None\n",
    "        self.b = None\n",
    "        \n",
    "    def perceptron(self, x):\n",
    "        return np.sum(self.w * x) + self.b\n",
    "    \n",
    "    def fit(self, X, Y, epochs=10, learning_rate=0.01, log=False, display_plot=False):\n",
    "        # initialise the weights and bias\n",
    "        self.w = np.random.randn(1, X.shape[1])\n",
    "        self.b = 0\n",
    "        if log or display_plot: \n",
    "            accuracy = {}\n",
    "        for i in tqdm(range(epochs), total=epochs, unit=\"epoch\"):\n",
    "            for x, y in zip(X, Y):\n",
    "                result = self.perceptron(x)\n",
    "                if y == 1 and result < 0:\n",
    "                    self.w += learning_rate*x\n",
    "                    self.b += learning_rate\n",
    "                elif y == 0 and result >= 0:\n",
    "                    self.w -= learning_rate*x\n",
    "                    self.b -= learning_rate\n",
    "            if log or display_plot:\n",
    "                Y_pred = self.predict(X)\n",
    "                accuracy[i] = accuracy_score(Y, Y_pred)\n",
    "        if log:\n",
    "            with open('perceptron_accuracy.json', 'w') as fp:\n",
    "                json.dump(accuracy, fp)\n",
    "        if display_plot:\n",
    "            epochs_, accuracy_ = zip(*accuracy.items())\n",
    "            plt.plot(epochs_, accuracy_)\n",
    "            plt.xlabel(\"Epochs\")\n",
    "            plt.ylabel(\"Train Accuracy\")\n",
    "            plt.show()\n",
    "                    \n",
    "    def predict(self, X):\n",
    "        Y = []\n",
    "        for x in X:\n",
    "            result = self.perceptron(x)\n",
    "            Y.append(int(result>=0))\n",
    "        return np.array(Y)\n",
    "\n",
    "\n",
    "class PerceptronWithSigmoid:\n",
    "    \n",
    "    def __init__(self):\n",
    "        self.w = None\n",
    "        self.b = None\n",
    "        \n",
    "    def perceptron(self, x):\n",
    "        return np.sum(self.w * x) + self.b\n",
    "    \n",
    "    def sigmoid(self, z):\n",
    "        return 1. / (1. + np.exp(-z))\n",
    "    \n",
    "    def grad_w(self, x, y):\n",
    "        y_pred = self.sigmoid(self.perceptron(x))\n",
    "        return (y_pred - y) * y_pred * (1 - y_pred) * x\n",
    "    \n",
    "    def grad_b(self, x, y):\n",
    "        y_pred = self.sigmoid(self.perceptron(x))\n",
    "        return (y_pred - y) * y_pred * (1 - y_pred)\n",
    "    \n",
    "    def fit(self, X, Y, epochs=10, learning_rate=0.01, log=False, display_plot=False):\n",
    "        # initialise the weights and bias\n",
    "        self.w = np.random.randn(1, X.shape[1])\n",
    "        self.b = 0\n",
    "        if log or display_plot: \n",
    "            #accuracy = {}\n",
    "            mse = {}\n",
    "        for i in tqdm(range(epochs), total=epochs, unit=\"epoch\"):\n",
    "            dw, db = 0, 0\n",
    "            for x, y in zip(X, Y):\n",
    "                dw += self.grad_w(x, y)\n",
    "                db += self.grad_b(x, y)\n",
    "            self.w -= learning_rate*dw\n",
    "            self.b -= learning_rate*db\n",
    "            \n",
    "            if log or display_plot:\n",
    "                Y_pred = self.predict(X)\n",
    "                #Y_binarized = (Y >= SCALED_THRESHOLD).astype(np.int)\n",
    "                #Y_pred_binarized = (Y_pred >= SCALED_THRESHOLD).astype(np.int)\n",
    "                #accuracy[i] = accuracy_score(Y_binarized, Y_pred_binarized)\n",
    "                mse[i] = mean_squared_error(Y, Y_pred)\n",
    "        if log:\n",
    "            #with open('perceptron_with_sigmoid_accuracy.json', 'w') as fp:\n",
    "                #json.dump(accuracy, fp)\n",
    "            with open('perceptron_with_sigmoid_mse.json', 'w') as fp:\n",
    "                json.dump(mse, fp)\n",
    "        if display_plot:\n",
    "            #epochs_, accuracy_ = zip(*accuracy.items())\n",
    "            #plt.plot(epochs_, accuracy_)\n",
    "            #plt.xlabel(\"Epochs\")\n",
    "            #plt.ylabel(\"Train Accuracy\")\n",
    "            #plt.show()\n",
    "            epochs_, mse_ = zip(*mse.items())\n",
    "            plt.plot(epochs_, mse_)\n",
    "            plt.xlabel(\"Epochs\")\n",
    "            plt.ylabel(\"Train Error (MSE)\")\n",
    "            plt.show()\n",
    "            \n",
    "                    \n",
    "    def predict(self, X):\n",
    "        Y = []\n",
    "        for x in X:\n",
    "            result = self.sigmoid(self.perceptron(x))\n",
    "            Y.append(result)\n",
    "        return np.array(Y)"
   ]
  },
  {
   "cell_type": "code",
   "execution_count": 10,
   "metadata": {
    "execution": {
     "iopub.execute_input": "2020-08-21T17:01:41.548175Z",
     "iopub.status.busy": "2020-08-21T17:01:41.547096Z",
     "iopub.status.idle": "2020-08-21T17:01:41.550211Z",
     "shell.execute_reply": "2020-08-21T17:01:41.550832Z"
    },
    "papermill": {
     "duration": 0.198708,
     "end_time": "2020-08-21T17:01:41.551004",
     "exception": false,
     "start_time": "2020-08-21T17:01:41.352296",
     "status": "completed"
    },
    "tags": []
   },
   "outputs": [],
   "source": [
    "class SigmoidNeuron:\n",
    "    def __init__(self):\n",
    "        self.w = None\n",
    "        self.b = None\n",
    "    \n",
    "    def perceptron(self, x):\n",
    "        return np.dot(x, self.w.T) + self.b\n",
    "  \n",
    "    def sigmoid(self, x):\n",
    "        return 1.0/(1.0 + np.exp(-x))\n",
    "  \n",
    "    def grad_w_mse(self, x, y):\n",
    "        y_pred = self.sigmoid(self.perceptron(x))\n",
    "        return (y_pred - y) * y_pred * (1 - y_pred) * x\n",
    "  \n",
    "    def grad_b_mse(self, x, y):\n",
    "        y_pred = self.sigmoid(self.perceptron(x))\n",
    "        return (y_pred - y) * y_pred * (1 - y_pred)\n",
    "  \n",
    "    def grad_w_ce(self, x, y):\n",
    "        y_pred = self.sigmoid(self.perceptron(x))\n",
    "        if y == 0:\n",
    "            return y_pred * x\n",
    "        elif y == 1:\n",
    "            return -1 * (1 - y_pred) * x\n",
    "        else:\n",
    "            raise ValueError(\"y should be 0 or 1\")\n",
    "    \n",
    "    def grad_b_ce(self, x, y):\n",
    "        y_pred = self.sigmoid(self.perceptron(x))\n",
    "        if y == 0:\n",
    "            return y_pred \n",
    "        elif y == 1:\n",
    "            return -1 * (1 - y_pred)\n",
    "        else:\n",
    "            raise ValueError(\"y should be 0 or 1\")\n",
    "  \n",
    "    def fit(self, X, Y, epochs=1, learning_rate=1, initialise=True, loss_fn=\"mse\", display_loss=False): \n",
    "        \n",
    "        # initialise w, b\n",
    "        if initialise:\n",
    "             #self.w = np.random.randn(1, X.shape[1])\n",
    "            self.w = X.mean(axis=0)\n",
    "            self.b = 0\n",
    "      \n",
    "        if display_loss:\n",
    "            loss = {}\n",
    "    \n",
    "\n",
    "        for i in tqdm(range(epochs), total=epochs, unit=\"epoch\"):\n",
    "            \n",
    "        #for i in range(epochs):\n",
    "        #while (condition):        \n",
    "            dw = 0\n",
    "            db = 0\n",
    "        \n",
    "            for x, y in zip(X, Y):\n",
    "                if loss_fn == \"mse\":\n",
    "                    dw += self.grad_w_mse(x, y)\n",
    "                    db += self.grad_b_mse(x, y) \n",
    "                    self.w -= learning_rate * dw\n",
    "                    self.b -= learning_rate * db\n",
    "                elif loss_fn == \"ce\":\n",
    "                    dw += self.grad_w_ce(x, y)\n",
    "                    db += self.grad_b_ce(x, y)\n",
    "                    self.w -= learning_rate * dw\n",
    "                    self.b -= learning_rate * db\n",
    "      \n",
    "            if display_loss:\n",
    "                Y_pred = self.sigmoid(self.perceptron(X))\n",
    "                if loss_fn == \"mse\":\n",
    "                    loss[i] = mean_squared_error(Y, Y_pred)\n",
    "                    flag = loss[i]\n",
    "                elif loss_fn == \"ce\":\n",
    "                    loss[i] = log_loss(Y, Y_pred)\n",
    "                    flag = loss[i]\n",
    "            \n",
    "\n",
    "        if display_loss:\n",
    "            plt.plot(np.array(list(loss.values())).astype(float))\n",
    "            plt.xlabel('Epochs')\n",
    "            if loss_fn == \"mse\":\n",
    "                plt.ylabel('Mean Squared Error')\n",
    "            elif loss_fn == \"ce\":\n",
    "                plt.ylabel('Log Loss')\n",
    "            plt.show()\n",
    "    \n",
    "            min_key = min(loss, key=loss.get)\n",
    "            print(min_key)\n",
    "            print(loss.get(min_key))\n",
    "            print(i)\n",
    "       \n",
    "    def predict(self, X):\n",
    "        Y_pred = []\n",
    "        for x in X:\n",
    "            y_pred = self.sigmoid(self.perceptron(x))\n",
    "            Y_pred.append(y_pred)\n",
    "        return np.array(Y_pred)"
   ]
  },
  {
   "cell_type": "code",
   "execution_count": 11,
   "metadata": {
    "execution": {
     "iopub.execute_input": "2020-08-21T17:01:41.862990Z",
     "iopub.status.busy": "2020-08-21T17:01:41.861783Z",
     "iopub.status.idle": "2020-08-21T17:01:41.865857Z",
     "shell.execute_reply": "2020-08-21T17:01:41.865150Z"
    },
    "papermill": {
     "duration": 0.165846,
     "end_time": "2020-08-21T17:01:41.866017",
     "exception": false,
     "start_time": "2020-08-21T17:01:41.700171",
     "status": "completed"
    },
    "tags": []
   },
   "outputs": [],
   "source": [
    "#mp = MPNeuron()\n",
    "#mp.fit(X_train_binarized, Y_train, epochs=30, log = False, display_plot=True)\n",
    "def print_accuracy(sn):\n",
    "    Y_pred_train = sn.predict(X_train_binarized)\n",
    "    accuracy_train = accuracy_score(Y_pred_train, Y_train)   \n",
    "    print(\"Train Accuracy : \", accuracy_train)\n",
    "    print(\"-\"*50)\n",
    "#print_accuracy(mp)"
   ]
  },
  {
   "cell_type": "code",
   "execution_count": 12,
   "metadata": {
    "execution": {
     "iopub.execute_input": "2020-08-21T17:01:42.167624Z",
     "iopub.status.busy": "2020-08-21T17:01:42.166554Z",
     "iopub.status.idle": "2020-08-21T17:01:42.170302Z",
     "shell.execute_reply": "2020-08-21T17:01:42.169628Z"
    },
    "papermill": {
     "duration": 0.156507,
     "end_time": "2020-08-21T17:01:42.170476",
     "exception": false,
     "start_time": "2020-08-21T17:01:42.013969",
     "status": "completed"
    },
    "tags": []
   },
   "outputs": [],
   "source": [
    "#per = Perceptron()\n",
    "#per.fit(X_scaled_train, Y_train, epochs=100,learning_rate=0.0021, log=False, display_plot=True)"
   ]
  },
  {
   "cell_type": "code",
   "execution_count": 13,
   "metadata": {
    "execution": {
     "iopub.execute_input": "2020-08-21T17:01:42.476091Z",
     "iopub.status.busy": "2020-08-21T17:01:42.475226Z",
     "iopub.status.idle": "2020-08-21T17:01:42.479368Z",
     "shell.execute_reply": "2020-08-21T17:01:42.478601Z"
    },
    "papermill": {
     "duration": 0.157357,
     "end_time": "2020-08-21T17:01:42.479537",
     "exception": false,
     "start_time": "2020-08-21T17:01:42.322180",
     "status": "completed"
    },
    "tags": []
   },
   "outputs": [],
   "source": [
    "#per_sig = PerceptronWithSigmoid()\n",
    "#per_sig.fit(X_scaled_train,Y_train,epochs=100,learning_rate=0.0025, log=False, display_plot=True)"
   ]
  },
  {
   "cell_type": "code",
   "execution_count": 14,
   "metadata": {
    "execution": {
     "iopub.execute_input": "2020-08-21T17:01:42.784452Z",
     "iopub.status.busy": "2020-08-21T17:01:42.782942Z",
     "iopub.status.idle": "2020-08-21T17:02:36.351265Z",
     "shell.execute_reply": "2020-08-21T17:02:36.352178Z"
    },
    "papermill": {
     "duration": 53.725151,
     "end_time": "2020-08-21T17:02:36.352889",
     "exception": false,
     "start_time": "2020-08-21T17:01:42.627738",
     "status": "completed"
    },
    "tags": []
   },
   "outputs": [
    {
     "name": "stderr",
     "output_type": "stream",
     "text": [
      "  0%|          | 0/100 [00:00<?, ?epoch/s]/opt/conda/lib/python3.7/site-packages/ipykernel_launcher.py:10: RuntimeWarning: overflow encountered in exp\n",
      "  # Remove the CWD from sys.path while we load stuff.\n",
      "  1%|          | 1/100 [00:00<00:50,  1.94epoch/s]/opt/conda/lib/python3.7/site-packages/ipykernel_launcher.py:10: RuntimeWarning: overflow encountered in exp\n",
      "  # Remove the CWD from sys.path while we load stuff.\n",
      "  2%|▏         | 2/100 [00:01<00:50,  1.93epoch/s]/opt/conda/lib/python3.7/site-packages/ipykernel_launcher.py:10: RuntimeWarning: overflow encountered in exp\n",
      "  # Remove the CWD from sys.path while we load stuff.\n",
      "  3%|▎         | 3/100 [00:01<00:50,  1.93epoch/s]/opt/conda/lib/python3.7/site-packages/ipykernel_launcher.py:10: RuntimeWarning: overflow encountered in exp\n",
      "  # Remove the CWD from sys.path while we load stuff.\n",
      "  4%|▍         | 4/100 [00:02<00:49,  1.92epoch/s]/opt/conda/lib/python3.7/site-packages/ipykernel_launcher.py:10: RuntimeWarning: overflow encountered in exp\n",
      "  # Remove the CWD from sys.path while we load stuff.\n",
      "  5%|▌         | 5/100 [00:02<00:49,  1.91epoch/s]/opt/conda/lib/python3.7/site-packages/ipykernel_launcher.py:10: RuntimeWarning: overflow encountered in exp\n",
      "  # Remove the CWD from sys.path while we load stuff.\n",
      "  6%|▌         | 6/100 [00:03<00:50,  1.87epoch/s]/opt/conda/lib/python3.7/site-packages/ipykernel_launcher.py:10: RuntimeWarning: overflow encountered in exp\n",
      "  # Remove the CWD from sys.path while we load stuff.\n",
      "  7%|▋         | 7/100 [00:03<00:50,  1.85epoch/s]/opt/conda/lib/python3.7/site-packages/ipykernel_launcher.py:10: RuntimeWarning: overflow encountered in exp\n",
      "  # Remove the CWD from sys.path while we load stuff.\n",
      "  8%|▊         | 8/100 [00:04<00:49,  1.86epoch/s]/opt/conda/lib/python3.7/site-packages/ipykernel_launcher.py:10: RuntimeWarning: overflow encountered in exp\n",
      "  # Remove the CWD from sys.path while we load stuff.\n",
      "  9%|▉         | 9/100 [00:04<00:48,  1.87epoch/s]/opt/conda/lib/python3.7/site-packages/ipykernel_launcher.py:10: RuntimeWarning: overflow encountered in exp\n",
      "  # Remove the CWD from sys.path while we load stuff.\n",
      " 10%|█         | 10/100 [00:05<00:48,  1.87epoch/s]/opt/conda/lib/python3.7/site-packages/ipykernel_launcher.py:10: RuntimeWarning: overflow encountered in exp\n",
      "  # Remove the CWD from sys.path while we load stuff.\n",
      " 11%|█         | 11/100 [00:05<00:47,  1.88epoch/s]/opt/conda/lib/python3.7/site-packages/ipykernel_launcher.py:10: RuntimeWarning: overflow encountered in exp\n",
      "  # Remove the CWD from sys.path while we load stuff.\n",
      " 12%|█▏        | 12/100 [00:06<00:46,  1.88epoch/s]/opt/conda/lib/python3.7/site-packages/ipykernel_launcher.py:10: RuntimeWarning: overflow encountered in exp\n",
      "  # Remove the CWD from sys.path while we load stuff.\n",
      " 13%|█▎        | 13/100 [00:06<00:46,  1.87epoch/s]/opt/conda/lib/python3.7/site-packages/ipykernel_launcher.py:10: RuntimeWarning: overflow encountered in exp\n",
      "  # Remove the CWD from sys.path while we load stuff.\n",
      " 14%|█▍        | 14/100 [00:07<00:45,  1.87epoch/s]/opt/conda/lib/python3.7/site-packages/ipykernel_launcher.py:10: RuntimeWarning: overflow encountered in exp\n",
      "  # Remove the CWD from sys.path while we load stuff.\n",
      " 15%|█▌        | 15/100 [00:07<00:44,  1.90epoch/s]/opt/conda/lib/python3.7/site-packages/ipykernel_launcher.py:10: RuntimeWarning: overflow encountered in exp\n",
      "  # Remove the CWD from sys.path while we load stuff.\n",
      " 16%|█▌        | 16/100 [00:08<00:43,  1.91epoch/s]/opt/conda/lib/python3.7/site-packages/ipykernel_launcher.py:10: RuntimeWarning: overflow encountered in exp\n",
      "  # Remove the CWD from sys.path while we load stuff.\n",
      " 17%|█▋        | 17/100 [00:08<00:43,  1.91epoch/s]/opt/conda/lib/python3.7/site-packages/ipykernel_launcher.py:10: RuntimeWarning: overflow encountered in exp\n",
      "  # Remove the CWD from sys.path while we load stuff.\n",
      " 18%|█▊        | 18/100 [00:09<00:42,  1.92epoch/s]/opt/conda/lib/python3.7/site-packages/ipykernel_launcher.py:10: RuntimeWarning: overflow encountered in exp\n",
      "  # Remove the CWD from sys.path while we load stuff.\n",
      " 19%|█▉        | 19/100 [00:10<00:42,  1.91epoch/s]/opt/conda/lib/python3.7/site-packages/ipykernel_launcher.py:10: RuntimeWarning: overflow encountered in exp\n",
      "  # Remove the CWD from sys.path while we load stuff.\n",
      " 20%|██        | 20/100 [00:10<00:41,  1.91epoch/s]/opt/conda/lib/python3.7/site-packages/ipykernel_launcher.py:10: RuntimeWarning: overflow encountered in exp\n",
      "  # Remove the CWD from sys.path while we load stuff.\n",
      " 21%|██        | 21/100 [00:11<00:41,  1.91epoch/s]/opt/conda/lib/python3.7/site-packages/ipykernel_launcher.py:10: RuntimeWarning: overflow encountered in exp\n",
      "  # Remove the CWD from sys.path while we load stuff.\n",
      " 22%|██▏       | 22/100 [00:11<00:40,  1.92epoch/s]/opt/conda/lib/python3.7/site-packages/ipykernel_launcher.py:10: RuntimeWarning: overflow encountered in exp\n",
      "  # Remove the CWD from sys.path while we load stuff.\n",
      " 23%|██▎       | 23/100 [00:12<00:40,  1.90epoch/s]/opt/conda/lib/python3.7/site-packages/ipykernel_launcher.py:10: RuntimeWarning: overflow encountered in exp\n",
      "  # Remove the CWD from sys.path while we load stuff.\n",
      " 24%|██▍       | 24/100 [00:12<00:40,  1.89epoch/s]/opt/conda/lib/python3.7/site-packages/ipykernel_launcher.py:10: RuntimeWarning: overflow encountered in exp\n",
      "  # Remove the CWD from sys.path while we load stuff.\n",
      " 25%|██▌       | 25/100 [00:13<00:39,  1.89epoch/s]/opt/conda/lib/python3.7/site-packages/ipykernel_launcher.py:10: RuntimeWarning: overflow encountered in exp\n",
      "  # Remove the CWD from sys.path while we load stuff.\n",
      " 26%|██▌       | 26/100 [00:13<00:38,  1.92epoch/s]/opt/conda/lib/python3.7/site-packages/ipykernel_launcher.py:10: RuntimeWarning: overflow encountered in exp\n",
      "  # Remove the CWD from sys.path while we load stuff.\n",
      " 27%|██▋       | 27/100 [00:14<00:39,  1.86epoch/s]/opt/conda/lib/python3.7/site-packages/ipykernel_launcher.py:10: RuntimeWarning: overflow encountered in exp\n",
      "  # Remove the CWD from sys.path while we load stuff.\n",
      " 28%|██▊       | 28/100 [00:14<00:38,  1.87epoch/s]/opt/conda/lib/python3.7/site-packages/ipykernel_launcher.py:10: RuntimeWarning: overflow encountered in exp\n",
      "  # Remove the CWD from sys.path while we load stuff.\n",
      " 29%|██▉       | 29/100 [00:15<00:37,  1.89epoch/s]/opt/conda/lib/python3.7/site-packages/ipykernel_launcher.py:10: RuntimeWarning: overflow encountered in exp\n",
      "  # Remove the CWD from sys.path while we load stuff.\n",
      " 30%|███       | 30/100 [00:15<00:36,  1.90epoch/s]/opt/conda/lib/python3.7/site-packages/ipykernel_launcher.py:10: RuntimeWarning: overflow encountered in exp\n",
      "  # Remove the CWD from sys.path while we load stuff.\n",
      " 31%|███       | 31/100 [00:16<00:36,  1.92epoch/s]/opt/conda/lib/python3.7/site-packages/ipykernel_launcher.py:10: RuntimeWarning: overflow encountered in exp\n",
      "  # Remove the CWD from sys.path while we load stuff.\n",
      " 32%|███▏      | 32/100 [00:16<00:36,  1.89epoch/s]/opt/conda/lib/python3.7/site-packages/ipykernel_launcher.py:10: RuntimeWarning: overflow encountered in exp\n",
      "  # Remove the CWD from sys.path while we load stuff.\n",
      " 33%|███▎      | 33/100 [00:17<00:35,  1.90epoch/s]/opt/conda/lib/python3.7/site-packages/ipykernel_launcher.py:10: RuntimeWarning: overflow encountered in exp\n",
      "  # Remove the CWD from sys.path while we load stuff.\n",
      " 34%|███▍      | 34/100 [00:17<00:35,  1.88epoch/s]/opt/conda/lib/python3.7/site-packages/ipykernel_launcher.py:10: RuntimeWarning: overflow encountered in exp\n",
      "  # Remove the CWD from sys.path while we load stuff.\n",
      " 35%|███▌      | 35/100 [00:18<00:34,  1.90epoch/s]/opt/conda/lib/python3.7/site-packages/ipykernel_launcher.py:10: RuntimeWarning: overflow encountered in exp\n",
      "  # Remove the CWD from sys.path while we load stuff.\n",
      " 36%|███▌      | 36/100 [00:19<00:33,  1.92epoch/s]/opt/conda/lib/python3.7/site-packages/ipykernel_launcher.py:10: RuntimeWarning: overflow encountered in exp\n",
      "  # Remove the CWD from sys.path while we load stuff.\n",
      " 37%|███▋      | 37/100 [00:19<00:32,  1.92epoch/s]/opt/conda/lib/python3.7/site-packages/ipykernel_launcher.py:10: RuntimeWarning: overflow encountered in exp\n",
      "  # Remove the CWD from sys.path while we load stuff.\n",
      " 38%|███▊      | 38/100 [00:20<00:32,  1.92epoch/s]/opt/conda/lib/python3.7/site-packages/ipykernel_launcher.py:10: RuntimeWarning: overflow encountered in exp\n",
      "  # Remove the CWD from sys.path while we load stuff.\n",
      " 39%|███▉      | 39/100 [00:20<00:31,  1.93epoch/s]/opt/conda/lib/python3.7/site-packages/ipykernel_launcher.py:10: RuntimeWarning: overflow encountered in exp\n",
      "  # Remove the CWD from sys.path while we load stuff.\n",
      " 40%|████      | 40/100 [00:21<00:31,  1.92epoch/s]/opt/conda/lib/python3.7/site-packages/ipykernel_launcher.py:10: RuntimeWarning: overflow encountered in exp\n",
      "  # Remove the CWD from sys.path while we load stuff.\n",
      " 41%|████      | 41/100 [00:21<00:30,  1.93epoch/s]/opt/conda/lib/python3.7/site-packages/ipykernel_launcher.py:10: RuntimeWarning: overflow encountered in exp\n",
      "  # Remove the CWD from sys.path while we load stuff.\n",
      " 42%|████▏     | 42/100 [00:22<00:30,  1.92epoch/s]/opt/conda/lib/python3.7/site-packages/ipykernel_launcher.py:10: RuntimeWarning: overflow encountered in exp\n",
      "  # Remove the CWD from sys.path while we load stuff.\n",
      " 43%|████▎     | 43/100 [00:22<00:29,  1.93epoch/s]/opt/conda/lib/python3.7/site-packages/ipykernel_launcher.py:10: RuntimeWarning: overflow encountered in exp\n",
      "  # Remove the CWD from sys.path while we load stuff.\n",
      " 44%|████▍     | 44/100 [00:23<00:29,  1.91epoch/s]/opt/conda/lib/python3.7/site-packages/ipykernel_launcher.py:10: RuntimeWarning: overflow encountered in exp\n",
      "  # Remove the CWD from sys.path while we load stuff.\n",
      " 45%|████▌     | 45/100 [00:23<00:28,  1.92epoch/s]/opt/conda/lib/python3.7/site-packages/ipykernel_launcher.py:10: RuntimeWarning: overflow encountered in exp\n",
      "  # Remove the CWD from sys.path while we load stuff.\n",
      " 46%|████▌     | 46/100 [00:24<00:28,  1.91epoch/s]/opt/conda/lib/python3.7/site-packages/ipykernel_launcher.py:10: RuntimeWarning: overflow encountered in exp\n",
      "  # Remove the CWD from sys.path while we load stuff.\n",
      " 47%|████▋     | 47/100 [00:24<00:27,  1.92epoch/s]/opt/conda/lib/python3.7/site-packages/ipykernel_launcher.py:10: RuntimeWarning: overflow encountered in exp\n",
      "  # Remove the CWD from sys.path while we load stuff.\n",
      " 48%|████▊     | 48/100 [00:25<00:27,  1.86epoch/s]/opt/conda/lib/python3.7/site-packages/ipykernel_launcher.py:10: RuntimeWarning: overflow encountered in exp\n",
      "  # Remove the CWD from sys.path while we load stuff.\n",
      " 49%|████▉     | 49/100 [00:25<00:27,  1.88epoch/s]/opt/conda/lib/python3.7/site-packages/ipykernel_launcher.py:10: RuntimeWarning: overflow encountered in exp\n",
      "  # Remove the CWD from sys.path while we load stuff.\n",
      " 50%|█████     | 50/100 [00:26<00:28,  1.76epoch/s]/opt/conda/lib/python3.7/site-packages/ipykernel_launcher.py:10: RuntimeWarning: overflow encountered in exp\n",
      "  # Remove the CWD from sys.path while we load stuff.\n",
      " 51%|█████     | 51/100 [00:27<00:27,  1.78epoch/s]/opt/conda/lib/python3.7/site-packages/ipykernel_launcher.py:10: RuntimeWarning: overflow encountered in exp\n",
      "  # Remove the CWD from sys.path while we load stuff.\n",
      " 52%|█████▏    | 52/100 [00:27<00:26,  1.83epoch/s]/opt/conda/lib/python3.7/site-packages/ipykernel_launcher.py:10: RuntimeWarning: overflow encountered in exp\n",
      "  # Remove the CWD from sys.path while we load stuff.\n",
      " 53%|█████▎    | 53/100 [00:28<00:25,  1.86epoch/s]/opt/conda/lib/python3.7/site-packages/ipykernel_launcher.py:10: RuntimeWarning: overflow encountered in exp\n",
      "  # Remove the CWD from sys.path while we load stuff.\n",
      " 54%|█████▍    | 54/100 [00:28<00:24,  1.87epoch/s]/opt/conda/lib/python3.7/site-packages/ipykernel_launcher.py:10: RuntimeWarning: overflow encountered in exp\n",
      "  # Remove the CWD from sys.path while we load stuff.\n",
      " 55%|█████▌    | 55/100 [00:29<00:23,  1.88epoch/s]/opt/conda/lib/python3.7/site-packages/ipykernel_launcher.py:10: RuntimeWarning: overflow encountered in exp\n",
      "  # Remove the CWD from sys.path while we load stuff.\n",
      " 56%|█████▌    | 56/100 [00:29<00:23,  1.90epoch/s]/opt/conda/lib/python3.7/site-packages/ipykernel_launcher.py:10: RuntimeWarning: overflow encountered in exp\n",
      "  # Remove the CWD from sys.path while we load stuff.\n",
      " 57%|█████▋    | 57/100 [00:30<00:22,  1.91epoch/s]/opt/conda/lib/python3.7/site-packages/ipykernel_launcher.py:10: RuntimeWarning: overflow encountered in exp\n",
      "  # Remove the CWD from sys.path while we load stuff.\n",
      " 58%|█████▊    | 58/100 [00:30<00:22,  1.90epoch/s]/opt/conda/lib/python3.7/site-packages/ipykernel_launcher.py:10: RuntimeWarning: overflow encountered in exp\n",
      "  # Remove the CWD from sys.path while we load stuff.\n",
      " 59%|█████▉    | 59/100 [00:31<00:21,  1.91epoch/s]/opt/conda/lib/python3.7/site-packages/ipykernel_launcher.py:10: RuntimeWarning: overflow encountered in exp\n",
      "  # Remove the CWD from sys.path while we load stuff.\n",
      " 60%|██████    | 60/100 [00:31<00:20,  1.92epoch/s]/opt/conda/lib/python3.7/site-packages/ipykernel_launcher.py:10: RuntimeWarning: overflow encountered in exp\n",
      "  # Remove the CWD from sys.path while we load stuff.\n",
      " 61%|██████    | 61/100 [00:32<00:20,  1.90epoch/s]/opt/conda/lib/python3.7/site-packages/ipykernel_launcher.py:10: RuntimeWarning: overflow encountered in exp\n",
      "  # Remove the CWD from sys.path while we load stuff.\n",
      " 62%|██████▏   | 62/100 [00:32<00:19,  1.91epoch/s]/opt/conda/lib/python3.7/site-packages/ipykernel_launcher.py:10: RuntimeWarning: overflow encountered in exp\n",
      "  # Remove the CWD from sys.path while we load stuff.\n",
      " 63%|██████▎   | 63/100 [00:33<00:19,  1.90epoch/s]/opt/conda/lib/python3.7/site-packages/ipykernel_launcher.py:10: RuntimeWarning: overflow encountered in exp\n",
      "  # Remove the CWD from sys.path while we load stuff.\n",
      " 64%|██████▍   | 64/100 [00:33<00:18,  1.91epoch/s]/opt/conda/lib/python3.7/site-packages/ipykernel_launcher.py:10: RuntimeWarning: overflow encountered in exp\n",
      "  # Remove the CWD from sys.path while we load stuff.\n",
      " 65%|██████▌   | 65/100 [00:34<00:18,  1.92epoch/s]/opt/conda/lib/python3.7/site-packages/ipykernel_launcher.py:10: RuntimeWarning: overflow encountered in exp\n",
      "  # Remove the CWD from sys.path while we load stuff.\n",
      " 66%|██████▌   | 66/100 [00:34<00:17,  1.92epoch/s]/opt/conda/lib/python3.7/site-packages/ipykernel_launcher.py:10: RuntimeWarning: overflow encountered in exp\n",
      "  # Remove the CWD from sys.path while we load stuff.\n",
      " 67%|██████▋   | 67/100 [00:35<00:17,  1.87epoch/s]/opt/conda/lib/python3.7/site-packages/ipykernel_launcher.py:10: RuntimeWarning: overflow encountered in exp\n",
      "  # Remove the CWD from sys.path while we load stuff.\n",
      " 68%|██████▊   | 68/100 [00:35<00:16,  1.89epoch/s]/opt/conda/lib/python3.7/site-packages/ipykernel_launcher.py:10: RuntimeWarning: overflow encountered in exp\n",
      "  # Remove the CWD from sys.path while we load stuff.\n",
      " 69%|██████▉   | 69/100 [00:36<00:16,  1.84epoch/s]/opt/conda/lib/python3.7/site-packages/ipykernel_launcher.py:10: RuntimeWarning: overflow encountered in exp\n",
      "  # Remove the CWD from sys.path while we load stuff.\n",
      " 70%|███████   | 70/100 [00:37<00:16,  1.84epoch/s]/opt/conda/lib/python3.7/site-packages/ipykernel_launcher.py:10: RuntimeWarning: overflow encountered in exp\n",
      "  # Remove the CWD from sys.path while we load stuff.\n",
      " 71%|███████   | 71/100 [00:37<00:15,  1.86epoch/s]/opt/conda/lib/python3.7/site-packages/ipykernel_launcher.py:10: RuntimeWarning: overflow encountered in exp\n",
      "  # Remove the CWD from sys.path while we load stuff.\n",
      " 72%|███████▏  | 72/100 [00:38<00:14,  1.89epoch/s]/opt/conda/lib/python3.7/site-packages/ipykernel_launcher.py:10: RuntimeWarning: overflow encountered in exp\n",
      "  # Remove the CWD from sys.path while we load stuff.\n",
      " 73%|███████▎  | 73/100 [00:38<00:14,  1.90epoch/s]/opt/conda/lib/python3.7/site-packages/ipykernel_launcher.py:10: RuntimeWarning: overflow encountered in exp\n",
      "  # Remove the CWD from sys.path while we load stuff.\n",
      " 74%|███████▍  | 74/100 [00:39<00:13,  1.91epoch/s]/opt/conda/lib/python3.7/site-packages/ipykernel_launcher.py:10: RuntimeWarning: overflow encountered in exp\n",
      "  # Remove the CWD from sys.path while we load stuff.\n",
      " 75%|███████▌  | 75/100 [00:39<00:13,  1.91epoch/s]/opt/conda/lib/python3.7/site-packages/ipykernel_launcher.py:10: RuntimeWarning: overflow encountered in exp\n",
      "  # Remove the CWD from sys.path while we load stuff.\n",
      " 76%|███████▌  | 76/100 [00:40<00:12,  1.92epoch/s]/opt/conda/lib/python3.7/site-packages/ipykernel_launcher.py:10: RuntimeWarning: overflow encountered in exp\n",
      "  # Remove the CWD from sys.path while we load stuff.\n",
      " 77%|███████▋  | 77/100 [00:40<00:11,  1.92epoch/s]/opt/conda/lib/python3.7/site-packages/ipykernel_launcher.py:10: RuntimeWarning: overflow encountered in exp\n",
      "  # Remove the CWD from sys.path while we load stuff.\n",
      " 78%|███████▊  | 78/100 [00:41<00:11,  1.92epoch/s]/opt/conda/lib/python3.7/site-packages/ipykernel_launcher.py:10: RuntimeWarning: overflow encountered in exp\n",
      "  # Remove the CWD from sys.path while we load stuff.\n",
      " 79%|███████▉  | 79/100 [00:41<00:11,  1.91epoch/s]/opt/conda/lib/python3.7/site-packages/ipykernel_launcher.py:10: RuntimeWarning: overflow encountered in exp\n",
      "  # Remove the CWD from sys.path while we load stuff.\n",
      " 80%|████████  | 80/100 [00:42<00:10,  1.90epoch/s]/opt/conda/lib/python3.7/site-packages/ipykernel_launcher.py:10: RuntimeWarning: overflow encountered in exp\n",
      "  # Remove the CWD from sys.path while we load stuff.\n",
      " 81%|████████  | 81/100 [00:42<00:09,  1.90epoch/s]/opt/conda/lib/python3.7/site-packages/ipykernel_launcher.py:10: RuntimeWarning: overflow encountered in exp\n",
      "  # Remove the CWD from sys.path while we load stuff.\n",
      " 82%|████████▏ | 82/100 [00:43<00:09,  1.90epoch/s]/opt/conda/lib/python3.7/site-packages/ipykernel_launcher.py:10: RuntimeWarning: overflow encountered in exp\n",
      "  # Remove the CWD from sys.path while we load stuff.\n",
      " 83%|████████▎ | 83/100 [00:43<00:08,  1.91epoch/s]/opt/conda/lib/python3.7/site-packages/ipykernel_launcher.py:10: RuntimeWarning: overflow encountered in exp\n",
      "  # Remove the CWD from sys.path while we load stuff.\n",
      " 84%|████████▍ | 84/100 [00:44<00:08,  1.91epoch/s]/opt/conda/lib/python3.7/site-packages/ipykernel_launcher.py:10: RuntimeWarning: overflow encountered in exp\n",
      "  # Remove the CWD from sys.path while we load stuff.\n",
      " 85%|████████▌ | 85/100 [00:44<00:07,  1.92epoch/s]/opt/conda/lib/python3.7/site-packages/ipykernel_launcher.py:10: RuntimeWarning: overflow encountered in exp\n",
      "  # Remove the CWD from sys.path while we load stuff.\n",
      " 86%|████████▌ | 86/100 [00:45<00:07,  1.92epoch/s]/opt/conda/lib/python3.7/site-packages/ipykernel_launcher.py:10: RuntimeWarning: overflow encountered in exp\n",
      "  # Remove the CWD from sys.path while we load stuff.\n",
      " 87%|████████▋ | 87/100 [00:46<00:07,  1.72epoch/s]/opt/conda/lib/python3.7/site-packages/ipykernel_launcher.py:10: RuntimeWarning: overflow encountered in exp\n",
      "  # Remove the CWD from sys.path while we load stuff.\n",
      " 88%|████████▊ | 88/100 [00:46<00:06,  1.75epoch/s]/opt/conda/lib/python3.7/site-packages/ipykernel_launcher.py:10: RuntimeWarning: overflow encountered in exp\n",
      "  # Remove the CWD from sys.path while we load stuff.\n",
      " 89%|████████▉ | 89/100 [00:47<00:06,  1.74epoch/s]/opt/conda/lib/python3.7/site-packages/ipykernel_launcher.py:10: RuntimeWarning: overflow encountered in exp\n",
      "  # Remove the CWD from sys.path while we load stuff.\n",
      " 90%|█████████ | 90/100 [00:47<00:05,  1.76epoch/s]/opt/conda/lib/python3.7/site-packages/ipykernel_launcher.py:10: RuntimeWarning: overflow encountered in exp\n",
      "  # Remove the CWD from sys.path while we load stuff.\n",
      " 91%|█████████ | 91/100 [00:48<00:05,  1.79epoch/s]/opt/conda/lib/python3.7/site-packages/ipykernel_launcher.py:10: RuntimeWarning: overflow encountered in exp\n",
      "  # Remove the CWD from sys.path while we load stuff.\n",
      " 92%|█████████▏| 92/100 [00:48<00:04,  1.76epoch/s]/opt/conda/lib/python3.7/site-packages/ipykernel_launcher.py:10: RuntimeWarning: overflow encountered in exp\n",
      "  # Remove the CWD from sys.path while we load stuff.\n",
      " 93%|█████████▎| 93/100 [00:49<00:04,  1.74epoch/s]/opt/conda/lib/python3.7/site-packages/ipykernel_launcher.py:10: RuntimeWarning: overflow encountered in exp\n",
      "  # Remove the CWD from sys.path while we load stuff.\n",
      " 94%|█████████▍| 94/100 [00:50<00:03,  1.77epoch/s]/opt/conda/lib/python3.7/site-packages/ipykernel_launcher.py:10: RuntimeWarning: overflow encountered in exp\n",
      "  # Remove the CWD from sys.path while we load stuff.\n",
      " 95%|█████████▌| 95/100 [00:50<00:02,  1.81epoch/s]/opt/conda/lib/python3.7/site-packages/ipykernel_launcher.py:10: RuntimeWarning: overflow encountered in exp\n",
      "  # Remove the CWD from sys.path while we load stuff.\n",
      " 96%|█████████▌| 96/100 [00:51<00:02,  1.83epoch/s]/opt/conda/lib/python3.7/site-packages/ipykernel_launcher.py:10: RuntimeWarning: overflow encountered in exp\n",
      "  # Remove the CWD from sys.path while we load stuff.\n",
      " 97%|█████████▋| 97/100 [00:51<00:01,  1.83epoch/s]/opt/conda/lib/python3.7/site-packages/ipykernel_launcher.py:10: RuntimeWarning: overflow encountered in exp\n",
      "  # Remove the CWD from sys.path while we load stuff.\n",
      " 98%|█████████▊| 98/100 [00:52<00:01,  1.84epoch/s]/opt/conda/lib/python3.7/site-packages/ipykernel_launcher.py:10: RuntimeWarning: overflow encountered in exp\n",
      "  # Remove the CWD from sys.path while we load stuff.\n",
      " 99%|█████████▉| 99/100 [00:52<00:00,  1.86epoch/s]/opt/conda/lib/python3.7/site-packages/ipykernel_launcher.py:10: RuntimeWarning: overflow encountered in exp\n",
      "  # Remove the CWD from sys.path while we load stuff.\n",
      "100%|██████████| 100/100 [00:53<00:00,  1.88epoch/s]\n"
     ]
    },
    {
     "data": {
      "image/png": "[encoded data removed]",
      "text/plain": [
       "<Figure size 432x288 with 1 Axes>"
      ]
     },
     "metadata": {
      "needs_background": "light"
     },
     "output_type": "display_data"
    },
    {
     "name": "stdout",
     "output_type": "stream",
     "text": [
      "95\n",
      "1.5927776915770369\n",
      "99\n"
     ]
    }
   ],
   "source": [
    "sn_ce = SigmoidNeuron()\n",
    "sn_ce.fit(X_scaled_train, Y_train, epochs=100, learning_rate=0.015,initialise=True,loss_fn=\"ce\",display_loss=True)"
   ]
  },
  {
   "cell_type": "code",
   "execution_count": 15,
   "metadata": {
    "execution": {
     "iopub.execute_input": "2020-08-21T17:02:36.839548Z",
     "iopub.status.busy": "2020-08-21T17:02:36.837908Z",
     "iopub.status.idle": "2020-08-21T17:02:36.842374Z",
     "shell.execute_reply": "2020-08-21T17:02:36.841626Z"
    },
    "papermill": {
     "duration": 0.247592,
     "end_time": "2020-08-21T17:02:36.842573",
     "exception": false,
     "start_time": "2020-08-21T17:02:36.594981",
     "status": "completed"
    },
    "tags": []
   },
   "outputs": [],
   "source": [
    "def print_accuracy(sn):\n",
    "    Y_pred_train = sn.predict(X_scaled_train)\n",
    "    Y_pred_binarised_train = (Y_pred_train >= 0.5).astype(\"int\").ravel()\n",
    "    accuracy_train = accuracy_score(Y_pred_binarised_train, Y_train)\n",
    "    #accuracy_train = accuracy_score(Y_pred_train, Y_train)   \n",
    "    print(\"Train Accuracy : \", accuracy_train)\n",
    "    print(\"-\"*50)"
   ]
  },
  {
   "cell_type": "code",
   "execution_count": 16,
   "metadata": {
    "execution": {
     "iopub.execute_input": "2020-08-21T17:02:37.321725Z",
     "iopub.status.busy": "2020-08-21T17:02:37.320579Z",
     "iopub.status.idle": "2020-08-21T17:02:37.473423Z",
     "shell.execute_reply": "2020-08-21T17:02:37.472520Z"
    },
    "papermill": {
     "duration": 0.393409,
     "end_time": "2020-08-21T17:02:37.473662",
     "exception": false,
     "start_time": "2020-08-21T17:02:37.080253",
     "status": "completed"
    },
    "tags": []
   },
   "outputs": [
    {
     "name": "stdout",
     "output_type": "stream",
     "text": [
      "Train Accuracy :  0.9491111111111111\n",
      "--------------------------------------------------\n"
     ]
    },
    {
     "name": "stderr",
     "output_type": "stream",
     "text": [
      "/opt/conda/lib/python3.7/site-packages/ipykernel_launcher.py:10: RuntimeWarning: overflow encountered in exp\n",
      "  # Remove the CWD from sys.path while we load stuff.\n"
     ]
    }
   ],
   "source": [
    "print_accuracy(sn_ce)"
   ]
  },
  {
   "cell_type": "code",
   "execution_count": 17,
   "metadata": {
    "execution": {
     "iopub.execute_input": "2020-08-21T17:02:37.968357Z",
     "iopub.status.busy": "2020-08-21T17:02:37.966983Z",
     "iopub.status.idle": "2020-08-21T17:02:38.177960Z",
     "shell.execute_reply": "2020-08-21T17:02:38.177207Z"
    },
    "papermill": {
     "duration": 0.465343,
     "end_time": "2020-08-21T17:02:38.178109",
     "exception": false,
     "start_time": "2020-08-21T17:02:37.712766",
     "status": "completed"
    },
    "tags": []
   },
   "outputs": [
    {
     "name": "stderr",
     "output_type": "stream",
     "text": [
      "/opt/conda/lib/python3.7/site-packages/ipykernel_launcher.py:10: RuntimeWarning: overflow encountered in exp\n",
      "  # Remove the CWD from sys.path while we load stuff.\n"
     ]
    }
   ],
   "source": [
    "Y_pred_test = sn_ce.predict(X_scaled_test)\n",
    "Y_pred_binarised_test = (Y_pred_test >= 0.5).astype(\"int\").ravel()\n",
    "submission = {}\n",
    "submission['ImageId'] = ID_test\n",
    "submission['Class'] = Y_pred_binarised_test\n",
    "\n",
    "submission = pd.DataFrame(submission)\n",
    "submission = submission[['ImageId', 'Class']]\n",
    "submission = submission.sort_values(['ImageId'])\n",
    "submission.to_csv(\"submission.csv\", index=False)"
   ]
  },
  {
   "cell_type": "code",
   "execution_count": null,
   "metadata": {
    "papermill": {
     "duration": 0.236561,
     "end_time": "2020-08-21T17:02:38.650264",
     "exception": false,
     "start_time": "2020-08-21T17:02:38.413703",
     "status": "completed"
    },
    "tags": []
   },
   "outputs": [],
   "source": []
  }
 ],
 "metadata": {
  "kernelspec": {
   "display_name": "Python 3",
   "language": "python",
   "name": "python3"
  },
  "language_info": {
   "codemirror_mode": {
    "name": "ipython",
    "version": 3
   },
   "file_extension": ".py",
   "mimetype": "text/x-python",
   "name": "python",
   "nbconvert_exporter": "python",
   "pygments_lexer": "ipython3",
   "version": "3.7.6"
  },
  "papermill": {
   "duration": 271.512284,
   "end_time": "2020-08-21T17:02:39.031133",
   "environment_variables": {},
   "exception": null,
   "input_path": "__notebook__.ipynb",
   "output_path": "__notebook__.ipynb",
   "parameters": {},
   "start_time": "2020-08-21T16:58:07.518849",
   "version": "2.1.0"
  }
 },
 "nbformat": 4,
 "nbformat_minor": 4
}
