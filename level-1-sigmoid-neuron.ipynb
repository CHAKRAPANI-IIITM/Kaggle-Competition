{
 "cells": [
  {
   "cell_type": "code",
   "execution_count": 1,
   "metadata": {
    "execution": {
     "iopub.execute_input": "2020-08-17T01:14:05.542540Z",
     "iopub.status.busy": "2020-08-17T01:14:05.541732Z",
     "iopub.status.idle": "2020-08-17T01:14:06.477608Z",
     "shell.execute_reply": "2020-08-17T01:14:06.476782Z"
    },
    "id": "a192xmwKijHs",
    "papermill": {
     "duration": 0.959027,
     "end_time": "2020-08-17T01:14:06.477749",
     "exception": false,
     "start_time": "2020-08-17T01:14:05.518722",
     "status": "completed"
    },
    "tags": []
   },
   "outputs": [],
   "source": [
    "import os\n",
    "import sys\n",
    "import pickle\n",
    "import numpy as np\n",
    "import pandas as pd\n",
    "from PIL import Image, ImageFilter\n",
    "from tqdm import tqdm\n",
    "from sklearn.preprocessing import StandardScaler\n",
    "from sklearn.metrics import accuracy_score, mean_squared_error, log_loss, confusion_matrix\n",
    "import matplotlib.pyplot as plt\n",
    "\n",
    "np.random.seed(100)\n",
    "LEVEL = 'level_1'"
   ]
  },
  {
   "cell_type": "code",
   "execution_count": 2,
   "metadata": {
    "execution": {
     "iopub.execute_input": "2020-08-17T01:14:06.516078Z",
     "iopub.status.busy": "2020-08-17T01:14:06.515125Z",
     "iopub.status.idle": "2020-08-17T01:14:06.519096Z",
     "shell.execute_reply": "2020-08-17T01:14:06.518343Z"
    },
    "id": "VDe2wjl_ijH0",
    "papermill": {
     "duration": 0.027734,
     "end_time": "2020-08-17T01:14:06.519221",
     "exception": false,
     "start_time": "2020-08-17T01:14:06.491487",
     "status": "completed"
    },
    "tags": []
   },
   "outputs": [],
   "source": [
    "def read_all(folder_path, key_prefix=\"\"):\n",
    "    '''\n",
    "    It returns a dictionary with 'file names' as keys and 'flattened image arrays' as values.\n",
    "    '''\n",
    "    print(\"Reading:\")\n",
    "    images = {}\n",
    "    m=0\n",
    "    files = os.listdir(folder_path)\n",
    "    for i, file_name in tqdm(enumerate(files), total=len(files)):\n",
    "        file_path = os.path.join(folder_path, file_name)\n",
    "        image_index = key_prefix + file_name[:-4]\n",
    "        image = Image.open(file_path)\n",
    "        image = image.convert(\"L\")\n",
    "        images[image_index] = np.array(image.copy()).flatten()\n",
    "        image.close()\n",
    "    return images"
   ]
  },
  {
   "cell_type": "code",
   "execution_count": 3,
   "metadata": {
    "execution": {
     "iopub.execute_input": "2020-08-17T01:14:06.555866Z",
     "iopub.status.busy": "2020-08-17T01:14:06.555025Z",
     "iopub.status.idle": "2020-08-17T01:14:08.102527Z",
     "shell.execute_reply": "2020-08-17T01:14:08.101931Z"
    },
    "id": "mjuaN532ijH4",
    "outputId": "4124ae5e-4a9c-44dc-8c84-7919e6927fe5",
    "papermill": {
     "duration": 1.569332,
     "end_time": "2020-08-17T01:14:08.102660",
     "exception": false,
     "start_time": "2020-08-17T01:14:06.533328",
     "status": "completed"
    },
    "tags": []
   },
   "outputs": [
    {
     "name": "stderr",
     "output_type": "stream",
     "text": [
      " 14%|█▍        | 63/447 [00:00<00:00, 625.57it/s]"
     ]
    },
    {
     "name": "stdout",
     "output_type": "stream",
     "text": [
      "Reading:\n"
     ]
    },
    {
     "name": "stderr",
     "output_type": "stream",
     "text": [
      "100%|██████████| 447/447 [00:00<00:00, 766.48it/s]\n",
      "100%|██████████| 146/146 [00:00<00:00, 822.57it/s]\n",
      "  0%|          | 0/149 [00:00<?, ?it/s]"
     ]
    },
    {
     "name": "stdout",
     "output_type": "stream",
     "text": [
      "Reading:\n",
      "Reading:\n"
     ]
    },
    {
     "name": "stderr",
     "output_type": "stream",
     "text": [
      "100%|██████████| 149/149 [00:00<00:00, 831.67it/s]\n",
      "100%|██████████| 150/150 [00:00<00:00, 840.61it/s]\n",
      "  0%|          | 0/297 [00:00<?, ?it/s]"
     ]
    },
    {
     "name": "stdout",
     "output_type": "stream",
     "text": [
      "Reading:\n",
      "892\n",
      "Reading:\n"
     ]
    },
    {
     "name": "stderr",
     "output_type": "stream",
     "text": [
      "100%|██████████| 297/297 [00:00<00:00, 793.80it/s]"
     ]
    },
    {
     "name": "stdout",
     "output_type": "stream",
     "text": [
      "297\n"
     ]
    },
    {
     "name": "stderr",
     "output_type": "stream",
     "text": [
      "\n"
     ]
    }
   ],
   "source": [
    "languages = ['ta', 'hi', 'en']\n",
    "#trainPath = \"../input/padhai-text-non-text-classification-level-1/\"+LEVEL+\"_train/\"+LEVEL+\"/\"\n",
    "#testPath = \"../input/padhai-text-non-text-classification-level-1/\"+LEVEL+\"_test/kaggle_\"+LEVEL\n",
    "images_train = read_all(\"../input/padhai-text-non-text-classification-level-1/level_1_train/level_1/\"+\"background\", key_prefix='bgr_') # change the path\n",
    "for language in languages:\n",
    "  images_train.update(read_all(\"../input/padhai-text-non-text-classification-level-1/level_1_train/level_1/\"+language, key_prefix=language+\"_\" ))\n",
    "print(len(images_train))\n",
    "\n",
    "images_test = read_all(\"../input/padhai-text-non-text-classification-level-1/level_1_test/kaggle_level_1\", key_prefix='') # change the path\n",
    "print(len(images_test))"
   ]
  },
  {
   "cell_type": "code",
   "execution_count": 4,
   "metadata": {
    "execution": {
     "iopub.execute_input": "2020-08-17T01:14:08.157586Z",
     "iopub.status.busy": "2020-08-17T01:14:08.156781Z",
     "iopub.status.idle": "2020-08-17T01:14:08.902055Z",
     "shell.execute_reply": "2020-08-17T01:14:08.901376Z"
    },
    "papermill": {
     "duration": 0.775036,
     "end_time": "2020-08-17T01:14:08.902200",
     "exception": false,
     "start_time": "2020-08-17T01:14:08.127164",
     "status": "completed"
    },
    "tags": []
   },
   "outputs": [],
   "source": [
    "! cd ../input"
   ]
  },
  {
   "cell_type": "code",
   "execution_count": 5,
   "metadata": {
    "execution": {
     "iopub.execute_input": "2020-08-17T01:14:08.959740Z",
     "iopub.status.busy": "2020-08-17T01:14:08.958927Z",
     "iopub.status.idle": "2020-08-17T01:14:08.963955Z",
     "shell.execute_reply": "2020-08-17T01:14:08.963321Z"
    },
    "id": "xqcTJRmSijH-",
    "outputId": "3a26f608-868b-498d-b18d-bfae2b452d4e",
    "papermill": {
     "duration": 0.03777,
     "end_time": "2020-08-17T01:14:08.964078",
     "exception": false,
     "start_time": "2020-08-17T01:14:08.926308",
     "status": "completed"
    },
    "tags": []
   },
   "outputs": [
    {
     "data": {
      "text/plain": [
       "['170', '234', '287', '87', '167']"
      ]
     },
     "execution_count": 5,
     "metadata": {},
     "output_type": "execute_result"
    }
   ],
   "source": [
    "list(images_test.keys())[:5]"
   ]
  },
  {
   "cell_type": "code",
   "execution_count": 6,
   "metadata": {
    "execution": {
     "iopub.execute_input": "2020-08-17T01:14:09.028991Z",
     "iopub.status.busy": "2020-08-17T01:14:09.028137Z",
     "iopub.status.idle": "2020-08-17T01:14:09.035526Z",
     "shell.execute_reply": "2020-08-17T01:14:09.034620Z"
    },
    "id": "yQUKxV_FijIC",
    "outputId": "e6f2538b-3285-49ea-d6fd-7fbadc2bb975",
    "papermill": {
     "duration": 0.045216,
     "end_time": "2020-08-17T01:14:09.035705",
     "exception": false,
     "start_time": "2020-08-17T01:14:08.990489",
     "status": "completed"
    },
    "tags": []
   },
   "outputs": [
    {
     "name": "stdout",
     "output_type": "stream",
     "text": [
      "(892, 256) (892,)\n",
      "(297, 256)\n"
     ]
    }
   ],
   "source": [
    "X_train = []\n",
    "Y_train = []\n",
    "for key, value in images_train.items():\n",
    "    X_train.append(value)\n",
    "    if key[:4] == \"bgr_\":\n",
    "        Y_train.append(0)\n",
    "    else:\n",
    "        Y_train.append(1)\n",
    "\n",
    "ID_test = []\n",
    "X_test = []\n",
    "for key, value in images_test.items():\n",
    "  ID_test.append(int(key))\n",
    "  X_test.append(value)\n",
    "  \n",
    "        \n",
    "X_train = np.array(X_train)\n",
    "Y_train = np.array(Y_train)\n",
    "X_test = np.array(X_test)\n",
    "\n",
    "print(X_train.shape, Y_train.shape)\n",
    "print(X_test.shape)"
   ]
  },
  {
   "cell_type": "code",
   "execution_count": 7,
   "metadata": {
    "execution": {
     "iopub.execute_input": "2020-08-17T01:14:09.094288Z",
     "iopub.status.busy": "2020-08-17T01:14:09.093185Z",
     "iopub.status.idle": "2020-08-17T01:14:09.112070Z",
     "shell.execute_reply": "2020-08-17T01:14:09.112652Z"
    },
    "id": "wy3IKx26ijIG",
    "outputId": "f571f85d-1fe6-4a33-bcf1-ca1574aa3709",
    "papermill": {
     "duration": 0.050949,
     "end_time": "2020-08-17T01:14:09.112855",
     "exception": false,
     "start_time": "2020-08-17T01:14:09.061906",
     "status": "completed"
    },
    "tags": []
   },
   "outputs": [],
   "source": [
    "scaler = StandardScaler()\n",
    "X_scaled_train = scaler.fit_transform(X_train)\n",
    "X_scaled_test = scaler.transform(X_test)"
   ]
  },
  {
   "cell_type": "code",
   "execution_count": 8,
   "metadata": {
    "execution": {
     "iopub.execute_input": "2020-08-17T01:14:09.198192Z",
     "iopub.status.busy": "2020-08-17T01:14:09.197051Z",
     "iopub.status.idle": "2020-08-17T01:14:09.200469Z",
     "shell.execute_reply": "2020-08-17T01:14:09.199890Z"
    },
    "id": "fIuRdSezijHx",
    "papermill": {
     "duration": 0.06208,
     "end_time": "2020-08-17T01:14:09.200600",
     "exception": false,
     "start_time": "2020-08-17T01:14:09.138520",
     "status": "completed"
    },
    "tags": []
   },
   "outputs": [],
   "source": [
    "class SigmoidNeuron:\n",
    "  \n",
    "  def __init__(self):\n",
    "    self.w = None\n",
    "    self.b = None\n",
    "    \n",
    "  def perceptron(self, x):\n",
    "    return np.dot(x, self.w.T) + self.b\n",
    "  \n",
    "  def sigmoid(self, x):\n",
    "    return 1.0/(1.0 + np.exp(-x))\n",
    "  \n",
    "  def grad_w_mse(self, x, y):\n",
    "    y_pred = self.sigmoid(self.perceptron(x))\n",
    "    return (y_pred - y) * y_pred * (1 - y_pred) * x\n",
    "  \n",
    "  def grad_b_mse(self, x, y):\n",
    "    y_pred = self.sigmoid(self.perceptron(x))\n",
    "    return (y_pred - y) * y_pred * (1 - y_pred)\n",
    "  \n",
    "  def grad_w_ce(self, x, y):\n",
    "    y_pred = self.sigmoid(self.perceptron(x))\n",
    "    if y == 0:\n",
    "      return y_pred * x\n",
    "    elif y == 1:\n",
    "      return -1 * (1 - y_pred) * x\n",
    "    else:\n",
    "      raise ValueError(\"y should be 0 or 1\")\n",
    "    \n",
    "  def grad_b_ce(self, x, y):\n",
    "    y_pred = self.sigmoid(self.perceptron(x))\n",
    "    if y == 0:\n",
    "      return y_pred \n",
    "    elif y == 1:\n",
    "      return -1 * (1 - y_pred)\n",
    "    else:\n",
    "      raise ValueError(\"y should be 0 or 1\")\n",
    "  \n",
    "  def fit(self, X, Y, epochs=1, learning_rate=1, initialise=True, loss_fn=\"mse\", display_loss=False):\n",
    "    \n",
    "    # initialise w, b\n",
    "    if initialise:\n",
    "      self.w = np.random.randn(1, X.shape[1])\n",
    "      self.b = 0\n",
    "      \n",
    "    if display_loss:\n",
    "      loss = {}\n",
    "    \n",
    "    for i in tqdm(range(epochs), total=epochs, unit=\"epoch\"):\n",
    "      dw = 0\n",
    "      db = 0\n",
    "      for x, y in zip(X, Y):\n",
    "        if loss_fn == \"mse\":\n",
    "          dw += self.grad_w_mse(x, y)\n",
    "          db += self.grad_b_mse(x, y) \n",
    "        elif loss_fn == \"ce\":\n",
    "          dw += self.grad_w_ce(x, y)\n",
    "          db += self.grad_b_ce(x, y)\n",
    "      self.w -= learning_rate * dw\n",
    "      self.b -= learning_rate * db\n",
    "      \n",
    "      if display_loss:\n",
    "        Y_pred = self.sigmoid(self.perceptron(X))\n",
    "        if loss_fn == \"mse\":\n",
    "          loss[i] = mean_squared_error(Y, Y_pred)\n",
    "        elif loss_fn == \"ce\":\n",
    "          loss[i] = log_loss(Y, Y_pred)\n",
    "    \n",
    "    if display_loss:\n",
    "      plt.plot(np.array(list(loss.values())).astype(float))\n",
    "      plt.xlabel('Epochs')\n",
    "      if loss_fn == \"mse\":\n",
    "        plt.ylabel('Mean Squared Error')\n",
    "      elif loss_fn == \"ce\":\n",
    "        plt.ylabel('Log Loss')\n",
    "      plt.show()\n",
    "      \n",
    "  def predict(self, X):\n",
    "    Y_pred = []\n",
    "    for x in X:\n",
    "      y_pred = self.sigmoid(self.perceptron(x))\n",
    "      Y_pred.append(y_pred)\n",
    "    return np.array(Y_pred)"
   ]
  },
  {
   "cell_type": "code",
   "execution_count": 9,
   "metadata": {
    "execution": {
     "iopub.execute_input": "2020-08-17T01:14:09.259318Z",
     "iopub.status.busy": "2020-08-17T01:14:09.258504Z",
     "iopub.status.idle": "2020-08-17T01:14:32.127634Z",
     "shell.execute_reply": "2020-08-17T01:14:32.128186Z"
    },
    "id": "eboQW2n1ijIK",
    "outputId": "fa8fbf5d-5d5c-4463-aa3c-909d6698b9b0",
    "papermill": {
     "duration": 22.900949,
     "end_time": "2020-08-17T01:14:32.128371",
     "exception": false,
     "start_time": "2020-08-17T01:14:09.227422",
     "status": "completed"
    },
    "tags": []
   },
   "outputs": [
    {
     "name": "stderr",
     "output_type": "stream",
     "text": [
      "100%|██████████| 400/400 [00:22<00:00, 17.65epoch/s]\n"
     ]
    },
    {
     "data": {
      "image/png": "[encoded data removed]",
      "text/plain": [
       "<Figure size 432x288 with 1 Axes>"
      ]
     },
     "metadata": {
      "needs_background": "light"
     },
     "output_type": "display_data"
    }
   ],
   "source": [
    "sn_mse = SigmoidNeuron()\n",
    "sn_mse.fit(X_scaled_train, Y_train, epochs=400, learning_rate=0.015, loss_fn=\"mse\", display_loss=True)"
   ]
  },
  {
   "cell_type": "code",
   "execution_count": 10,
   "metadata": {
    "execution": {
     "iopub.execute_input": "2020-08-17T01:14:32.338235Z",
     "iopub.status.busy": "2020-08-17T01:14:32.337190Z",
     "iopub.status.idle": "2020-08-17T01:14:36.905427Z",
     "shell.execute_reply": "2020-08-17T01:14:36.904668Z"
    },
    "id": "547SFsgsijIO",
    "outputId": "e6595d5e-a9e0-4b5f-f7b5-a56297bc69c0",
    "papermill": {
     "duration": 4.673627,
     "end_time": "2020-08-17T01:14:36.905596",
     "exception": false,
     "start_time": "2020-08-17T01:14:32.231969",
     "status": "completed"
    },
    "tags": []
   },
   "outputs": [
    {
     "name": "stderr",
     "output_type": "stream",
     "text": [
      "100%|██████████| 100/100 [00:04<00:00, 22.73epoch/s]\n"
     ]
    },
    {
     "data": {
      "image/png": "[encoded data removed]",
      "text/plain": [
       "<Figure size 432x288 with 1 Axes>"
      ]
     },
     "metadata": {
      "needs_background": "light"
     },
     "output_type": "display_data"
    }
   ],
   "source": [
    "sn_ce = SigmoidNeuron()\n",
    "sn_ce.fit(X_scaled_train, Y_train, epochs=100, learning_rate=0.018, loss_fn=\"ce\", display_loss=True)"
   ]
  },
  {
   "cell_type": "code",
   "execution_count": 11,
   "metadata": {
    "execution": {
     "iopub.execute_input": "2020-08-17T01:14:37.146352Z",
     "iopub.status.busy": "2020-08-17T01:14:37.145389Z",
     "iopub.status.idle": "2020-08-17T01:14:37.148594Z",
     "shell.execute_reply": "2020-08-17T01:14:37.147869Z"
    },
    "id": "_a3_-9zYijIS",
    "papermill": {
     "duration": 0.125431,
     "end_time": "2020-08-17T01:14:37.148717",
     "exception": false,
     "start_time": "2020-08-17T01:14:37.023286",
     "status": "completed"
    },
    "tags": []
   },
   "outputs": [],
   "source": [
    "def print_accuracy(sn):\n",
    "  Y_pred_train = sn.predict(X_scaled_train)\n",
    "  Y_pred_binarised_train = (Y_pred_train >= 0.4).astype(\"int\").ravel()\n",
    "  accuracy_train = accuracy_score(Y_pred_binarised_train, Y_train)\n",
    "  print(\"Train Accuracy : \", accuracy_train)\n",
    "  print(\"-\"*50)"
   ]
  },
  {
   "cell_type": "code",
   "execution_count": 12,
   "metadata": {
    "execution": {
     "iopub.execute_input": "2020-08-17T01:14:37.400727Z",
     "iopub.status.busy": "2020-08-17T01:14:37.399583Z",
     "iopub.status.idle": "2020-08-17T01:14:37.425146Z",
     "shell.execute_reply": "2020-08-17T01:14:37.424533Z"
    },
    "id": "lqe2g9PLijIW",
    "outputId": "0ce4b45c-78f5-4323-829b-db3e12c3f268",
    "papermill": {
     "duration": 0.161461,
     "end_time": "2020-08-17T01:14:37.425279",
     "exception": false,
     "start_time": "2020-08-17T01:14:37.263818",
     "status": "completed"
    },
    "tags": []
   },
   "outputs": [
    {
     "name": "stdout",
     "output_type": "stream",
     "text": [
      "Train Accuracy :  0.9786995515695067\n",
      "--------------------------------------------------\n",
      "Train Accuracy :  0.9988789237668162\n",
      "--------------------------------------------------\n"
     ]
    }
   ],
   "source": [
    "print_accuracy(sn_mse)\n",
    "print_accuracy(sn_ce)"
   ]
  },
  {
   "cell_type": "markdown",
   "execution_count": null,
   "metadata": {
    "id": "8IMv7SCUijIa",
    "papermill": {
     "duration": 0.115256,
     "end_time": "2020-08-17T01:14:37.656172",
     "exception": false,
     "start_time": "2020-08-17T01:14:37.540916",
     "status": "completed"
    },
    "tags": []
   },
   "source": [
    "## Sample Submission"
   ]
  },
  {
   "cell_type": "code",
   "execution_count": 13,
   "metadata": {
    "execution": {
     "iopub.execute_input": "2020-08-17T01:14:37.904197Z",
     "iopub.status.busy": "2020-08-17T01:14:37.903423Z",
     "iopub.status.idle": "2020-08-17T01:14:38.026641Z",
     "shell.execute_reply": "2020-08-17T01:14:38.025898Z"
    },
    "id": "4_pBsgYlijIb",
    "papermill": {
     "duration": 0.253851,
     "end_time": "2020-08-17T01:14:38.026770",
     "exception": false,
     "start_time": "2020-08-17T01:14:37.772919",
     "status": "completed"
    },
    "tags": []
   },
   "outputs": [],
   "source": [
    "Y_pred_test = sn_ce.predict(X_scaled_test)\n",
    "Y_pred_binarised_test = (Y_pred_test >= 0.4).astype(\"int\").ravel()\n",
    "\n",
    "submission = {}\n",
    "submission['ImageId'] = ID_test\n",
    "submission['Class'] = Y_pred_binarised_test\n",
    "\n",
    "submission = pd.DataFrame(submission)\n",
    "submission = submission[['ImageId', 'Class']]\n",
    "submission = submission.sort_values(['ImageId'])\n",
    "submission.to_csv(\"submission.csv\", index=False)"
   ]
  },
  {
   "cell_type": "code",
   "execution_count": 14,
   "metadata": {
    "execution": {
     "iopub.execute_input": "2020-08-17T01:14:38.273532Z",
     "iopub.status.busy": "2020-08-17T01:14:38.272603Z",
     "iopub.status.idle": "2020-08-17T01:14:38.277943Z",
     "shell.execute_reply": "2020-08-17T01:14:38.276890Z"
    },
    "papermill": {
     "duration": 0.134995,
     "end_time": "2020-08-17T01:14:38.278113",
     "exception": false,
     "start_time": "2020-08-17T01:14:38.143118",
     "status": "completed"
    },
    "tags": []
   },
   "outputs": [
    {
     "name": "stdout",
     "output_type": "stream",
     "text": [
      "     ImageId  Class\n",
      "272        0      1\n",
      "172        1      0\n",
      "72         2      1\n",
      "221        3      1\n",
      "255        4      1\n"
     ]
    }
   ],
   "source": [
    "print(submission.head())"
   ]
  },
  {
   "cell_type": "code",
   "execution_count": 15,
   "metadata": {
    "execution": {
     "iopub.execute_input": "2020-08-17T01:14:38.516483Z",
     "iopub.status.busy": "2020-08-17T01:14:38.515448Z",
     "iopub.status.idle": "2020-08-17T01:14:38.518949Z",
     "shell.execute_reply": "2020-08-17T01:14:38.518308Z"
    },
    "papermill": {
     "duration": 0.124572,
     "end_time": "2020-08-17T01:14:38.519077",
     "exception": false,
     "start_time": "2020-08-17T01:14:38.394505",
     "status": "completed"
    },
    "tags": []
   },
   "outputs": [],
   "source": [
    "df = submission.copy()"
   ]
  },
  {
   "cell_type": "code",
   "execution_count": 16,
   "metadata": {
    "execution": {
     "iopub.execute_input": "2020-08-17T01:14:38.760709Z",
     "iopub.status.busy": "2020-08-17T01:14:38.759950Z",
     "iopub.status.idle": "2020-08-17T01:14:38.763645Z",
     "shell.execute_reply": "2020-08-17T01:14:38.762929Z"
    },
    "papermill": {
     "duration": 0.127817,
     "end_time": "2020-08-17T01:14:38.763774",
     "exception": false,
     "start_time": "2020-08-17T01:14:38.635957",
     "status": "completed"
    },
    "tags": []
   },
   "outputs": [],
   "source": [
    "df1 = pd.DataFrame({'ImageId':[19,242,286],'Class':[1,0,0]})"
   ]
  },
  {
   "cell_type": "code",
   "execution_count": 17,
   "metadata": {
    "execution": {
     "iopub.execute_input": "2020-08-17T01:14:39.002226Z",
     "iopub.status.busy": "2020-08-17T01:14:39.001159Z",
     "iopub.status.idle": "2020-08-17T01:14:39.004868Z",
     "shell.execute_reply": "2020-08-17T01:14:39.004135Z"
    },
    "papermill": {
     "duration": 0.1255,
     "end_time": "2020-08-17T01:14:39.005007",
     "exception": false,
     "start_time": "2020-08-17T01:14:38.879507",
     "status": "completed"
    },
    "tags": []
   },
   "outputs": [],
   "source": [
    "df2 = pd.concat([df,df1])"
   ]
  },
  {
   "cell_type": "code",
   "execution_count": 18,
   "metadata": {
    "execution": {
     "iopub.execute_input": "2020-08-17T01:14:39.244415Z",
     "iopub.status.busy": "2020-08-17T01:14:39.242778Z",
     "iopub.status.idle": "2020-08-17T01:14:39.248232Z",
     "shell.execute_reply": "2020-08-17T01:14:39.247444Z"
    },
    "papermill": {
     "duration": 0.128183,
     "end_time": "2020-08-17T01:14:39.248368",
     "exception": false,
     "start_time": "2020-08-17T01:14:39.120185",
     "status": "completed"
    },
    "tags": []
   },
   "outputs": [],
   "source": [
    "df2.to_csv(\"submission.csv\", index=False)"
   ]
  },
  {
   "cell_type": "code",
   "execution_count": null,
   "metadata": {
    "papermill": {
     "duration": 0.115181,
     "end_time": "2020-08-17T01:14:39.479543",
     "exception": false,
     "start_time": "2020-08-17T01:14:39.364362",
     "status": "completed"
    },
    "tags": []
   },
   "outputs": [],
   "source": []
  }
 ],
 "metadata": {
  "kernelspec": {
   "display_name": "Python 3",
   "language": "python",
   "name": "python3"
  },
  "language_info": {
   "codemirror_mode": {
    "name": "ipython",
    "version": 3
   },
   "file_extension": ".py",
   "mimetype": "text/x-python",
   "name": "python",
   "nbconvert_exporter": "python",
   "pygments_lexer": "ipython3",
   "version": "3.7.6"
  },
  "papermill": {
   "duration": 38.871604,
   "end_time": "2020-08-17T01:14:39.702415",
   "environment_variables": {},
   "exception": null,
   "input_path": "__notebook__.ipynb",
   "output_path": "__notebook__.ipynb",
   "parameters": {},
   "start_time": "2020-08-17T01:14:00.830811",
   "version": "2.1.0"
  }
 },
 "nbformat": 4,
 "nbformat_minor": 4
}
