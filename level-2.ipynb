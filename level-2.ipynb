{
 "cells": [
  {
   "cell_type": "code",
   "execution_count": 1,
   "metadata": {
    "execution": {
     "iopub.execute_input": "2020-08-17T14:20:49.762956Z",
     "iopub.status.busy": "2020-08-17T14:20:49.762142Z",
     "iopub.status.idle": "2020-08-17T14:20:51.074511Z",
     "shell.execute_reply": "2020-08-17T14:20:51.073760Z"
    },
    "id": "a192xmwKijHs",
    "papermill": {
     "duration": 1.334529,
     "end_time": "2020-08-17T14:20:51.074675",
     "exception": false,
     "start_time": "2020-08-17T14:20:49.740146",
     "status": "completed"
    },
    "tags": []
   },
   "outputs": [],
   "source": [
    "import os\n",
    "import sys\n",
    "import pickle\n",
    "import numpy as np\n",
    "import pandas as pd\n",
    "from PIL import Image, ImageFilter\n",
    "from tqdm import tqdm\n",
    "from sklearn.preprocessing import StandardScaler\n",
    "from sklearn.metrics import accuracy_score, mean_squared_error, log_loss, confusion_matrix\n",
    "import matplotlib.pyplot as plt\n",
    "\n",
    "np.random.seed(100)\n",
    "LEVEL = 'level_1'"
   ]
  },
  {
   "cell_type": "code",
   "execution_count": 2,
   "metadata": {
    "execution": {
     "iopub.execute_input": "2020-08-17T14:20:51.137158Z",
     "iopub.status.busy": "2020-08-17T14:20:51.135840Z",
     "iopub.status.idle": "2020-08-17T14:20:51.139846Z",
     "shell.execute_reply": "2020-08-17T14:20:51.139205Z"
    },
    "id": "fIuRdSezijHx",
    "papermill": {
     "duration": 0.050353,
     "end_time": "2020-08-17T14:20:51.139981",
     "exception": false,
     "start_time": "2020-08-17T14:20:51.089628",
     "status": "completed"
    },
    "tags": []
   },
   "outputs": [],
   "source": [
    "class SigmoidNeuron:\n",
    "  \n",
    "  def __init__(self):\n",
    "    self.w = None\n",
    "    self.b = None\n",
    "    \n",
    "  def perceptron(self, x):\n",
    "    return np.dot(x, self.w.T) + self.b\n",
    "  \n",
    "  def sigmoid(self, x):\n",
    "    return 1.0/(1.0 + np.exp(-x))\n",
    "  \n",
    "  def grad_w_mse(self, x, y):\n",
    "    y_pred = self.sigmoid(self.perceptron(x))\n",
    "    return (y_pred - y) * y_pred * (1 - y_pred) * x\n",
    "  \n",
    "  def grad_b_mse(self, x, y):\n",
    "    y_pred = self.sigmoid(self.perceptron(x))\n",
    "    return (y_pred - y) * y_pred * (1 - y_pred)\n",
    "  \n",
    "  def grad_w_ce(self, x, y):\n",
    "    y_pred = self.sigmoid(self.perceptron(x))\n",
    "    if y == 0:\n",
    "      return y_pred * x\n",
    "    elif y == 1:\n",
    "      return -1 * (1 - y_pred) * x\n",
    "    else:\n",
    "      raise ValueError(\"y should be 0 or 1\")\n",
    "    \n",
    "  def grad_b_ce(self, x, y):\n",
    "    y_pred = self.sigmoid(self.perceptron(x))\n",
    "    if y == 0:\n",
    "      return y_pred \n",
    "    elif y == 1:\n",
    "      return -1 * (1 - y_pred)\n",
    "    else:\n",
    "      raise ValueError(\"y should be 0 or 1\")\n",
    "  \n",
    "  def fit(self, X, Y, epochs=1, learning_rate=1, initialise=True, loss_fn=\"mse\", display_loss=False):\n",
    "    \n",
    "    # initialise w, b\n",
    "    if initialise:\n",
    "      self.w = np.random.randn(1, X.shape[1])\n",
    "      self.b = 0\n",
    "      \n",
    "    if display_loss:\n",
    "      loss = {}\n",
    "    \n",
    "    for i in tqdm(range(epochs), total=epochs, unit=\"epoch\"):\n",
    "      dw = 0\n",
    "      db = 0\n",
    "      for x, y in zip(X, Y):\n",
    "        if loss_fn == \"mse\":\n",
    "          dw += self.grad_w_mse(x, y)\n",
    "          db += self.grad_b_mse(x, y) \n",
    "        elif loss_fn == \"ce\":\n",
    "          dw += self.grad_w_ce(x, y)\n",
    "          db += self.grad_b_ce(x, y)\n",
    "      self.w -= learning_rate * dw\n",
    "      self.b -= learning_rate * db\n",
    "      \n",
    "      if display_loss:\n",
    "        Y_pred = self.sigmoid(self.perceptron(X))\n",
    "        if loss_fn == \"mse\":\n",
    "          loss[i] = mean_squared_error(Y, Y_pred)\n",
    "        elif loss_fn == \"ce\":\n",
    "          loss[i] = log_loss(Y, Y_pred)\n",
    "    \n",
    "    if display_loss:\n",
    "      plt.plot(np.array(list(loss.values())).astype(float))\n",
    "      plt.xlabel('Epochs')\n",
    "      if loss_fn == \"mse\":\n",
    "        plt.ylabel('Mean Squared Error')\n",
    "      elif loss_fn == \"ce\":\n",
    "        plt.ylabel('Log Loss')\n",
    "      plt.show()\n",
    "      \n",
    "  def predict(self, X):\n",
    "    Y_pred = []\n",
    "    for x in X:\n",
    "      y_pred = self.sigmoid(self.perceptron(x))\n",
    "      Y_pred.append(y_pred)\n",
    "    return np.array(Y_pred)"
   ]
  },
  {
   "cell_type": "code",
   "execution_count": 3,
   "metadata": {
    "execution": {
     "iopub.execute_input": "2020-08-17T14:20:51.179428Z",
     "iopub.status.busy": "2020-08-17T14:20:51.177439Z",
     "iopub.status.idle": "2020-08-17T14:20:51.184059Z",
     "shell.execute_reply": "2020-08-17T14:20:51.183428Z"
    },
    "id": "VDe2wjl_ijH0",
    "papermill": {
     "duration": 0.03058,
     "end_time": "2020-08-17T14:20:51.184197",
     "exception": false,
     "start_time": "2020-08-17T14:20:51.153617",
     "status": "completed"
    },
    "tags": []
   },
   "outputs": [],
   "source": [
    "def read_all(folder_path, key_prefix=\"\"):\n",
    "    '''\n",
    "    It returns a dictionary with 'file names' as keys and 'flattened image arrays' as values.\n",
    "    '''\n",
    "    print(\"Reading:\")\n",
    "    images = {}\n",
    "    files = os.listdir(folder_path)\n",
    "    for i, file_name in tqdm(enumerate(files), total=len(files)):\n",
    "        file_path = os.path.join(folder_path, file_name)\n",
    "        image_index = key_prefix + file_name[:-4]\n",
    "        image = Image.open(file_path)\n",
    "        image = image.convert(\"L\")\n",
    "        images[image_index] = np.array(image.copy()).flatten()\n",
    "        image.close()\n",
    "    return images"
   ]
  },
  {
   "cell_type": "code",
   "execution_count": 4,
   "metadata": {
    "execution": {
     "iopub.execute_input": "2020-08-17T14:20:51.224996Z",
     "iopub.status.busy": "2020-08-17T14:20:51.224056Z",
     "iopub.status.idle": "2020-08-17T14:20:54.015137Z",
     "shell.execute_reply": "2020-08-17T14:20:54.016590Z"
    },
    "id": "mjuaN532ijH4",
    "outputId": "4124ae5e-4a9c-44dc-8c84-7919e6927fe5",
    "papermill": {
     "duration": 2.819473,
     "end_time": "2020-08-17T14:20:54.016966",
     "exception": false,
     "start_time": "2020-08-17T14:20:51.197493",
     "status": "completed"
    },
    "tags": []
   },
   "outputs": [
    {
     "name": "stderr",
     "output_type": "stream",
     "text": [
      "  8%|▊         | 33/407 [00:00<00:01, 328.18it/s]"
     ]
    },
    {
     "name": "stdout",
     "output_type": "stream",
     "text": [
      "Reading:\n"
     ]
    },
    {
     "name": "stderr",
     "output_type": "stream",
     "text": [
      "100%|██████████| 407/407 [00:00<00:00, 414.33it/s]\n",
      " 37%|███▋      | 42/114 [00:00<00:00, 412.14it/s]"
     ]
    },
    {
     "name": "stdout",
     "output_type": "stream",
     "text": [
      "Reading:\n"
     ]
    },
    {
     "name": "stderr",
     "output_type": "stream",
     "text": [
      "100%|██████████| 114/114 [00:00<00:00, 429.49it/s]\n",
      " 30%|███       | 41/136 [00:00<00:00, 407.44it/s]"
     ]
    },
    {
     "name": "stdout",
     "output_type": "stream",
     "text": [
      "Reading:\n"
     ]
    },
    {
     "name": "stderr",
     "output_type": "stream",
     "text": [
      "100%|██████████| 136/136 [00:00<00:00, 423.67it/s]\n",
      " 25%|██▌       | 37/146 [00:00<00:00, 367.83it/s]"
     ]
    },
    {
     "name": "stdout",
     "output_type": "stream",
     "text": [
      "Reading:\n"
     ]
    },
    {
     "name": "stderr",
     "output_type": "stream",
     "text": [
      "100%|██████████| 146/146 [00:00<00:00, 386.38it/s]\n",
      " 13%|█▎        | 39/299 [00:00<00:00, 382.55it/s]"
     ]
    },
    {
     "name": "stdout",
     "output_type": "stream",
     "text": [
      "803\n",
      "Reading:\n"
     ]
    },
    {
     "name": "stderr",
     "output_type": "stream",
     "text": [
      "100%|██████████| 299/299 [00:00<00:00, 386.63it/s]"
     ]
    },
    {
     "name": "stdout",
     "output_type": "stream",
     "text": [
      "299\n"
     ]
    },
    {
     "name": "stderr",
     "output_type": "stream",
     "text": [
      "\n"
     ]
    }
   ],
   "source": [
    "languages = ['ta', 'hi', 'en']\n",
    "#trainPath = \"../input/padhai-text-non-text-classification-level-1/\"+LEVEL+\"_train/\"+LEVEL+\"/\"\n",
    "#testPath = \"../input/padhai-text-non-text-classification-level-1/\"+LEVEL+\"_test/kaggle_\"+LEVEL\n",
    "images_train = read_all(\"../input/padhai-text-non-text-classification-level-2/level_2/\"+\"background\", key_prefix='bgr_') # change the path\n",
    "for language in languages:\n",
    "  images_train.update(read_all(\"../input/padhai-text-non-text-classification-level-2/level_2/\"+language, key_prefix=language+\"_\" ))\n",
    "print(len(images_train))\n",
    "\n",
    "images_test = read_all(\"../input/padhai-text-non-text-classification-level-2/kaggle_level_2\", key_prefix='') # change the path\n",
    "print(len(images_test))"
   ]
  },
  {
   "cell_type": "code",
   "execution_count": 5,
   "metadata": {
    "execution": {
     "iopub.execute_input": "2020-08-17T14:20:54.085499Z",
     "iopub.status.busy": "2020-08-17T14:20:54.084694Z",
     "iopub.status.idle": "2020-08-17T14:20:54.884729Z",
     "shell.execute_reply": "2020-08-17T14:20:54.883892Z"
    },
    "papermill": {
     "duration": 0.835966,
     "end_time": "2020-08-17T14:20:54.884872",
     "exception": false,
     "start_time": "2020-08-17T14:20:54.048906",
     "status": "completed"
    },
    "tags": []
   },
   "outputs": [],
   "source": [
    "! cd ../input"
   ]
  },
  {
   "cell_type": "code",
   "execution_count": 6,
   "metadata": {
    "execution": {
     "iopub.execute_input": "2020-08-17T14:20:54.960269Z",
     "iopub.status.busy": "2020-08-17T14:20:54.959318Z",
     "iopub.status.idle": "2020-08-17T14:20:54.964990Z",
     "shell.execute_reply": "2020-08-17T14:20:54.964311Z"
    },
    "id": "xqcTJRmSijH-",
    "outputId": "3a26f608-868b-498d-b18d-bfae2b452d4e",
    "papermill": {
     "duration": 0.048392,
     "end_time": "2020-08-17T14:20:54.965124",
     "exception": false,
     "start_time": "2020-08-17T14:20:54.916732",
     "status": "completed"
    },
    "tags": []
   },
   "outputs": [
    {
     "data": {
      "text/plain": [
       "['84', '33', '298', '120', '181']"
      ]
     },
     "execution_count": 6,
     "metadata": {},
     "output_type": "execute_result"
    }
   ],
   "source": [
    "list(images_test.keys())[:5]"
   ]
  },
  {
   "cell_type": "code",
   "execution_count": 7,
   "metadata": {
    "execution": {
     "iopub.execute_input": "2020-08-17T14:20:55.041059Z",
     "iopub.status.busy": "2020-08-17T14:20:55.039829Z",
     "iopub.status.idle": "2020-08-17T14:20:55.047310Z",
     "shell.execute_reply": "2020-08-17T14:20:55.046612Z"
    },
    "id": "yQUKxV_FijIC",
    "outputId": "e6f2538b-3285-49ea-d6fd-7fbadc2bb975",
    "papermill": {
     "duration": 0.051693,
     "end_time": "2020-08-17T14:20:55.047451",
     "exception": false,
     "start_time": "2020-08-17T14:20:54.995758",
     "status": "completed"
    },
    "tags": []
   },
   "outputs": [
    {
     "name": "stdout",
     "output_type": "stream",
     "text": [
      "(803, 256) (803,)\n",
      "(299, 256)\n"
     ]
    }
   ],
   "source": [
    "X_train = []\n",
    "Y_train = []\n",
    "\n",
    "for key, value in images_train.items():\n",
    "    X_train.append(value)\n",
    "    if key[:4] == \"bgr_\":\n",
    "        Y_train.append(0)\n",
    "    else:\n",
    "        Y_train.append(1)\n",
    "\n",
    "ID_test = []\n",
    "X_test = []\n",
    "for key, value in images_test.items():\n",
    "  ID_test.append(int(key))\n",
    "  X_test.append(value)\n",
    "\n",
    "X_train = np.array(X_train)\n",
    "Y_train = np.array(Y_train)\n",
    "X_test = np.array(X_test)\n",
    "\n",
    "print(X_train.shape, Y_train.shape)\n",
    "print(X_test.shape)"
   ]
  },
  {
   "cell_type": "markdown",
   "execution_count": null,
   "metadata": {
    "papermill": {
     "duration": 0.031998,
     "end_time": "2020-08-17T14:20:55.111807",
     "exception": false,
     "start_time": "2020-08-17T14:20:55.079809",
     "status": "completed"
    },
    "tags": []
   },
   "source": [
    "# MPNeuron"
   ]
  },
  {
   "cell_type": "code",
   "execution_count": 8,
   "metadata": {
    "execution": {
     "iopub.execute_input": "2020-08-17T14:20:55.200320Z",
     "iopub.status.busy": "2020-08-17T14:20:55.189815Z",
     "iopub.status.idle": "2020-08-17T14:20:56.216545Z",
     "shell.execute_reply": "2020-08-17T14:20:56.215718Z"
    },
    "papermill": {
     "duration": 1.072027,
     "end_time": "2020-08-17T14:20:56.216683",
     "exception": false,
     "start_time": "2020-08-17T14:20:55.144656",
     "status": "completed"
    },
    "tags": []
   },
   "outputs": [],
   "source": [
    "X_train_binarized = []\n",
    "for i in X_train:\n",
    "    i = list(i)\n",
    "    x = [1 if y == 255 else 0 for y in i]\n",
    "    X_train_binarized.append(np.array(x))\n",
    "\n",
    "X_test_binarized = []\n",
    "for i in X_test:\n",
    "    i = list(i)\n",
    "    x = [1 if y == 255 else 0 for y in i]\n",
    "    X_test_binarized.append(np.array(x))\n",
    "\n",
    "X_train_binarized = np.array(X_train_binarized)\n",
    "X_test_binarized = np.array(X_test_binarized)"
   ]
  },
  {
   "cell_type": "code",
   "execution_count": 9,
   "metadata": {
    "execution": {
     "iopub.execute_input": "2020-08-17T14:20:56.293188Z",
     "iopub.status.busy": "2020-08-17T14:20:56.292403Z",
     "iopub.status.idle": "2020-08-17T14:20:56.296896Z",
     "shell.execute_reply": "2020-08-17T14:20:56.296174Z"
    },
    "papermill": {
     "duration": 0.049521,
     "end_time": "2020-08-17T14:20:56.297029",
     "exception": false,
     "start_time": "2020-08-17T14:20:56.247508",
     "status": "completed"
    },
    "tags": []
   },
   "outputs": [],
   "source": [
    "class MPNeuron:\n",
    "  def __init__(self):\n",
    "    self.b = None\n",
    "  \n",
    "  def model(self,x):\n",
    "    return 1 if sum(x) >= self.b else 0\n",
    "  \n",
    "  def predict(self,X):\n",
    "    Y = []\n",
    "    for x in X:\n",
    "      result = self.model(x)\n",
    "      Y.append(result)\n",
    "    return np.array(Y)\n",
    "  \n",
    "  def fit(self,X,Y):\n",
    "    accuracy = {}\n",
    "    for b in range(X.shape[1]+1):\n",
    "      self.b = b\n",
    "      Y_pred = self.predict(X)\n",
    "      accuracy[b]= accuracy_score(Y_pred,Y)\n",
    "    best_b = max(accuracy,key=accuracy.get)\n",
    "    self.b = best_b"
   ]
  },
  {
   "cell_type": "code",
   "execution_count": 10,
   "metadata": {
    "execution": {
     "iopub.execute_input": "2020-08-17T14:20:56.420052Z",
     "iopub.status.busy": "2020-08-17T14:20:56.393406Z",
     "iopub.status.idle": "2020-08-17T14:21:20.264001Z",
     "shell.execute_reply": "2020-08-17T14:21:20.263127Z"
    },
    "papermill": {
     "duration": 23.934222,
     "end_time": "2020-08-17T14:21:20.264159",
     "exception": false,
     "start_time": "2020-08-17T14:20:56.329937",
     "status": "completed"
    },
    "tags": []
   },
   "outputs": [
    {
     "name": "stdout",
     "output_type": "stream",
     "text": [
      "Accuracy on training data 1.0\n",
      "11\n"
     ]
    }
   ],
   "source": [
    "mp = MPNeuron()\n",
    "mp.fit(X_train_binarized, Y_train)\n",
    "y_pred = mp.predict(X_train_binarized)\n",
    "print('Accuracy on training data',accuracy_score(y_pred,Y_train))\n",
    "print(mp.b)"
   ]
  },
  {
   "cell_type": "code",
   "execution_count": 11,
   "metadata": {
    "execution": {
     "iopub.execute_input": "2020-08-17T14:21:20.334842Z",
     "iopub.status.busy": "2020-08-17T14:21:20.333877Z",
     "iopub.status.idle": "2020-08-17T14:21:20.336927Z",
     "shell.execute_reply": "2020-08-17T14:21:20.337500Z"
    },
    "papermill": {
     "duration": 0.041983,
     "end_time": "2020-08-17T14:21:20.337680",
     "exception": false,
     "start_time": "2020-08-17T14:21:20.295697",
     "status": "completed"
    },
    "tags": []
   },
   "outputs": [],
   "source": [
    "def print_accuracy(sn, binarized = False):\n",
    "    if binarized:\n",
    "        Y_pred_train = sn.predict(X_train_binarized)\n",
    "    else:\n",
    "        Y_pred_train = sn.predict(X_scaled_train)\n",
    "    Y_pred_binarised_train = (Y_pred_train >= 0.5).astype(\"int\").ravel()\n",
    "    accuracy_train = accuracy_score(Y_pred_binarised_train, Y_train)\n",
    "    print(\"Train Accuracy : \", accuracy_train)\n",
    "    print(\"-\"*50)"
   ]
  },
  {
   "cell_type": "code",
   "execution_count": 12,
   "metadata": {
    "execution": {
     "iopub.execute_input": "2020-08-17T14:21:20.421597Z",
     "iopub.status.busy": "2020-08-17T14:21:20.411323Z",
     "iopub.status.idle": "2020-08-17T14:21:20.499489Z",
     "shell.execute_reply": "2020-08-17T14:21:20.500214Z"
    },
    "papermill": {
     "duration": 0.130963,
     "end_time": "2020-08-17T14:21:20.500521",
     "exception": false,
     "start_time": "2020-08-17T14:21:20.369558",
     "status": "completed"
    },
    "tags": []
   },
   "outputs": [
    {
     "name": "stdout",
     "output_type": "stream",
     "text": [
      "Train Accuracy :  1.0\n",
      "--------------------------------------------------\n"
     ]
    }
   ],
   "source": [
    "print_accuracy(mp,binarized=True)"
   ]
  },
  {
   "cell_type": "markdown",
   "execution_count": null,
   "metadata": {
    "papermill": {
     "duration": 0.030503,
     "end_time": "2020-08-17T14:21:20.563669",
     "exception": false,
     "start_time": "2020-08-17T14:21:20.533166",
     "status": "completed"
    },
    "tags": []
   },
   "source": [
    "# \"\"\"\"\"\"\""
   ]
  },
  {
   "cell_type": "code",
   "execution_count": 13,
   "metadata": {
    "execution": {
     "iopub.execute_input": "2020-08-17T14:21:20.636352Z",
     "iopub.status.busy": "2020-08-17T14:21:20.634978Z",
     "iopub.status.idle": "2020-08-17T14:21:20.649884Z",
     "shell.execute_reply": "2020-08-17T14:21:20.649057Z"
    },
    "id": "wy3IKx26ijIG",
    "outputId": "f571f85d-1fe6-4a33-bcf1-ca1574aa3709",
    "papermill": {
     "duration": 0.052425,
     "end_time": "2020-08-17T14:21:20.650078",
     "exception": false,
     "start_time": "2020-08-17T14:21:20.597653",
     "status": "completed"
    },
    "tags": []
   },
   "outputs": [],
   "source": [
    "scaler = StandardScaler()\n",
    "X_scaled_train = scaler.fit_transform(X_train)\n",
    "X_scaled_test = scaler.transform(X_test)"
   ]
  },
  {
   "cell_type": "code",
   "execution_count": 14,
   "metadata": {
    "execution": {
     "iopub.execute_input": "2020-08-17T14:21:20.726167Z",
     "iopub.status.busy": "2020-08-17T14:21:20.724995Z",
     "iopub.status.idle": "2020-08-17T14:21:25.628392Z",
     "shell.execute_reply": "2020-08-17T14:21:25.627572Z"
    },
    "id": "eboQW2n1ijIK",
    "outputId": "fa8fbf5d-5d5c-4463-aa3c-909d6698b9b0",
    "papermill": {
     "duration": 4.943767,
     "end_time": "2020-08-17T14:21:25.628543",
     "exception": false,
     "start_time": "2020-08-17T14:21:20.684776",
     "status": "completed"
    },
    "tags": []
   },
   "outputs": [
    {
     "name": "stderr",
     "output_type": "stream",
     "text": [
      "100%|██████████| 100/100 [00:04<00:00, 21.43epoch/s]\n"
     ]
    },
    {
     "data": {
      "image/png": "[encoded data removed]",
      "text/plain": [
       "<Figure size 432x288 with 1 Axes>"
      ]
     },
     "metadata": {
      "needs_background": "light"
     },
     "output_type": "display_data"
    }
   ],
   "source": [
    "sn_mse = SigmoidNeuron()\n",
    "sn_mse.fit(X_scaled_train, Y_train, epochs=100, learning_rate=0.015, loss_fn=\"mse\", display_loss=True)"
   ]
  },
  {
   "cell_type": "code",
   "execution_count": 15,
   "metadata": {
    "execution": {
     "iopub.execute_input": "2020-08-17T14:21:25.706912Z",
     "iopub.status.busy": "2020-08-17T14:21:25.705653Z",
     "iopub.status.idle": "2020-08-17T14:21:29.801882Z",
     "shell.execute_reply": "2020-08-17T14:21:29.802546Z"
    },
    "id": "547SFsgsijIO",
    "outputId": "e6595d5e-a9e0-4b5f-f7b5-a56297bc69c0",
    "papermill": {
     "duration": 4.139497,
     "end_time": "2020-08-17T14:21:29.802745",
     "exception": false,
     "start_time": "2020-08-17T14:21:25.663248",
     "status": "completed"
    },
    "tags": []
   },
   "outputs": [
    {
     "name": "stderr",
     "output_type": "stream",
     "text": [
      "100%|██████████| 100/100 [00:03<00:00, 25.61epoch/s]\n"
     ]
    },
    {
     "data": {
      "image/png": "[encoded data removed]",
      "text/plain": [
       "<Figure size 432x288 with 1 Axes>"
      ]
     },
     "metadata": {
      "needs_background": "light"
     },
     "output_type": "display_data"
    }
   ],
   "source": [
    "sn_ce = SigmoidNeuron()\n",
    "sn_ce.fit(X_scaled_train, Y_train, epochs=100, learning_rate=0.015, loss_fn=\"ce\", display_loss=True)"
   ]
  },
  {
   "cell_type": "code",
   "execution_count": 16,
   "metadata": {
    "execution": {
     "iopub.execute_input": "2020-08-17T14:21:29.883526Z",
     "iopub.status.busy": "2020-08-17T14:21:29.882681Z",
     "iopub.status.idle": "2020-08-17T14:21:29.886489Z",
     "shell.execute_reply": "2020-08-17T14:21:29.885751Z"
    },
    "id": "_a3_-9zYijIS",
    "papermill": {
     "duration": 0.046932,
     "end_time": "2020-08-17T14:21:29.886619",
     "exception": false,
     "start_time": "2020-08-17T14:21:29.839687",
     "status": "completed"
    },
    "tags": []
   },
   "outputs": [],
   "source": [
    "def print_accuracy(sn):\n",
    "  Y_pred_train = sn.predict(X_scaled_train)\n",
    "  Y_pred_binarised_train = (Y_pred_train >= 0.5).astype(\"int\").ravel()\n",
    "  accuracy_train = accuracy_score(Y_pred_binarised_train, Y_train)\n",
    "  print(\"Train Accuracy : \", accuracy_train)\n",
    "  print(\"-\"*50)"
   ]
  },
  {
   "cell_type": "code",
   "execution_count": 17,
   "metadata": {
    "execution": {
     "iopub.execute_input": "2020-08-17T14:21:29.987276Z",
     "iopub.status.busy": "2020-08-17T14:21:29.986477Z",
     "iopub.status.idle": "2020-08-17T14:21:30.010999Z",
     "shell.execute_reply": "2020-08-17T14:21:30.009018Z"
    },
    "id": "lqe2g9PLijIW",
    "outputId": "0ce4b45c-78f5-4323-829b-db3e12c3f268",
    "papermill": {
     "duration": 0.088831,
     "end_time": "2020-08-17T14:21:30.011385",
     "exception": false,
     "start_time": "2020-08-17T14:21:29.922554",
     "status": "completed"
    },
    "tags": []
   },
   "outputs": [
    {
     "name": "stdout",
     "output_type": "stream",
     "text": [
      "Train Accuracy :  0.9713574097135741\n",
      "--------------------------------------------------\n",
      "Train Accuracy :  1.0\n",
      "--------------------------------------------------\n"
     ]
    }
   ],
   "source": [
    "print_accuracy(sn_mse)\n",
    "print_accuracy(sn_ce)"
   ]
  },
  {
   "cell_type": "markdown",
   "execution_count": null,
   "metadata": {
    "id": "8IMv7SCUijIa",
    "papermill": {
     "duration": 0.036673,
     "end_time": "2020-08-17T14:21:30.088750",
     "exception": false,
     "start_time": "2020-08-17T14:21:30.052077",
     "status": "completed"
    },
    "tags": []
   },
   "source": [
    "## Sample Submission"
   ]
  },
  {
   "cell_type": "code",
   "execution_count": 18,
   "metadata": {
    "execution": {
     "iopub.execute_input": "2020-08-17T14:21:30.213397Z",
     "iopub.status.busy": "2020-08-17T14:21:30.183114Z",
     "iopub.status.idle": "2020-08-17T14:21:30.335272Z",
     "shell.execute_reply": "2020-08-17T14:21:30.334471Z"
    },
    "id": "4_pBsgYlijIb",
    "papermill": {
     "duration": 0.210207,
     "end_time": "2020-08-17T14:21:30.335418",
     "exception": false,
     "start_time": "2020-08-17T14:21:30.125211",
     "status": "completed"
    },
    "tags": []
   },
   "outputs": [],
   "source": [
    "#Y_pred_test = sn_ce.predict(X_scaled_test)\n",
    "#Y_pred_binarised_test = (Y_pred_test >= 0.5).astype(\"int\").ravel()\n",
    "Y_pred_binarised_test = mp.predict(X_test_binarized).astype(\"int\").ravel()\n",
    "submission = {}\n",
    "submission['ImageId'] = ID_test\n",
    "submission['Class'] = Y_pred_binarised_test\n",
    "\n",
    "submission = pd.DataFrame(submission)\n",
    "submission = submission[['ImageId', 'Class']]\n",
    "submission = submission.sort_values(['ImageId'])\n",
    "submission.to_csv(\"submission.csv\", index=False)"
   ]
  },
  {
   "cell_type": "code",
   "execution_count": 19,
   "metadata": {
    "execution": {
     "iopub.execute_input": "2020-08-17T14:21:30.423502Z",
     "iopub.status.busy": "2020-08-17T14:21:30.422543Z",
     "iopub.status.idle": "2020-08-17T14:21:30.427040Z",
     "shell.execute_reply": "2020-08-17T14:21:30.427885Z"
    },
    "papermill": {
     "duration": 0.055619,
     "end_time": "2020-08-17T14:21:30.428098",
     "exception": false,
     "start_time": "2020-08-17T14:21:30.372479",
     "status": "completed"
    },
    "tags": []
   },
   "outputs": [
    {
     "name": "stdout",
     "output_type": "stream",
     "text": [
      "     ImageId  Class\n",
      "97         0      1\n",
      "131        1      0\n",
      "295        2      0\n",
      "172        3      1\n",
      "38         4      0\n",
      "..       ...    ...\n",
      "139      295      1\n",
      "272      296      0\n",
      "87       297      0\n",
      "2        298      0\n",
      "96       299      1\n",
      "\n",
      "[299 rows x 2 columns]\n"
     ]
    }
   ],
   "source": [
    "print(submission)"
   ]
  },
  {
   "cell_type": "code",
   "execution_count": 20,
   "metadata": {
    "execution": {
     "iopub.execute_input": "2020-08-17T14:21:30.517249Z",
     "iopub.status.busy": "2020-08-17T14:21:30.516134Z",
     "iopub.status.idle": "2020-08-17T14:21:30.523439Z",
     "shell.execute_reply": "2020-08-17T14:21:30.522640Z"
    },
    "papermill": {
     "duration": 0.056302,
     "end_time": "2020-08-17T14:21:30.523589",
     "exception": false,
     "start_time": "2020-08-17T14:21:30.467287",
     "status": "completed"
    },
    "tags": []
   },
   "outputs": [],
   "source": [
    "df = submission.copy()\n",
    "df1 = pd.DataFrame({'ImageId':[240],'Class':[1]})\n",
    "df2 = pd.concat([df,df1])\n",
    "df2.to_csv(\"submission.csv\", index=False)"
   ]
  },
  {
   "cell_type": "code",
   "execution_count": null,
   "metadata": {
    "papermill": {
     "duration": 0.037571,
     "end_time": "2020-08-17T14:21:30.598457",
     "exception": false,
     "start_time": "2020-08-17T14:21:30.560886",
     "status": "completed"
    },
    "tags": []
   },
   "outputs": [],
   "source": []
  }
 ],
 "metadata": {
  "kernelspec": {
   "display_name": "Python 3",
   "language": "python",
   "name": "python3"
  },
  "language_info": {
   "codemirror_mode": {
    "name": "ipython",
    "version": 3
   },
   "file_extension": ".py",
   "mimetype": "text/x-python",
   "name": "python",
   "nbconvert_exporter": "python",
   "pygments_lexer": "ipython3",
   "version": "3.7.6"
  },
  "papermill": {
   "duration": 46.842841,
   "end_time": "2020-08-17T14:21:30.748832",
   "environment_variables": {},
   "exception": null,
   "input_path": "__notebook__.ipynb",
   "output_path": "__notebook__.ipynb",
   "parameters": {},
   "start_time": "2020-08-17T14:20:43.905991",
   "version": "2.1.0"
  }
 },
 "nbformat": 4,
 "nbformat_minor": 4
}
